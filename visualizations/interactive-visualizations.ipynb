{
 "cells": [
  {
   "cell_type": "code",
   "execution_count": 1,
   "id": "7435991c",
   "metadata": {},
   "outputs": [],
   "source": [
    "import sys\n",
    "!{sys.executable} -m pip install --upgrade nbformat>=5.0.0\n",
    "sys.path.append('../')\n",
    "\n",
    "import numpy as np\n",
    "import seaborn as sb\n",
    "import matplotlib as mb\n",
    "import matplotlib.pyplot as plt\n",
    "import plotly as pl\n",
    "import plotly.express as px\n",
    "import plotly.graph_objects as go\n",
    "from plotly.subplots import make_subplots\n",
    "import pandas as pd\n",
    "import sklearn as sk\n",
    "from sklearn.preprocessing import FunctionTransformer\n",
    "from sklearn.pipeline import Pipeline\n",
    "from sklearn.compose import ColumnTransformer\n",
    "from sklearn.preprocessing import StandardScaler, OneHotEncoder\n",
    "import feature_engine as fe\n",
    "import sys\n",
    "from assets.transformers import pipeline, scaling_transformer"
   ]
  },
  {
   "cell_type": "code",
   "execution_count": 2,
   "id": "61061f9f",
   "metadata": {},
   "outputs": [
    {
     "data": {
      "text/html": [
       "<div>\n",
       "<style scoped>\n",
       "    .dataframe tbody tr th:only-of-type {\n",
       "        vertical-align: middle;\n",
       "    }\n",
       "\n",
       "    .dataframe tbody tr th {\n",
       "        vertical-align: top;\n",
       "    }\n",
       "\n",
       "    .dataframe thead th {\n",
       "        text-align: right;\n",
       "    }\n",
       "</style>\n",
       "<table border=\"1\" class=\"dataframe\">\n",
       "  <thead>\n",
       "    <tr style=\"text-align: right;\">\n",
       "      <th></th>\n",
       "      <th>Customer_Status</th>\n",
       "      <th>Age</th>\n",
       "      <th>Gender</th>\n",
       "      <th>Income_Level</th>\n",
       "      <th>Tenure_Months</th>\n",
       "      <th>Inactive_Months_In_Last_12</th>\n",
       "      <th>Credit_Limit</th>\n",
       "      <th>Total_Trans_Amount</th>\n",
       "      <th>Total_Trans_Count</th>\n",
       "      <th>Avg_Utilization_Ratio</th>\n",
       "    </tr>\n",
       "  </thead>\n",
       "  <tbody>\n",
       "    <tr>\n",
       "      <th>0</th>\n",
       "      <td>Existing Customer</td>\n",
       "      <td>41</td>\n",
       "      <td>F</td>\n",
       "      <td>Unknown</td>\n",
       "      <td>30</td>\n",
       "      <td>1</td>\n",
       "      <td>5417.0</td>\n",
       "      <td>1768</td>\n",
       "      <td>56</td>\n",
       "      <td>0.35</td>\n",
       "    </tr>\n",
       "    <tr>\n",
       "      <th>1</th>\n",
       "      <td>Attrited Customer</td>\n",
       "      <td>60</td>\n",
       "      <td>M</td>\n",
       "      <td>$40K - $60K</td>\n",
       "      <td>47</td>\n",
       "      <td>1</td>\n",
       "      <td>3735.0</td>\n",
       "      <td>8193</td>\n",
       "      <td>66</td>\n",
       "      <td>0.32</td>\n",
       "    </tr>\n",
       "    <tr>\n",
       "      <th>2</th>\n",
       "      <td>Existing Customer</td>\n",
       "      <td>47</td>\n",
       "      <td>M</td>\n",
       "      <td>Less than $40K</td>\n",
       "      <td>34</td>\n",
       "      <td>1</td>\n",
       "      <td>8390.0</td>\n",
       "      <td>8316</td>\n",
       "      <td>92</td>\n",
       "      <td>0.00</td>\n",
       "    </tr>\n",
       "    <tr>\n",
       "      <th>3</th>\n",
       "      <td>Existing Customer</td>\n",
       "      <td>44</td>\n",
       "      <td>M</td>\n",
       "      <td>$60K - $80K</td>\n",
       "      <td>37</td>\n",
       "      <td>2</td>\n",
       "      <td>1682.0</td>\n",
       "      <td>3309</td>\n",
       "      <td>67</td>\n",
       "      <td>0.55</td>\n",
       "    </tr>\n",
       "    <tr>\n",
       "      <th>4</th>\n",
       "      <td>Existing Customer</td>\n",
       "      <td>47</td>\n",
       "      <td>F</td>\n",
       "      <td>Less than $40K</td>\n",
       "      <td>36</td>\n",
       "      <td>2</td>\n",
       "      <td>2500.0</td>\n",
       "      <td>4265</td>\n",
       "      <td>87</td>\n",
       "      <td>0.47</td>\n",
       "    </tr>\n",
       "    <tr>\n",
       "      <th>...</th>\n",
       "      <td>...</td>\n",
       "      <td>...</td>\n",
       "      <td>...</td>\n",
       "      <td>...</td>\n",
       "      <td>...</td>\n",
       "      <td>...</td>\n",
       "      <td>...</td>\n",
       "      <td>...</td>\n",
       "      <td>...</td>\n",
       "      <td>...</td>\n",
       "    </tr>\n",
       "    <tr>\n",
       "      <th>191</th>\n",
       "      <td>Existing Customer</td>\n",
       "      <td>31</td>\n",
       "      <td>M</td>\n",
       "      <td>$40K - $60K</td>\n",
       "      <td>22</td>\n",
       "      <td>1</td>\n",
       "      <td>9096.0</td>\n",
       "      <td>2318</td>\n",
       "      <td>54</td>\n",
       "      <td>0.00</td>\n",
       "    </tr>\n",
       "    <tr>\n",
       "      <th>192</th>\n",
       "      <td>Existing Customer</td>\n",
       "      <td>50</td>\n",
       "      <td>F</td>\n",
       "      <td>Less than $40K</td>\n",
       "      <td>38</td>\n",
       "      <td>3</td>\n",
       "      <td>2775.0</td>\n",
       "      <td>4608</td>\n",
       "      <td>84</td>\n",
       "      <td>0.53</td>\n",
       "    </tr>\n",
       "    <tr>\n",
       "      <th>193</th>\n",
       "      <td>Existing Customer</td>\n",
       "      <td>38</td>\n",
       "      <td>F</td>\n",
       "      <td>Less than $40K</td>\n",
       "      <td>29</td>\n",
       "      <td>3</td>\n",
       "      <td>3590.0</td>\n",
       "      <td>1472</td>\n",
       "      <td>37</td>\n",
       "      <td>0.54</td>\n",
       "    </tr>\n",
       "    <tr>\n",
       "      <th>194</th>\n",
       "      <td>Attrited Customer</td>\n",
       "      <td>39</td>\n",
       "      <td>F</td>\n",
       "      <td>$40K - $60K</td>\n",
       "      <td>31</td>\n",
       "      <td>3</td>\n",
       "      <td>3333.0</td>\n",
       "      <td>3348</td>\n",
       "      <td>50</td>\n",
       "      <td>0.56</td>\n",
       "    </tr>\n",
       "    <tr>\n",
       "      <th>195</th>\n",
       "      <td>Attrited Customer</td>\n",
       "      <td>33</td>\n",
       "      <td>F</td>\n",
       "      <td>Less than $40K</td>\n",
       "      <td>24</td>\n",
       "      <td>2</td>\n",
       "      <td>1806.0</td>\n",
       "      <td>2833</td>\n",
       "      <td>43</td>\n",
       "      <td>0.00</td>\n",
       "    </tr>\n",
       "  </tbody>\n",
       "</table>\n",
       "<p>196 rows × 10 columns</p>\n",
       "</div>"
      ],
      "text/plain": [
       "       Customer_Status  Age Gender    Income_Level  Tenure_Months  \\\n",
       "0    Existing Customer   41      F         Unknown             30   \n",
       "1    Attrited Customer   60      M     $40K - $60K             47   \n",
       "2    Existing Customer   47      M  Less than $40K             34   \n",
       "3    Existing Customer   44      M     $60K - $80K             37   \n",
       "4    Existing Customer   47      F  Less than $40K             36   \n",
       "..                 ...  ...    ...             ...            ...   \n",
       "191  Existing Customer   31      M     $40K - $60K             22   \n",
       "192  Existing Customer   50      F  Less than $40K             38   \n",
       "193  Existing Customer   38      F  Less than $40K             29   \n",
       "194  Attrited Customer   39      F     $40K - $60K             31   \n",
       "195  Attrited Customer   33      F  Less than $40K             24   \n",
       "\n",
       "     Inactive_Months_In_Last_12  Credit_Limit  Total_Trans_Amount  \\\n",
       "0                             1        5417.0                1768   \n",
       "1                             1        3735.0                8193   \n",
       "2                             1        8390.0                8316   \n",
       "3                             2        1682.0                3309   \n",
       "4                             2        2500.0                4265   \n",
       "..                          ...           ...                 ...   \n",
       "191                           1        9096.0                2318   \n",
       "192                           3        2775.0                4608   \n",
       "193                           3        3590.0                1472   \n",
       "194                           3        3333.0                3348   \n",
       "195                           2        1806.0                2833   \n",
       "\n",
       "     Total_Trans_Count  Avg_Utilization_Ratio  \n",
       "0                   56                   0.35  \n",
       "1                   66                   0.32  \n",
       "2                   92                   0.00  \n",
       "3                   67                   0.55  \n",
       "4                   87                   0.47  \n",
       "..                 ...                    ...  \n",
       "191                 54                   0.00  \n",
       "192                 84                   0.53  \n",
       "193                 37                   0.54  \n",
       "194                 50                   0.56  \n",
       "195                 43                   0.00  \n",
       "\n",
       "[196 rows x 10 columns]"
      ]
     },
     "execution_count": 2,
     "metadata": {},
     "output_type": "execute_result"
    }
   ],
   "source": [
    "bc = pd.read_csv(\"../assets/processed-bank-churners.csv\")\n",
    "bc"
   ]
  },
  {
   "cell_type": "code",
   "execution_count": 3,
   "id": "b9eeafc4",
   "metadata": {},
   "outputs": [
    {
     "ename": "SyntaxError",
     "evalue": "invalid syntax (1990334511.py, line 1)",
     "output_type": "error",
     "traceback": [
      "  \u001b[36mCell\u001b[39m\u001b[36m \u001b[39m\u001b[32mIn[3]\u001b[39m\u001b[32m, line 1\u001b[39m\n\u001b[31m    \u001b[39m\u001b[31mI want an interactive visualisation with plotly that plots usage against (last column), against credit limit and finally against customer status\u001b[39m\n      ^\n\u001b[31mSyntaxError\u001b[39m\u001b[31m:\u001b[39m invalid syntax\n"
     ]
    }
   ],
   "source": [
    "I want an interactive visualisation with plotly that plots usage against (last column), against credit limit and finally against customer status"
   ]
  },
  {
   "cell_type": "code",
   "execution_count": 4,
   "id": "8bbe4f37",
   "metadata": {},
   "outputs": [
    {
     "data": {
      "application/vnd.plotly.v1+json": {
       "config": {
        "plotlyServerURL": "https://plot.ly"
       },
       "data": [
        {
         "hovertemplate": "Customer_Status=Existing Customer<br>Credit Limit ($)=%{marker.size}<br>Usage=%{y}<br>Customer Age=%{z}<extra></extra>",
         "legendgroup": "Existing Customer",
         "marker": {
          "color": "blue",
          "size": {
           "bdata": "AAAAAAAptUAAAAAAAGPAQAAAAAAASJpAAAAAAACIo0AAAAAAAGCkQAAAAAAAOK5AAAAAAACotUAAAAAAALihQAAAAAAAaJ5AAAAAAAA+t0AAAAAAACSbQAAAAAAAvKBAAAAAAACaxUAAAAAAAD6yQAAAAAAADMtAAAAAAAA6oEAzMzMzM3mWQAAAAAAA9LJAAAAAAABovEAAAAAAgEjKQAAAAAAA7KZAAAAAAACgnUAAAAAAgMHTQAAAAAAAAcFAAAAAAABhzkAAAAAAACDHQAAAAAAAd7lAAAAAAAC0vEAAAAAAACrCQAAAAACAFsZAAAAAAADIzUAAAAAAAHioQAAAAAAAuq5AAAAAAABdskAAAAAAAO6yQAAAAAAAVJlAAAAAAADXtEAAAAAAAPa0QAAAAAAAQLRAAAAAAACW00AAAAAAAK+zQAAAAAAAXJpAMzMzMzN5lkAAAAAAgDHRQAAAAAAAYKBAAAAAAAAxuEAAAAAAAMq/QAAAAACAfMNAAAAAAACMoEAAAAAAAFKqQAAAAAAA+qZAAAAAAACKpkAAAAAAAHG+QAAAAAAAgKhAAAAAAABioEAAAAAAAFnHQAAAAAAACKBAAAAAAACVsEAAAAAAwJ/QQAAAAAAAPqlAAAAAAAC8rkAAAAAAAPihQAAAAAAA9r5AAAAAAIApykAAAAAAAEbAQAAAAAAANLdAAAAAAIAY0UAAAAAAABjFQAAAAAAAEslAAAAAAACOukAAAAAAAESfQAAAAAAAIqRAAAAAAAAsqUAzMzMzM3mWQAAAAAAAzrNAAAAAAABw1UAAAAAAgMfRQAAAAAAAA7VAAAAAAAD6o0AAAAAAALqmQAAAAACATcJAMzMzMzN5lkAAAAAAgOXKQAAAAAAABqpAAAAAAIAEzEAAAAAAAESYQAAAAACAksFAAAAAAADMpkAAAAAAAEi5QAAAAACA6dJAAAAAAADipEAAAAAAAJWyQAAAAAAACtBAMzMzMzN5lkAzMzMzM3mWQAAAAAAAVM1AAAAAAABsvkAAAAAAAMSfQAAAAAAAIrZAAAAAAADqoEAAAAAAAEm+QAAAAAAA7qlAAAAAAABKo0AAAAAAAPKsQAAAAAAAqs5AAAAAAACwnkAAAAAAAFCxQAAAAAAAaK1AAAAAAADyokAzMzMzM3mWQAAAAAAAMrJAAAAAAABYsUAAAAAAwD3RQAAAAAAA/JxAAAAAAAC0o0AAAAAAQEPUQDMzMzMzeZZAAAAAAAAEpUAAAAAAANanQAAAAAAA9qNAAAAAAMBM00AAAAAAgELIQAAAAAAAyKtAAAAAAABeokAAAAAAAHnAQAAAAAAAbKhAAAAAAABmo0AAAAAAAMq5QAAAAAAAV7RAAAAAAADGs0AAAAAAAMnEQAAAAAAABJ1AAAAAAABlw0AAAAAAAMSsQAAAAAAAdqBAAAAAAACipEAAAAAAAIiZQAAAAAAAcJhAAAAAAAAtsEAAAAAAAIieQAAAAAAAHsNAAAAAAADGqUAAAAAAAOqhQAAAAABAqdFAAAAAAAD+pEAzMzMzM3mWQAAAAAAAzJxAAAAAAADslkAAAAAAAFykQAAAAAAAsL1AAAAAAABspkAAAAAAACazQAAAAACAt8RAAAAAAACerkAAAAAAAKHAQAAAAACA9sBAAAAAAAAhsEAAAAAAAMTBQAAAAAAArqVAAAAAAAAMrEA=",
           "dtype": "f8"
          },
          "sizemode": "area",
          "sizeref": 59.9525,
          "symbol": "circle"
         },
         "mode": "markers",
         "name": "Existing Customer",
         "scene": "scene",
         "showlegend": true,
         "type": "scatter3d",
         "x": {
          "bdata": "AAAAAAAptUAAAAAAAGPAQAAAAAAASJpAAAAAAACIo0AAAAAAAGCkQAAAAAAAOK5AAAAAAACotUAAAAAAALihQAAAAAAAaJ5AAAAAAAA+t0AAAAAAACSbQAAAAAAAvKBAAAAAAACaxUAAAAAAAD6yQAAAAAAADMtAAAAAAAA6oEAzMzMzM3mWQAAAAAAA9LJAAAAAAABovEAAAAAAgEjKQAAAAAAA7KZAAAAAAACgnUAAAAAAgMHTQAAAAAAAAcFAAAAAAABhzkAAAAAAACDHQAAAAAAAd7lAAAAAAAC0vEAAAAAAACrCQAAAAACAFsZAAAAAAADIzUAAAAAAAHioQAAAAAAAuq5AAAAAAABdskAAAAAAAO6yQAAAAAAAVJlAAAAAAADXtEAAAAAAAPa0QAAAAAAAQLRAAAAAAACW00AAAAAAAK+zQAAAAAAAXJpAMzMzMzN5lkAAAAAAgDHRQAAAAAAAYKBAAAAAAAAxuEAAAAAAAMq/QAAAAACAfMNAAAAAAACMoEAAAAAAAFKqQAAAAAAA+qZAAAAAAACKpkAAAAAAAHG+QAAAAAAAgKhAAAAAAABioEAAAAAAAFnHQAAAAAAACKBAAAAAAACVsEAAAAAAwJ/QQAAAAAAAPqlAAAAAAAC8rkAAAAAAAPihQAAAAAAA9r5AAAAAAIApykAAAAAAAEbAQAAAAAAANLdAAAAAAIAY0UAAAAAAABjFQAAAAAAAEslAAAAAAACOukAAAAAAAESfQAAAAAAAIqRAAAAAAAAsqUAzMzMzM3mWQAAAAAAAzrNAAAAAAABw1UAAAAAAgMfRQAAAAAAAA7VAAAAAAAD6o0AAAAAAALqmQAAAAACATcJAMzMzMzN5lkAAAAAAgOXKQAAAAAAABqpAAAAAAIAEzEAAAAAAAESYQAAAAACAksFAAAAAAADMpkAAAAAAAEi5QAAAAACA6dJAAAAAAADipEAAAAAAAJWyQAAAAAAACtBAMzMzMzN5lkAzMzMzM3mWQAAAAAAAVM1AAAAAAABsvkAAAAAAAMSfQAAAAAAAIrZAAAAAAADqoEAAAAAAAEm+QAAAAAAA7qlAAAAAAABKo0AAAAAAAPKsQAAAAAAAqs5AAAAAAACwnkAAAAAAAFCxQAAAAAAAaK1AAAAAAADyokAzMzMzM3mWQAAAAAAAMrJAAAAAAABYsUAAAAAAwD3RQAAAAAAA/JxAAAAAAAC0o0AAAAAAQEPUQDMzMzMzeZZAAAAAAAAEpUAAAAAAANanQAAAAAAA9qNAAAAAAMBM00AAAAAAgELIQAAAAAAAyKtAAAAAAABeokAAAAAAAHnAQAAAAAAAbKhAAAAAAABmo0AAAAAAAMq5QAAAAAAAV7RAAAAAAADGs0AAAAAAAMnEQAAAAAAABJ1AAAAAAABlw0AAAAAAAMSsQAAAAAAAdqBAAAAAAACipEAAAAAAAIiZQAAAAAAAcJhAAAAAAAAtsEAAAAAAAIieQAAAAAAAHsNAAAAAAADGqUAAAAAAAOqhQAAAAABAqdFAAAAAAAD+pEAzMzMzM3mWQAAAAAAAzJxAAAAAAADslkAAAAAAAFykQAAAAAAAsL1AAAAAAABspkAAAAAAACazQAAAAACAt8RAAAAAAACerkAAAAAAAKHAQAAAAACA9sBAAAAAAAAhsEAAAAAAAMTBQAAAAAAArqVAAAAAAAAMrEA=",
          "dtype": "f8"
         },
         "y": {
          "bdata": "ZmZmZmZm1j8AAAAAAAAAAJqZmZmZmeE/FK5H4XoU3j8UrkfhehTmPwrXo3A9Ctc/4XoUrkfhyj+PwvUoXI/SP4XrUbgeheM/AAAAAAAAAAAUrkfhehTeP3sUrkfheuQ/MzMzMzMzwz8AAAAAAAAAAJqZmZmZmbk/cT0K16Nw5T8AAAAAAAAAAK5H4XoUrtc/7FG4HoXr0T97FK5H4Xq0P4XrUbgehes/cT0K16Nw7T97FK5H4XqkP5qZmZmZmbk/exSuR+F6xD8pXI/C9Si8Px+F61G4HtU/mpmZmZmZyT97FK5H4Xq0PwAAAAAAAAAAexSuR+F6tD+4HoXrUbjmPylcj8L1KMw/AAAAAAAA0D9SuB6F61HgP3sUrkfheuQ/pHA9Ctej0D+4HoXrUbjOPwrXo3A9Ctc/exSuR+F6tD9cj8L1KFzfP1K4HoXrUeg/AAAAAAAAAAB7FK5H4Xq0P4XrUbgeheM/KVyPwvUovD+kcD0K16PQP+F6FK5H4co/7FG4HoXr4T8pXI/C9SjMPylcj8L1KMw/AAAAAAAA4D8pXI/C9SjMP83MzMzMzNw/MzMzMzMz4z8AAAAAAAAAAAAAAAAAAAAAhetRuB6F2z+4HoXrUbiuPxSuR+F6FOY/exSuR+F65D+PwvUoXI/qP6RwPQrXo8A/uB6F61G4vj8AAAAAAAAAAArXo3A9Csc/KVyPwvUovD/sUbgehevBP3sUrkfherQ/7FG4HoXrwT8K16NwPQrnP2ZmZmZmZuY/AAAAAAAAAAAAAAAAAAAAAAAAAAAAAAAA7FG4HoXrsT8K16NwPQq3PwrXo3A9Csc/9ihcj8L16D89CtejcD3aP3sUrkfhesQ/PQrXo3A96j8K16NwPQrHP8P1KFyPwuU/7FG4HoXrsT8UrkfhehTeP3sUrkfherQ/ZmZmZmZm5j8fhetRuB7VP3sUrkfherQ/uB6F61G43j/hehSuR+HaP3sUrkfherQ/AAAAAAAAAAAAAAAAAAAAAKRwPQrXo8A/AAAAAAAAAADNzMzMzMzsPwAAAAAAANA/exSuR+F65D9I4XoUrkfRP+xRuB6F69E/rkfhehSu5z+PwvUoXI/iP3sUrkfherQ/AAAAAAAAAAAzMzMzMzPTPxSuR+F6FN4/j8L1KFyP4j8AAAAAAAAAAKRwPQrXo8A/AAAAAAAAAAAAAAAAAAAAAFyPwvUoXN8/w/UoXI/C5T+amZmZmZm5P1K4HoXrUeA/uB6F61G45j+PwvUoXI/iP0jhehSuR9E/pHA9CtejwD+amZmZmZnJP4XrUbgeheM/PQrXo3A94j+kcD0K16PQP5qZmZmZmek/PQrXo3A96j8AAAAAAAAAAClcj8L1KMw/H4XrUbge1T97FK5H4XrEP+xRuB6F6+E/AAAAAAAAAAAAAAAAAAAAAAAAAAAAAAAAuB6F61G43j/NzMzMzMzsPwAAAAAAAAAAw/UoXI/C1T89CtejcD3aPwrXo3A9Csc/UrgehetR6D89CtejcD3iP3sUrkfheqQ/XI/C9Shc3z8AAAAAAAAAAFyPwvUoXO8/AAAAAAAAAABSuB6F61HoP+F6FK5H4co/mpmZmZmZ6T9SuB6F61HgP7gehetRuM4/4XoUrkfh2j+4HoXrUbjOPwAAAAAAAAAAAAAAAAAAAAAAAAAAAAAAAPYoXI/C9eA/SOF6FK5H4T8=",
          "dtype": "f8"
         },
         "z": {
          "bdata": "KS8sLyU7LzMtLzkrPCI1JTUsNTkqLiQzNi4zPi8lNTgrLTIeNjg5KDEsLygxIUEtIygzNS45MDMtIi40ODAsIi8mKisxJycoJjI4JTE3GikhNSs6KRssMywqMygxGi8xLCImMjU1JzQkJCkrJi42Ni8rNSkvKTEtMTouKCcuLik0MzAzMy0sOC8xLDQ6LC0yKS4wNy0tPisqKDEsLh8yJg==",
          "dtype": "i1"
         }
        },
        {
         "hovertemplate": "Customer_Status=Attrited Customer<br>Credit Limit ($)=%{marker.size}<br>Usage=%{y}<br>Customer Age=%{z}<extra></extra>",
         "legendgroup": "Attrited Customer",
         "marker": {
          "color": "red",
          "size": {
           "bdata": "AAAAAAAurUAAAAAAALSsQDMzMzMzeZZAAAAAAACMlkAAAAAAAOS7QAAAAACAUdNAAAAAAACmqkAAAAAAQGvXQDMzMzMzeZZAAAAAAABUl0AAAAAAACSnQAAAAAAAgJtAMzMzMzN5lkAAAAAAAFSZQAAAAAAA68xAAAAAAACDskAAAAAAAO6hQAAAAAAAEKNAAAAAAABYoEAAAAAAgHvUQAAAAAAAWKNAAAAAAAAaokAAAAAAAFyZQAAAAAAAJJxAAAAAAAAXsUAAAAAAAK2/QAAAAAAAVJ1AAAAAAABgqEAAAAAAAHyeQAAAAAAAWqdAAAAAAACKu0AAAAAAAGrNQAAAAAAA7sBAAAAAAACaskAAAAAAAAqqQAAAAAAAOJxA",
           "dtype": "f8"
          },
          "sizemode": "area",
          "sizeref": 59.9525,
          "symbol": "circle"
         },
         "mode": "markers",
         "name": "Attrited Customer",
         "scene": "scene",
         "showlegend": true,
         "type": "scatter3d",
         "x": {
          "bdata": "AAAAAAAurUAAAAAAALSsQDMzMzMzeZZAAAAAAACMlkAAAAAAAOS7QAAAAACAUdNAAAAAAACmqkAAAAAAQGvXQDMzMzMzeZZAAAAAAABUl0AAAAAAACSnQAAAAAAAgJtAMzMzMzN5lkAAAAAAAFSZQAAAAAAA68xAAAAAAACDskAAAAAAAO6hQAAAAAAAEKNAAAAAAABYoEAAAAAAgHvUQAAAAAAAWKNAAAAAAAAaokAAAAAAAFyZQAAAAAAAJJxAAAAAAAAXsUAAAAAAAK2/QAAAAAAAVJ1AAAAAAABgqEAAAAAAAHyeQAAAAAAAWqdAAAAAAACKu0AAAAAAAGrNQAAAAAAA7sBAAAAAAACaskAAAAAAAAqqQAAAAAAAOJxA",
          "dtype": "f8"
         },
         "y": {
          "bdata": "exSuR+F61D/D9Shcj8LlPwAAAAAAAAAAAAAAAAAAAAAAAAAAAAAAAHsUrkfheqQ/hetRuB6F2z97FK5H4XqUPwAAAAAAAAAAAAAAAAAAAAAzMzMzMzPrPwAAAAAAAAAAAAAAAAAAAAAK16NwPQrXP8P1KFyPwsU/AAAAAAAAAAAAAAAAAAAAAOF6FK5H4co/AAAAAAAAAAAAAAAAAAAAAB+F61G4Hu0/AAAAAAAAAAAAAAAAAAAAAArXo3A9Csc/AAAAAAAAAAAAAAAAAAAAAHsUrkfheuQ/7FG4HoXr6T8AAAAAAAAAAJqZmZmZmek/7FG4HoXrwT8AAAAAAAAAAAAAAAAAAAAAAAAAAAAAAADsUbgehevhPwAAAAAAAAAA",
          "dtype": "f8"
         },
         "z": {
          "bdata": "PDgmKiEpLSsxJCs9NSYrIDo2JzQqNB8uOy8sLSwmMi4qMych",
          "dtype": "i1"
         }
        }
       ],
       "layout": {
        "height": 600,
        "legend": {
         "itemsizing": "constant",
         "title": {
          "text": "Customer_Status"
         },
         "tracegroupgap": 0
        },
        "scene": {
         "domain": {
          "x": [
           0,
           1
          ],
          "y": [
           0,
           1
          ]
         },
         "xaxis": {
          "title": {
           "text": "Credit Limit ($)"
          }
         },
         "yaxis": {
          "title": {
           "text": "Usage"
          }
         },
         "zaxis": {
          "title": {
           "text": "Age"
          }
         }
        },
        "template": {
         "data": {
          "bar": [
           {
            "error_x": {
             "color": "#2a3f5f"
            },
            "error_y": {
             "color": "#2a3f5f"
            },
            "marker": {
             "line": {
              "color": "#E5ECF6",
              "width": 0.5
             },
             "pattern": {
              "fillmode": "overlay",
              "size": 10,
              "solidity": 0.2
             }
            },
            "type": "bar"
           }
          ],
          "barpolar": [
           {
            "marker": {
             "line": {
              "color": "#E5ECF6",
              "width": 0.5
             },
             "pattern": {
              "fillmode": "overlay",
              "size": 10,
              "solidity": 0.2
             }
            },
            "type": "barpolar"
           }
          ],
          "carpet": [
           {
            "aaxis": {
             "endlinecolor": "#2a3f5f",
             "gridcolor": "white",
             "linecolor": "white",
             "minorgridcolor": "white",
             "startlinecolor": "#2a3f5f"
            },
            "baxis": {
             "endlinecolor": "#2a3f5f",
             "gridcolor": "white",
             "linecolor": "white",
             "minorgridcolor": "white",
             "startlinecolor": "#2a3f5f"
            },
            "type": "carpet"
           }
          ],
          "choropleth": [
           {
            "colorbar": {
             "outlinewidth": 0,
             "ticks": ""
            },
            "type": "choropleth"
           }
          ],
          "contour": [
           {
            "colorbar": {
             "outlinewidth": 0,
             "ticks": ""
            },
            "colorscale": [
             [
              0,
              "#0d0887"
             ],
             [
              0.1111111111111111,
              "#46039f"
             ],
             [
              0.2222222222222222,
              "#7201a8"
             ],
             [
              0.3333333333333333,
              "#9c179e"
             ],
             [
              0.4444444444444444,
              "#bd3786"
             ],
             [
              0.5555555555555556,
              "#d8576b"
             ],
             [
              0.6666666666666666,
              "#ed7953"
             ],
             [
              0.7777777777777778,
              "#fb9f3a"
             ],
             [
              0.8888888888888888,
              "#fdca26"
             ],
             [
              1,
              "#f0f921"
             ]
            ],
            "type": "contour"
           }
          ],
          "contourcarpet": [
           {
            "colorbar": {
             "outlinewidth": 0,
             "ticks": ""
            },
            "type": "contourcarpet"
           }
          ],
          "heatmap": [
           {
            "colorbar": {
             "outlinewidth": 0,
             "ticks": ""
            },
            "colorscale": [
             [
              0,
              "#0d0887"
             ],
             [
              0.1111111111111111,
              "#46039f"
             ],
             [
              0.2222222222222222,
              "#7201a8"
             ],
             [
              0.3333333333333333,
              "#9c179e"
             ],
             [
              0.4444444444444444,
              "#bd3786"
             ],
             [
              0.5555555555555556,
              "#d8576b"
             ],
             [
              0.6666666666666666,
              "#ed7953"
             ],
             [
              0.7777777777777778,
              "#fb9f3a"
             ],
             [
              0.8888888888888888,
              "#fdca26"
             ],
             [
              1,
              "#f0f921"
             ]
            ],
            "type": "heatmap"
           }
          ],
          "histogram": [
           {
            "marker": {
             "pattern": {
              "fillmode": "overlay",
              "size": 10,
              "solidity": 0.2
             }
            },
            "type": "histogram"
           }
          ],
          "histogram2d": [
           {
            "colorbar": {
             "outlinewidth": 0,
             "ticks": ""
            },
            "colorscale": [
             [
              0,
              "#0d0887"
             ],
             [
              0.1111111111111111,
              "#46039f"
             ],
             [
              0.2222222222222222,
              "#7201a8"
             ],
             [
              0.3333333333333333,
              "#9c179e"
             ],
             [
              0.4444444444444444,
              "#bd3786"
             ],
             [
              0.5555555555555556,
              "#d8576b"
             ],
             [
              0.6666666666666666,
              "#ed7953"
             ],
             [
              0.7777777777777778,
              "#fb9f3a"
             ],
             [
              0.8888888888888888,
              "#fdca26"
             ],
             [
              1,
              "#f0f921"
             ]
            ],
            "type": "histogram2d"
           }
          ],
          "histogram2dcontour": [
           {
            "colorbar": {
             "outlinewidth": 0,
             "ticks": ""
            },
            "colorscale": [
             [
              0,
              "#0d0887"
             ],
             [
              0.1111111111111111,
              "#46039f"
             ],
             [
              0.2222222222222222,
              "#7201a8"
             ],
             [
              0.3333333333333333,
              "#9c179e"
             ],
             [
              0.4444444444444444,
              "#bd3786"
             ],
             [
              0.5555555555555556,
              "#d8576b"
             ],
             [
              0.6666666666666666,
              "#ed7953"
             ],
             [
              0.7777777777777778,
              "#fb9f3a"
             ],
             [
              0.8888888888888888,
              "#fdca26"
             ],
             [
              1,
              "#f0f921"
             ]
            ],
            "type": "histogram2dcontour"
           }
          ],
          "mesh3d": [
           {
            "colorbar": {
             "outlinewidth": 0,
             "ticks": ""
            },
            "type": "mesh3d"
           }
          ],
          "parcoords": [
           {
            "line": {
             "colorbar": {
              "outlinewidth": 0,
              "ticks": ""
             }
            },
            "type": "parcoords"
           }
          ],
          "pie": [
           {
            "automargin": true,
            "type": "pie"
           }
          ],
          "scatter": [
           {
            "fillpattern": {
             "fillmode": "overlay",
             "size": 10,
             "solidity": 0.2
            },
            "type": "scatter"
           }
          ],
          "scatter3d": [
           {
            "line": {
             "colorbar": {
              "outlinewidth": 0,
              "ticks": ""
             }
            },
            "marker": {
             "colorbar": {
              "outlinewidth": 0,
              "ticks": ""
             }
            },
            "type": "scatter3d"
           }
          ],
          "scattercarpet": [
           {
            "marker": {
             "colorbar": {
              "outlinewidth": 0,
              "ticks": ""
             }
            },
            "type": "scattercarpet"
           }
          ],
          "scattergeo": [
           {
            "marker": {
             "colorbar": {
              "outlinewidth": 0,
              "ticks": ""
             }
            },
            "type": "scattergeo"
           }
          ],
          "scattergl": [
           {
            "marker": {
             "colorbar": {
              "outlinewidth": 0,
              "ticks": ""
             }
            },
            "type": "scattergl"
           }
          ],
          "scattermap": [
           {
            "marker": {
             "colorbar": {
              "outlinewidth": 0,
              "ticks": ""
             }
            },
            "type": "scattermap"
           }
          ],
          "scattermapbox": [
           {
            "marker": {
             "colorbar": {
              "outlinewidth": 0,
              "ticks": ""
             }
            },
            "type": "scattermapbox"
           }
          ],
          "scatterpolar": [
           {
            "marker": {
             "colorbar": {
              "outlinewidth": 0,
              "ticks": ""
             }
            },
            "type": "scatterpolar"
           }
          ],
          "scatterpolargl": [
           {
            "marker": {
             "colorbar": {
              "outlinewidth": 0,
              "ticks": ""
             }
            },
            "type": "scatterpolargl"
           }
          ],
          "scatterternary": [
           {
            "marker": {
             "colorbar": {
              "outlinewidth": 0,
              "ticks": ""
             }
            },
            "type": "scatterternary"
           }
          ],
          "surface": [
           {
            "colorbar": {
             "outlinewidth": 0,
             "ticks": ""
            },
            "colorscale": [
             [
              0,
              "#0d0887"
             ],
             [
              0.1111111111111111,
              "#46039f"
             ],
             [
              0.2222222222222222,
              "#7201a8"
             ],
             [
              0.3333333333333333,
              "#9c179e"
             ],
             [
              0.4444444444444444,
              "#bd3786"
             ],
             [
              0.5555555555555556,
              "#d8576b"
             ],
             [
              0.6666666666666666,
              "#ed7953"
             ],
             [
              0.7777777777777778,
              "#fb9f3a"
             ],
             [
              0.8888888888888888,
              "#fdca26"
             ],
             [
              1,
              "#f0f921"
             ]
            ],
            "type": "surface"
           }
          ],
          "table": [
           {
            "cells": {
             "fill": {
              "color": "#EBF0F8"
             },
             "line": {
              "color": "white"
             }
            },
            "header": {
             "fill": {
              "color": "#C8D4E3"
             },
             "line": {
              "color": "white"
             }
            },
            "type": "table"
           }
          ]
         },
         "layout": {
          "annotationdefaults": {
           "arrowcolor": "#2a3f5f",
           "arrowhead": 0,
           "arrowwidth": 1
          },
          "autotypenumbers": "strict",
          "coloraxis": {
           "colorbar": {
            "outlinewidth": 0,
            "ticks": ""
           }
          },
          "colorscale": {
           "diverging": [
            [
             0,
             "#8e0152"
            ],
            [
             0.1,
             "#c51b7d"
            ],
            [
             0.2,
             "#de77ae"
            ],
            [
             0.3,
             "#f1b6da"
            ],
            [
             0.4,
             "#fde0ef"
            ],
            [
             0.5,
             "#f7f7f7"
            ],
            [
             0.6,
             "#e6f5d0"
            ],
            [
             0.7,
             "#b8e186"
            ],
            [
             0.8,
             "#7fbc41"
            ],
            [
             0.9,
             "#4d9221"
            ],
            [
             1,
             "#276419"
            ]
           ],
           "sequential": [
            [
             0,
             "#0d0887"
            ],
            [
             0.1111111111111111,
             "#46039f"
            ],
            [
             0.2222222222222222,
             "#7201a8"
            ],
            [
             0.3333333333333333,
             "#9c179e"
            ],
            [
             0.4444444444444444,
             "#bd3786"
            ],
            [
             0.5555555555555556,
             "#d8576b"
            ],
            [
             0.6666666666666666,
             "#ed7953"
            ],
            [
             0.7777777777777778,
             "#fb9f3a"
            ],
            [
             0.8888888888888888,
             "#fdca26"
            ],
            [
             1,
             "#f0f921"
            ]
           ],
           "sequentialminus": [
            [
             0,
             "#0d0887"
            ],
            [
             0.1111111111111111,
             "#46039f"
            ],
            [
             0.2222222222222222,
             "#7201a8"
            ],
            [
             0.3333333333333333,
             "#9c179e"
            ],
            [
             0.4444444444444444,
             "#bd3786"
            ],
            [
             0.5555555555555556,
             "#d8576b"
            ],
            [
             0.6666666666666666,
             "#ed7953"
            ],
            [
             0.7777777777777778,
             "#fb9f3a"
            ],
            [
             0.8888888888888888,
             "#fdca26"
            ],
            [
             1,
             "#f0f921"
            ]
           ]
          },
          "colorway": [
           "#636efa",
           "#EF553B",
           "#00cc96",
           "#ab63fa",
           "#FFA15A",
           "#19d3f3",
           "#FF6692",
           "#B6E880",
           "#FF97FF",
           "#FECB52"
          ],
          "font": {
           "color": "#2a3f5f"
          },
          "geo": {
           "bgcolor": "white",
           "lakecolor": "white",
           "landcolor": "#E5ECF6",
           "showlakes": true,
           "showland": true,
           "subunitcolor": "white"
          },
          "hoverlabel": {
           "align": "left"
          },
          "hovermode": "closest",
          "mapbox": {
           "style": "light"
          },
          "paper_bgcolor": "white",
          "plot_bgcolor": "#E5ECF6",
          "polar": {
           "angularaxis": {
            "gridcolor": "white",
            "linecolor": "white",
            "ticks": ""
           },
           "bgcolor": "#E5ECF6",
           "radialaxis": {
            "gridcolor": "white",
            "linecolor": "white",
            "ticks": ""
           }
          },
          "scene": {
           "xaxis": {
            "backgroundcolor": "#E5ECF6",
            "gridcolor": "white",
            "gridwidth": 2,
            "linecolor": "white",
            "showbackground": true,
            "ticks": "",
            "zerolinecolor": "white"
           },
           "yaxis": {
            "backgroundcolor": "#E5ECF6",
            "gridcolor": "white",
            "gridwidth": 2,
            "linecolor": "white",
            "showbackground": true,
            "ticks": "",
            "zerolinecolor": "white"
           },
           "zaxis": {
            "backgroundcolor": "#E5ECF6",
            "gridcolor": "white",
            "gridwidth": 2,
            "linecolor": "white",
            "showbackground": true,
            "ticks": "",
            "zerolinecolor": "white"
           }
          },
          "shapedefaults": {
           "line": {
            "color": "#2a3f5f"
           }
          },
          "ternary": {
           "aaxis": {
            "gridcolor": "white",
            "linecolor": "white",
            "ticks": ""
           },
           "baxis": {
            "gridcolor": "white",
            "linecolor": "white",
            "ticks": ""
           },
           "bgcolor": "#E5ECF6",
           "caxis": {
            "gridcolor": "white",
            "linecolor": "white",
            "ticks": ""
           }
          },
          "title": {
           "x": 0.05
          },
          "xaxis": {
           "automargin": true,
           "gridcolor": "white",
           "linecolor": "white",
           "ticks": "",
           "title": {
            "standoff": 15
           },
           "zerolinecolor": "white",
           "zerolinewidth": 2
          },
          "yaxis": {
           "automargin": true,
           "gridcolor": "white",
           "linecolor": "white",
           "ticks": "",
           "title": {
            "standoff": 15
           },
           "zerolinecolor": "white",
           "zerolinewidth": 2
          }
         }
        },
        "title": {
         "text": "Interactive 3D: Credit Limit vs Usage vs Customer Status"
        },
        "width": 800
       }
      }
     },
     "metadata": {},
     "output_type": "display_data"
    }
   ],
   "source": [
    "fig = px.scatter_3d(bc, \n",
    "                    x=\"Credit_Limit\", \n",
    "                    y=bc.columns[-1],\n",
    "                    z=\"Age\",\n",
    "                    color=\"Customer_Status\",\n",
    "                    size=\"Credit_Limit\",\n",
    "                    title=\"Interactive 3D: Credit Limit vs Usage vs Customer Status\",\n",
    "                    labels={\n",
    "                        \"Credit_Limit\": \"Credit Limit ($)\",\n",
    "                        bc.columns[-1]: \"Usage\",\n",
    "                        \"Age\": \"Customer Age\"\n",
    "                    },\n",
    "                    color_discrete_map={\n",
    "                        \"Existing Customer\": \"blue\",\n",
    "                        \"Attrited Customer\": \"red\"\n",
    "                    })\n",
    "\n",
    "fig.update_layout(\n",
    "    scene=dict(\n",
    "        xaxis_title=\"Credit Limit ($)\",\n",
    "        yaxis_title=\"Usage\",\n",
    "        zaxis_title=\"Age\"\n",
    "    ),\n",
    "    width=800,\n",
    "    height=600\n",
    ")\n",
    "\n",
    "fig.show()"
   ]
  },
  {
   "cell_type": "code",
   "execution_count": null,
   "id": "bc513d41",
   "metadata": {},
   "outputs": [],
   "source": []
  },
  {
   "cell_type": "code",
   "execution_count": 5,
   "id": "d1858b4f",
   "metadata": {},
   "outputs": [
    {
     "data": {
      "application/vnd.plotly.v1+json": {
       "config": {
        "plotlyServerURL": "https://plot.ly"
       },
       "data": [
        {
         "marker": {
          "opacity": 0.7,
          "size": 6
         },
         "mode": "markers",
         "name": "Existing Customer",
         "type": "scatter",
         "x": {
          "bdata": "AAAAAAAptUAAAAAAAGPAQAAAAAAASJpAAAAAAACIo0AAAAAAAGCkQAAAAAAAOK5AAAAAAACotUAAAAAAALihQAAAAAAAaJ5AAAAAAAA+t0AAAAAAACSbQAAAAAAAvKBAAAAAAACaxUAAAAAAAD6yQAAAAAAADMtAAAAAAAA6oEAzMzMzM3mWQAAAAAAA9LJAAAAAAABovEAAAAAAgEjKQAAAAAAA7KZAAAAAAACgnUAAAAAAgMHTQAAAAAAAAcFAAAAAAABhzkAAAAAAACDHQAAAAAAAd7lAAAAAAAC0vEAAAAAAACrCQAAAAACAFsZAAAAAAADIzUAAAAAAAHioQAAAAAAAuq5AAAAAAABdskAAAAAAAO6yQAAAAAAAVJlAAAAAAADXtEAAAAAAAPa0QAAAAAAAQLRAAAAAAACW00AAAAAAAK+zQAAAAAAAXJpAMzMzMzN5lkAAAAAAgDHRQAAAAAAAYKBAAAAAAAAxuEAAAAAAAMq/QAAAAACAfMNAAAAAAACMoEAAAAAAAFKqQAAAAAAA+qZAAAAAAACKpkAAAAAAAHG+QAAAAAAAgKhAAAAAAABioEAAAAAAAFnHQAAAAAAACKBAAAAAAACVsEAAAAAAwJ/QQAAAAAAAPqlAAAAAAAC8rkAAAAAAAPihQAAAAAAA9r5AAAAAAIApykAAAAAAAEbAQAAAAAAANLdAAAAAAIAY0UAAAAAAABjFQAAAAAAAEslAAAAAAACOukAAAAAAAESfQAAAAAAAIqRAAAAAAAAsqUAzMzMzM3mWQAAAAAAAzrNAAAAAAABw1UAAAAAAgMfRQAAAAAAAA7VAAAAAAAD6o0AAAAAAALqmQAAAAACATcJAMzMzMzN5lkAAAAAAgOXKQAAAAAAABqpAAAAAAIAEzEAAAAAAAESYQAAAAACAksFAAAAAAADMpkAAAAAAAEi5QAAAAACA6dJAAAAAAADipEAAAAAAAJWyQAAAAAAACtBAMzMzMzN5lkAzMzMzM3mWQAAAAAAAVM1AAAAAAABsvkAAAAAAAMSfQAAAAAAAIrZAAAAAAADqoEAAAAAAAEm+QAAAAAAA7qlAAAAAAABKo0AAAAAAAPKsQAAAAAAAqs5AAAAAAACwnkAAAAAAAFCxQAAAAAAAaK1AAAAAAADyokAzMzMzM3mWQAAAAAAAMrJAAAAAAABYsUAAAAAAwD3RQAAAAAAA/JxAAAAAAAC0o0AAAAAAQEPUQDMzMzMzeZZAAAAAAAAEpUAAAAAAANanQAAAAAAA9qNAAAAAAMBM00AAAAAAgELIQAAAAAAAyKtAAAAAAABeokAAAAAAAHnAQAAAAAAAbKhAAAAAAABmo0AAAAAAAMq5QAAAAAAAV7RAAAAAAADGs0AAAAAAAMnEQAAAAAAABJ1AAAAAAABlw0AAAAAAAMSsQAAAAAAAdqBAAAAAAACipEAAAAAAAIiZQAAAAAAAcJhAAAAAAAAtsEAAAAAAAIieQAAAAAAAHsNAAAAAAADGqUAAAAAAAOqhQAAAAABAqdFAAAAAAAD+pEAzMzMzM3mWQAAAAAAAzJxAAAAAAADslkAAAAAAAFykQAAAAAAAsL1AAAAAAABspkAAAAAAACazQAAAAACAt8RAAAAAAACerkAAAAAAAKHAQAAAAACA9sBAAAAAAAAhsEAAAAAAAMTBQAAAAAAArqVAAAAAAAAMrEA=",
          "dtype": "f8"
         },
         "xaxis": "x",
         "y": {
          "bdata": "ZmZmZmZm1j8AAAAAAAAAAJqZmZmZmeE/FK5H4XoU3j8UrkfhehTmPwrXo3A9Ctc/4XoUrkfhyj+PwvUoXI/SP4XrUbgeheM/AAAAAAAAAAAUrkfhehTeP3sUrkfheuQ/MzMzMzMzwz8AAAAAAAAAAJqZmZmZmbk/cT0K16Nw5T8AAAAAAAAAAK5H4XoUrtc/7FG4HoXr0T97FK5H4Xq0P4XrUbgehes/cT0K16Nw7T97FK5H4XqkP5qZmZmZmbk/exSuR+F6xD8pXI/C9Si8Px+F61G4HtU/mpmZmZmZyT97FK5H4Xq0PwAAAAAAAAAAexSuR+F6tD+4HoXrUbjmPylcj8L1KMw/AAAAAAAA0D9SuB6F61HgP3sUrkfheuQ/pHA9Ctej0D+4HoXrUbjOPwrXo3A9Ctc/exSuR+F6tD9cj8L1KFzfP1K4HoXrUeg/AAAAAAAAAAB7FK5H4Xq0P4XrUbgeheM/KVyPwvUovD+kcD0K16PQP+F6FK5H4co/7FG4HoXr4T8pXI/C9SjMPylcj8L1KMw/AAAAAAAA4D8pXI/C9SjMP83MzMzMzNw/MzMzMzMz4z8AAAAAAAAAAAAAAAAAAAAAhetRuB6F2z+4HoXrUbiuPxSuR+F6FOY/exSuR+F65D+PwvUoXI/qP6RwPQrXo8A/uB6F61G4vj8AAAAAAAAAAArXo3A9Csc/KVyPwvUovD/sUbgehevBP3sUrkfherQ/7FG4HoXrwT8K16NwPQrnP2ZmZmZmZuY/AAAAAAAAAAAAAAAAAAAAAAAAAAAAAAAA7FG4HoXrsT8K16NwPQq3PwrXo3A9Csc/9ihcj8L16D89CtejcD3aP3sUrkfhesQ/PQrXo3A96j8K16NwPQrHP8P1KFyPwuU/7FG4HoXrsT8UrkfhehTeP3sUrkfherQ/ZmZmZmZm5j8fhetRuB7VP3sUrkfherQ/uB6F61G43j/hehSuR+HaP3sUrkfherQ/AAAAAAAAAAAAAAAAAAAAAKRwPQrXo8A/AAAAAAAAAADNzMzMzMzsPwAAAAAAANA/exSuR+F65D9I4XoUrkfRP+xRuB6F69E/rkfhehSu5z+PwvUoXI/iP3sUrkfherQ/AAAAAAAAAAAzMzMzMzPTPxSuR+F6FN4/j8L1KFyP4j8AAAAAAAAAAKRwPQrXo8A/AAAAAAAAAAAAAAAAAAAAAFyPwvUoXN8/w/UoXI/C5T+amZmZmZm5P1K4HoXrUeA/uB6F61G45j+PwvUoXI/iP0jhehSuR9E/pHA9CtejwD+amZmZmZnJP4XrUbgeheM/PQrXo3A94j+kcD0K16PQP5qZmZmZmek/PQrXo3A96j8AAAAAAAAAAClcj8L1KMw/H4XrUbge1T97FK5H4XrEP+xRuB6F6+E/AAAAAAAAAAAAAAAAAAAAAAAAAAAAAAAAuB6F61G43j/NzMzMzMzsPwAAAAAAAAAAw/UoXI/C1T89CtejcD3aPwrXo3A9Csc/UrgehetR6D89CtejcD3iP3sUrkfheqQ/XI/C9Shc3z8AAAAAAAAAAFyPwvUoXO8/AAAAAAAAAABSuB6F61HoP+F6FK5H4co/mpmZmZmZ6T9SuB6F61HgP7gehetRuM4/4XoUrkfh2j+4HoXrUbjOPwAAAAAAAAAAAAAAAAAAAAAAAAAAAAAAAPYoXI/C9eA/SOF6FK5H4T8=",
          "dtype": "f8"
         },
         "yaxis": "y"
        },
        {
         "marker": {
          "opacity": 0.7,
          "size": 6
         },
         "mode": "markers",
         "name": "Attrited Customer",
         "type": "scatter",
         "x": {
          "bdata": "AAAAAAAurUAAAAAAALSsQDMzMzMzeZZAAAAAAACMlkAAAAAAAOS7QAAAAACAUdNAAAAAAACmqkAAAAAAQGvXQDMzMzMzeZZAAAAAAABUl0AAAAAAACSnQAAAAAAAgJtAMzMzMzN5lkAAAAAAAFSZQAAAAAAA68xAAAAAAACDskAAAAAAAO6hQAAAAAAAEKNAAAAAAABYoEAAAAAAgHvUQAAAAAAAWKNAAAAAAAAaokAAAAAAAFyZQAAAAAAAJJxAAAAAAAAXsUAAAAAAAK2/QAAAAAAAVJ1AAAAAAABgqEAAAAAAAHyeQAAAAAAAWqdAAAAAAACKu0AAAAAAAGrNQAAAAAAA7sBAAAAAAACaskAAAAAAAAqqQAAAAAAAOJxA",
          "dtype": "f8"
         },
         "xaxis": "x",
         "y": {
          "bdata": "exSuR+F61D/D9Shcj8LlPwAAAAAAAAAAAAAAAAAAAAAAAAAAAAAAAHsUrkfheqQ/hetRuB6F2z97FK5H4XqUPwAAAAAAAAAAAAAAAAAAAAAzMzMzMzPrPwAAAAAAAAAAAAAAAAAAAAAK16NwPQrXP8P1KFyPwsU/AAAAAAAAAAAAAAAAAAAAAOF6FK5H4co/AAAAAAAAAAAAAAAAAAAAAB+F61G4Hu0/AAAAAAAAAAAAAAAAAAAAAArXo3A9Csc/AAAAAAAAAAAAAAAAAAAAAHsUrkfheuQ/7FG4HoXr6T8AAAAAAAAAAJqZmZmZmek/7FG4HoXrwT8AAAAAAAAAAAAAAAAAAAAAAAAAAAAAAADsUbgehevhPwAAAAAAAAAA",
          "dtype": "f8"
         },
         "yaxis": "y"
        },
        {
         "name": "Existing Customer Usage",
         "opacity": 0.7,
         "type": "histogram",
         "x": {
          "bdata": "ZmZmZmZm1j8AAAAAAAAAAJqZmZmZmeE/FK5H4XoU3j8UrkfhehTmPwrXo3A9Ctc/4XoUrkfhyj+PwvUoXI/SP4XrUbgeheM/AAAAAAAAAAAUrkfhehTeP3sUrkfheuQ/MzMzMzMzwz8AAAAAAAAAAJqZmZmZmbk/cT0K16Nw5T8AAAAAAAAAAK5H4XoUrtc/7FG4HoXr0T97FK5H4Xq0P4XrUbgehes/cT0K16Nw7T97FK5H4XqkP5qZmZmZmbk/exSuR+F6xD8pXI/C9Si8Px+F61G4HtU/mpmZmZmZyT97FK5H4Xq0PwAAAAAAAAAAexSuR+F6tD+4HoXrUbjmPylcj8L1KMw/AAAAAAAA0D9SuB6F61HgP3sUrkfheuQ/pHA9Ctej0D+4HoXrUbjOPwrXo3A9Ctc/exSuR+F6tD9cj8L1KFzfP1K4HoXrUeg/AAAAAAAAAAB7FK5H4Xq0P4XrUbgeheM/KVyPwvUovD+kcD0K16PQP+F6FK5H4co/7FG4HoXr4T8pXI/C9SjMPylcj8L1KMw/AAAAAAAA4D8pXI/C9SjMP83MzMzMzNw/MzMzMzMz4z8AAAAAAAAAAAAAAAAAAAAAhetRuB6F2z+4HoXrUbiuPxSuR+F6FOY/exSuR+F65D+PwvUoXI/qP6RwPQrXo8A/uB6F61G4vj8AAAAAAAAAAArXo3A9Csc/KVyPwvUovD/sUbgehevBP3sUrkfherQ/7FG4HoXrwT8K16NwPQrnP2ZmZmZmZuY/AAAAAAAAAAAAAAAAAAAAAAAAAAAAAAAA7FG4HoXrsT8K16NwPQq3PwrXo3A9Csc/9ihcj8L16D89CtejcD3aP3sUrkfhesQ/PQrXo3A96j8K16NwPQrHP8P1KFyPwuU/7FG4HoXrsT8UrkfhehTeP3sUrkfherQ/ZmZmZmZm5j8fhetRuB7VP3sUrkfherQ/uB6F61G43j/hehSuR+HaP3sUrkfherQ/AAAAAAAAAAAAAAAAAAAAAKRwPQrXo8A/AAAAAAAAAADNzMzMzMzsPwAAAAAAANA/exSuR+F65D9I4XoUrkfRP+xRuB6F69E/rkfhehSu5z+PwvUoXI/iP3sUrkfherQ/AAAAAAAAAAAzMzMzMzPTPxSuR+F6FN4/j8L1KFyP4j8AAAAAAAAAAKRwPQrXo8A/AAAAAAAAAAAAAAAAAAAAAFyPwvUoXN8/w/UoXI/C5T+amZmZmZm5P1K4HoXrUeA/uB6F61G45j+PwvUoXI/iP0jhehSuR9E/pHA9CtejwD+amZmZmZnJP4XrUbgeheM/PQrXo3A94j+kcD0K16PQP5qZmZmZmek/PQrXo3A96j8AAAAAAAAAAClcj8L1KMw/H4XrUbge1T97FK5H4XrEP+xRuB6F6+E/AAAAAAAAAAAAAAAAAAAAAAAAAAAAAAAAuB6F61G43j/NzMzMzMzsPwAAAAAAAAAAw/UoXI/C1T89CtejcD3aPwrXo3A9Csc/UrgehetR6D89CtejcD3iP3sUrkfheqQ/XI/C9Shc3z8AAAAAAAAAAFyPwvUoXO8/AAAAAAAAAABSuB6F61HoP+F6FK5H4co/mpmZmZmZ6T9SuB6F61HgP7gehetRuM4/4XoUrkfh2j+4HoXrUbjOPwAAAAAAAAAAAAAAAAAAAAAAAAAAAAAAAPYoXI/C9eA/SOF6FK5H4T8=",
          "dtype": "f8"
         },
         "xaxis": "x2",
         "yaxis": "y2"
        },
        {
         "name": "Attrited Customer Usage",
         "opacity": 0.7,
         "type": "histogram",
         "x": {
          "bdata": "exSuR+F61D/D9Shcj8LlPwAAAAAAAAAAAAAAAAAAAAAAAAAAAAAAAHsUrkfheqQ/hetRuB6F2z97FK5H4XqUPwAAAAAAAAAAAAAAAAAAAAAzMzMzMzPrPwAAAAAAAAAAAAAAAAAAAAAK16NwPQrXP8P1KFyPwsU/AAAAAAAAAAAAAAAAAAAAAOF6FK5H4co/AAAAAAAAAAAAAAAAAAAAAB+F61G4Hu0/AAAAAAAAAAAAAAAAAAAAAArXo3A9Csc/AAAAAAAAAAAAAAAAAAAAAHsUrkfheuQ/7FG4HoXr6T8AAAAAAAAAAJqZmZmZmek/7FG4HoXrwT8AAAAAAAAAAAAAAAAAAAAAAAAAAAAAAADsUbgehevhPwAAAAAAAAAA",
          "dtype": "f8"
         },
         "xaxis": "x2",
         "yaxis": "y2"
        },
        {
         "name": "Credit Limit Distribution",
         "type": "box",
         "x": [
          "Existing Customer",
          "Attrited Customer",
          "Existing Customer",
          "Existing Customer",
          "Existing Customer",
          "Existing Customer",
          "Existing Customer",
          "Existing Customer",
          "Attrited Customer",
          "Existing Customer",
          "Existing Customer",
          "Attrited Customer",
          "Attrited Customer",
          "Existing Customer",
          "Existing Customer",
          "Attrited Customer",
          "Existing Customer",
          "Existing Customer",
          "Existing Customer",
          "Existing Customer",
          "Existing Customer",
          "Existing Customer",
          "Existing Customer",
          "Existing Customer",
          "Existing Customer",
          "Existing Customer",
          "Existing Customer",
          "Existing Customer",
          "Attrited Customer",
          "Existing Customer",
          "Existing Customer",
          "Existing Customer",
          "Existing Customer",
          "Existing Customer",
          "Existing Customer",
          "Existing Customer",
          "Existing Customer",
          "Existing Customer",
          "Existing Customer",
          "Existing Customer",
          "Attrited Customer",
          "Existing Customer",
          "Existing Customer",
          "Existing Customer",
          "Existing Customer",
          "Existing Customer",
          "Attrited Customer",
          "Attrited Customer",
          "Attrited Customer",
          "Existing Customer",
          "Attrited Customer",
          "Existing Customer",
          "Existing Customer",
          "Existing Customer",
          "Existing Customer",
          "Existing Customer",
          "Existing Customer",
          "Existing Customer",
          "Existing Customer",
          "Existing Customer",
          "Existing Customer",
          "Existing Customer",
          "Existing Customer",
          "Existing Customer",
          "Existing Customer",
          "Existing Customer",
          "Existing Customer",
          "Attrited Customer",
          "Existing Customer",
          "Existing Customer",
          "Existing Customer",
          "Existing Customer",
          "Attrited Customer",
          "Existing Customer",
          "Existing Customer",
          "Existing Customer",
          "Existing Customer",
          "Existing Customer",
          "Existing Customer",
          "Existing Customer",
          "Existing Customer",
          "Attrited Customer",
          "Existing Customer",
          "Existing Customer",
          "Existing Customer",
          "Existing Customer",
          "Existing Customer",
          "Existing Customer",
          "Existing Customer",
          "Existing Customer",
          "Existing Customer",
          "Existing Customer",
          "Existing Customer",
          "Existing Customer",
          "Attrited Customer",
          "Existing Customer",
          "Existing Customer",
          "Existing Customer",
          "Existing Customer",
          "Existing Customer",
          "Existing Customer",
          "Existing Customer",
          "Existing Customer",
          "Attrited Customer",
          "Existing Customer",
          "Existing Customer",
          "Existing Customer",
          "Attrited Customer",
          "Attrited Customer",
          "Existing Customer",
          "Existing Customer",
          "Attrited Customer",
          "Existing Customer",
          "Existing Customer",
          "Attrited Customer",
          "Existing Customer",
          "Existing Customer",
          "Existing Customer",
          "Existing Customer",
          "Existing Customer",
          "Existing Customer",
          "Existing Customer",
          "Existing Customer",
          "Attrited Customer",
          "Existing Customer",
          "Existing Customer",
          "Existing Customer",
          "Existing Customer",
          "Existing Customer",
          "Attrited Customer",
          "Attrited Customer",
          "Existing Customer",
          "Existing Customer",
          "Existing Customer",
          "Attrited Customer",
          "Attrited Customer",
          "Existing Customer",
          "Existing Customer",
          "Existing Customer",
          "Existing Customer",
          "Attrited Customer",
          "Existing Customer",
          "Attrited Customer",
          "Existing Customer",
          "Existing Customer",
          "Existing Customer",
          "Existing Customer",
          "Existing Customer",
          "Attrited Customer",
          "Attrited Customer",
          "Existing Customer",
          "Existing Customer",
          "Existing Customer",
          "Existing Customer",
          "Existing Customer",
          "Attrited Customer",
          "Existing Customer",
          "Existing Customer",
          "Existing Customer",
          "Existing Customer",
          "Existing Customer",
          "Existing Customer",
          "Existing Customer",
          "Existing Customer",
          "Attrited Customer",
          "Existing Customer",
          "Existing Customer",
          "Existing Customer",
          "Existing Customer",
          "Existing Customer",
          "Attrited Customer",
          "Existing Customer",
          "Attrited Customer",
          "Existing Customer",
          "Existing Customer",
          "Existing Customer",
          "Attrited Customer",
          "Existing Customer",
          "Existing Customer",
          "Existing Customer",
          "Existing Customer",
          "Existing Customer",
          "Existing Customer",
          "Existing Customer",
          "Existing Customer",
          "Existing Customer",
          "Existing Customer",
          "Existing Customer",
          "Existing Customer",
          "Existing Customer",
          "Existing Customer",
          "Existing Customer",
          "Existing Customer",
          "Existing Customer",
          "Attrited Customer",
          "Attrited Customer"
         ],
         "xaxis": "x3",
         "y": {
          "bdata": "AAAAAAAptUAAAAAAAC6tQAAAAAAAY8BAAAAAAABImkAAAAAAAIijQAAAAAAAYKRAAAAAAAA4rkAAAAAAAKi1QAAAAAAAtKxAAAAAAAC4oUAAAAAAAGieQDMzMzMzeZZAAAAAAACMlkAAAAAAAD63QAAAAAAAJJtAAAAAAADku0AAAAAAALygQAAAAAAAmsVAAAAAAAA+skAAAAAAAAzLQAAAAAAAOqBAMzMzMzN5lkAAAAAAAPSyQAAAAAAAaLxAAAAAAIBIykAAAAAAAOymQAAAAAAAoJ1AAAAAAIDB00AAAAAAgFHTQAAAAAAAAcFAAAAAAABhzkAAAAAAACDHQAAAAAAAd7lAAAAAAAC0vEAAAAAAACrCQAAAAACAFsZAAAAAAADIzUAAAAAAAHioQAAAAAAAuq5AAAAAAABdskAAAAAAAKaqQAAAAAAA7rJAAAAAAABUmUAAAAAAANe0QAAAAAAA9rRAAAAAAABAtEAAAAAAQGvXQDMzMzMzeZZAAAAAAABUl0AAAAAAAJbTQAAAAAAAJKdAAAAAAACvs0AAAAAAAFyaQDMzMzMzeZZAAAAAAIAx0UAAAAAAAGCgQAAAAAAAMbhAAAAAAADKv0AAAAAAgHzDQAAAAAAAjKBAAAAAAABSqkAAAAAAAPqmQAAAAAAAiqZAAAAAAABxvkAAAAAAAICoQAAAAAAAYqBAAAAAAABZx0AAAAAAAICbQAAAAAAACKBAAAAAAACVsEAAAAAAwJ/QQAAAAAAAPqlAMzMzMzN5lkAAAAAAALyuQAAAAAAA+KFAAAAAAAD2vkAAAAAAgCnKQAAAAAAARsBAAAAAAAA0t0AAAAAAgBjRQAAAAAAAGMVAAAAAAABUmUAAAAAAABLJQAAAAAAAjrpAAAAAAABEn0AAAAAAACKkQAAAAAAALKlAMzMzMzN5lkAAAAAAAM6zQAAAAAAAcNVAAAAAAIDH0UAAAAAAAAO1QAAAAAAA+qNAAAAAAAC6pkAAAAAAAOvMQAAAAACATcJAMzMzMzN5lkAAAAAAgOXKQAAAAAAABqpAAAAAAIAEzEAAAAAAAESYQAAAAACAksFAAAAAAADMpkAAAAAAAIOyQAAAAAAASLlAAAAAAIDp0kAAAAAAAOKkQAAAAAAA7qFAAAAAAAAQo0AAAAAAAJWyQAAAAAAACtBAAAAAAABYoEAzMzMzM3mWQDMzMzMzeZZAAAAAAIB71EAAAAAAAFTNQAAAAAAAbL5AAAAAAADEn0AAAAAAACK2QAAAAAAA6qBAAAAAAABJvkAAAAAAAO6pQAAAAAAASqNAAAAAAABYo0AAAAAAAPKsQAAAAAAAqs5AAAAAAACwnkAAAAAAAFCxQAAAAAAAaK1AAAAAAAAaokAAAAAAAFyZQAAAAAAA8qJAMzMzMzN5lkAAAAAAADKyQAAAAAAAJJxAAAAAAAAXsUAAAAAAAFixQAAAAADAPdFAAAAAAAD8nEAAAAAAALSjQAAAAAAArb9AAAAAAEBD1EAAAAAAAFSdQDMzMzMzeZZAAAAAAAAEpUAAAAAAANanQAAAAAAA9qNAAAAAAMBM00AAAAAAAGCoQAAAAAAAfJ5AAAAAAIBCyEAAAAAAAMirQAAAAAAAXqJAAAAAAAB5wEAAAAAAAGyoQAAAAAAAWqdAAAAAAABmo0AAAAAAAMq5QAAAAAAAV7RAAAAAAADGs0AAAAAAAMnEQAAAAAAABJ1AAAAAAABlw0AAAAAAAMSsQAAAAAAAirtAAAAAAAB2oEAAAAAAAKKkQAAAAAAAiJlAAAAAAABwmEAAAAAAAC2wQAAAAAAAas1AAAAAAACInkAAAAAAAO7AQAAAAAAAHsNAAAAAAADGqUAAAAAAAOqhQAAAAAAAmrJAAAAAAECp0UAAAAAAAP6kQDMzMzMzeZZAAAAAAADMnEAAAAAAAOyWQAAAAAAAXKRAAAAAAACwvUAAAAAAAGymQAAAAAAAJrNAAAAAAIC3xEAAAAAAAJ6uQAAAAAAAocBAAAAAAID2wEAAAAAAACGwQAAAAAAAxMFAAAAAAACupUAAAAAAAAysQAAAAAAACqpAAAAAAAA4nEA=",
          "dtype": "f8"
         },
         "yaxis": "y3"
        },
        {
         "marker": {
          "color": {
           "bdata": "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",
           "dtype": "f8"
          },
          "colorbar": {
           "title": {
            "text": "Credit Limit"
           }
          },
          "colorscale": [
           [
            0,
            "#440154"
           ],
           [
            0.1111111111111111,
            "#482878"
           ],
           [
            0.2222222222222222,
            "#3e4989"
           ],
           [
            0.3333333333333333,
            "#31688e"
           ],
           [
            0.4444444444444444,
            "#26828e"
           ],
           [
            0.5555555555555556,
            "#1f9e89"
           ],
           [
            0.6666666666666666,
            "#35b779"
           ],
           [
            0.7777777777777778,
            "#6ece58"
           ],
           [
            0.8888888888888888,
            "#b5de2b"
           ],
           [
            1,
            "#fde725"
           ]
          ],
          "opacity": 0.7,
          "size": 8
         },
         "mode": "markers",
         "name": "Usage vs Age",
         "type": "scatter",
         "x": {
          "bdata": "KTwvLC8lOy84My0mKi85ISs8IjUlNSw1OSouJCkzNi4zPi8lNTgrLS0yHjY4OSsxJCgrMSwvKDEhQS0jKDM1LjkwMz0tIi40NTgwLCIvJiorJjEnJygmMjglMTcaKSshNSs6KRssMyAsKjM6NigxJxovNDEsIiYyNTUnKjQkJCkrNB8mLjYuOzYvKzUvKSwvKTEtMS0sOi4oJy4mLik0MzAzMy0yLDgvMSwuNCo6LC0zMikuMDctLT4rKigxLC4fMiYnIQ==",
          "dtype": "i1"
         },
         "xaxis": "x4",
         "y": {
          "bdata": "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",
          "dtype": "f8"
         },
         "yaxis": "y4"
        }
       ],
       "layout": {
        "annotations": [
         {
          "font": {
           "size": 16
          },
          "showarrow": false,
          "text": "Usage vs Credit Limit",
          "x": 0.225,
          "xanchor": "center",
          "xref": "paper",
          "y": 1,
          "yanchor": "bottom",
          "yref": "paper"
         },
         {
          "font": {
           "size": 16
          },
          "showarrow": false,
          "text": "Usage Distribution by Status",
          "x": 0.775,
          "xanchor": "center",
          "xref": "paper",
          "y": 1,
          "yanchor": "bottom",
          "yref": "paper"
         },
         {
          "font": {
           "size": 16
          },
          "showarrow": false,
          "text": "Credit Limit vs Customer Status",
          "x": 0.225,
          "xanchor": "center",
          "xref": "paper",
          "y": 0.375,
          "yanchor": "bottom",
          "yref": "paper"
         },
         {
          "font": {
           "size": 16
          },
          "showarrow": false,
          "text": "Usage vs Age",
          "x": 0.775,
          "xanchor": "center",
          "xref": "paper",
          "y": 0.375,
          "yanchor": "bottom",
          "yref": "paper"
         }
        ],
        "height": 800,
        "template": {
         "data": {
          "bar": [
           {
            "error_x": {
             "color": "#2a3f5f"
            },
            "error_y": {
             "color": "#2a3f5f"
            },
            "marker": {
             "line": {
              "color": "#E5ECF6",
              "width": 0.5
             },
             "pattern": {
              "fillmode": "overlay",
              "size": 10,
              "solidity": 0.2
             }
            },
            "type": "bar"
           }
          ],
          "barpolar": [
           {
            "marker": {
             "line": {
              "color": "#E5ECF6",
              "width": 0.5
             },
             "pattern": {
              "fillmode": "overlay",
              "size": 10,
              "solidity": 0.2
             }
            },
            "type": "barpolar"
           }
          ],
          "carpet": [
           {
            "aaxis": {
             "endlinecolor": "#2a3f5f",
             "gridcolor": "white",
             "linecolor": "white",
             "minorgridcolor": "white",
             "startlinecolor": "#2a3f5f"
            },
            "baxis": {
             "endlinecolor": "#2a3f5f",
             "gridcolor": "white",
             "linecolor": "white",
             "minorgridcolor": "white",
             "startlinecolor": "#2a3f5f"
            },
            "type": "carpet"
           }
          ],
          "choropleth": [
           {
            "colorbar": {
             "outlinewidth": 0,
             "ticks": ""
            },
            "type": "choropleth"
           }
          ],
          "contour": [
           {
            "colorbar": {
             "outlinewidth": 0,
             "ticks": ""
            },
            "colorscale": [
             [
              0,
              "#0d0887"
             ],
             [
              0.1111111111111111,
              "#46039f"
             ],
             [
              0.2222222222222222,
              "#7201a8"
             ],
             [
              0.3333333333333333,
              "#9c179e"
             ],
             [
              0.4444444444444444,
              "#bd3786"
             ],
             [
              0.5555555555555556,
              "#d8576b"
             ],
             [
              0.6666666666666666,
              "#ed7953"
             ],
             [
              0.7777777777777778,
              "#fb9f3a"
             ],
             [
              0.8888888888888888,
              "#fdca26"
             ],
             [
              1,
              "#f0f921"
             ]
            ],
            "type": "contour"
           }
          ],
          "contourcarpet": [
           {
            "colorbar": {
             "outlinewidth": 0,
             "ticks": ""
            },
            "type": "contourcarpet"
           }
          ],
          "heatmap": [
           {
            "colorbar": {
             "outlinewidth": 0,
             "ticks": ""
            },
            "colorscale": [
             [
              0,
              "#0d0887"
             ],
             [
              0.1111111111111111,
              "#46039f"
             ],
             [
              0.2222222222222222,
              "#7201a8"
             ],
             [
              0.3333333333333333,
              "#9c179e"
             ],
             [
              0.4444444444444444,
              "#bd3786"
             ],
             [
              0.5555555555555556,
              "#d8576b"
             ],
             [
              0.6666666666666666,
              "#ed7953"
             ],
             [
              0.7777777777777778,
              "#fb9f3a"
             ],
             [
              0.8888888888888888,
              "#fdca26"
             ],
             [
              1,
              "#f0f921"
             ]
            ],
            "type": "heatmap"
           }
          ],
          "histogram": [
           {
            "marker": {
             "pattern": {
              "fillmode": "overlay",
              "size": 10,
              "solidity": 0.2
             }
            },
            "type": "histogram"
           }
          ],
          "histogram2d": [
           {
            "colorbar": {
             "outlinewidth": 0,
             "ticks": ""
            },
            "colorscale": [
             [
              0,
              "#0d0887"
             ],
             [
              0.1111111111111111,
              "#46039f"
             ],
             [
              0.2222222222222222,
              "#7201a8"
             ],
             [
              0.3333333333333333,
              "#9c179e"
             ],
             [
              0.4444444444444444,
              "#bd3786"
             ],
             [
              0.5555555555555556,
              "#d8576b"
             ],
             [
              0.6666666666666666,
              "#ed7953"
             ],
             [
              0.7777777777777778,
              "#fb9f3a"
             ],
             [
              0.8888888888888888,
              "#fdca26"
             ],
             [
              1,
              "#f0f921"
             ]
            ],
            "type": "histogram2d"
           }
          ],
          "histogram2dcontour": [
           {
            "colorbar": {
             "outlinewidth": 0,
             "ticks": ""
            },
            "colorscale": [
             [
              0,
              "#0d0887"
             ],
             [
              0.1111111111111111,
              "#46039f"
             ],
             [
              0.2222222222222222,
              "#7201a8"
             ],
             [
              0.3333333333333333,
              "#9c179e"
             ],
             [
              0.4444444444444444,
              "#bd3786"
             ],
             [
              0.5555555555555556,
              "#d8576b"
             ],
             [
              0.6666666666666666,
              "#ed7953"
             ],
             [
              0.7777777777777778,
              "#fb9f3a"
             ],
             [
              0.8888888888888888,
              "#fdca26"
             ],
             [
              1,
              "#f0f921"
             ]
            ],
            "type": "histogram2dcontour"
           }
          ],
          "mesh3d": [
           {
            "colorbar": {
             "outlinewidth": 0,
             "ticks": ""
            },
            "type": "mesh3d"
           }
          ],
          "parcoords": [
           {
            "line": {
             "colorbar": {
              "outlinewidth": 0,
              "ticks": ""
             }
            },
            "type": "parcoords"
           }
          ],
          "pie": [
           {
            "automargin": true,
            "type": "pie"
           }
          ],
          "scatter": [
           {
            "fillpattern": {
             "fillmode": "overlay",
             "size": 10,
             "solidity": 0.2
            },
            "type": "scatter"
           }
          ],
          "scatter3d": [
           {
            "line": {
             "colorbar": {
              "outlinewidth": 0,
              "ticks": ""
             }
            },
            "marker": {
             "colorbar": {
              "outlinewidth": 0,
              "ticks": ""
             }
            },
            "type": "scatter3d"
           }
          ],
          "scattercarpet": [
           {
            "marker": {
             "colorbar": {
              "outlinewidth": 0,
              "ticks": ""
             }
            },
            "type": "scattercarpet"
           }
          ],
          "scattergeo": [
           {
            "marker": {
             "colorbar": {
              "outlinewidth": 0,
              "ticks": ""
             }
            },
            "type": "scattergeo"
           }
          ],
          "scattergl": [
           {
            "marker": {
             "colorbar": {
              "outlinewidth": 0,
              "ticks": ""
             }
            },
            "type": "scattergl"
           }
          ],
          "scattermap": [
           {
            "marker": {
             "colorbar": {
              "outlinewidth": 0,
              "ticks": ""
             }
            },
            "type": "scattermap"
           }
          ],
          "scattermapbox": [
           {
            "marker": {
             "colorbar": {
              "outlinewidth": 0,
              "ticks": ""
             }
            },
            "type": "scattermapbox"
           }
          ],
          "scatterpolar": [
           {
            "marker": {
             "colorbar": {
              "outlinewidth": 0,
              "ticks": ""
             }
            },
            "type": "scatterpolar"
           }
          ],
          "scatterpolargl": [
           {
            "marker": {
             "colorbar": {
              "outlinewidth": 0,
              "ticks": ""
             }
            },
            "type": "scatterpolargl"
           }
          ],
          "scatterternary": [
           {
            "marker": {
             "colorbar": {
              "outlinewidth": 0,
              "ticks": ""
             }
            },
            "type": "scatterternary"
           }
          ],
          "surface": [
           {
            "colorbar": {
             "outlinewidth": 0,
             "ticks": ""
            },
            "colorscale": [
             [
              0,
              "#0d0887"
             ],
             [
              0.1111111111111111,
              "#46039f"
             ],
             [
              0.2222222222222222,
              "#7201a8"
             ],
             [
              0.3333333333333333,
              "#9c179e"
             ],
             [
              0.4444444444444444,
              "#bd3786"
             ],
             [
              0.5555555555555556,
              "#d8576b"
             ],
             [
              0.6666666666666666,
              "#ed7953"
             ],
             [
              0.7777777777777778,
              "#fb9f3a"
             ],
             [
              0.8888888888888888,
              "#fdca26"
             ],
             [
              1,
              "#f0f921"
             ]
            ],
            "type": "surface"
           }
          ],
          "table": [
           {
            "cells": {
             "fill": {
              "color": "#EBF0F8"
             },
             "line": {
              "color": "white"
             }
            },
            "header": {
             "fill": {
              "color": "#C8D4E3"
             },
             "line": {
              "color": "white"
             }
            },
            "type": "table"
           }
          ]
         },
         "layout": {
          "annotationdefaults": {
           "arrowcolor": "#2a3f5f",
           "arrowhead": 0,
           "arrowwidth": 1
          },
          "autotypenumbers": "strict",
          "coloraxis": {
           "colorbar": {
            "outlinewidth": 0,
            "ticks": ""
           }
          },
          "colorscale": {
           "diverging": [
            [
             0,
             "#8e0152"
            ],
            [
             0.1,
             "#c51b7d"
            ],
            [
             0.2,
             "#de77ae"
            ],
            [
             0.3,
             "#f1b6da"
            ],
            [
             0.4,
             "#fde0ef"
            ],
            [
             0.5,
             "#f7f7f7"
            ],
            [
             0.6,
             "#e6f5d0"
            ],
            [
             0.7,
             "#b8e186"
            ],
            [
             0.8,
             "#7fbc41"
            ],
            [
             0.9,
             "#4d9221"
            ],
            [
             1,
             "#276419"
            ]
           ],
           "sequential": [
            [
             0,
             "#0d0887"
            ],
            [
             0.1111111111111111,
             "#46039f"
            ],
            [
             0.2222222222222222,
             "#7201a8"
            ],
            [
             0.3333333333333333,
             "#9c179e"
            ],
            [
             0.4444444444444444,
             "#bd3786"
            ],
            [
             0.5555555555555556,
             "#d8576b"
            ],
            [
             0.6666666666666666,
             "#ed7953"
            ],
            [
             0.7777777777777778,
             "#fb9f3a"
            ],
            [
             0.8888888888888888,
             "#fdca26"
            ],
            [
             1,
             "#f0f921"
            ]
           ],
           "sequentialminus": [
            [
             0,
             "#0d0887"
            ],
            [
             0.1111111111111111,
             "#46039f"
            ],
            [
             0.2222222222222222,
             "#7201a8"
            ],
            [
             0.3333333333333333,
             "#9c179e"
            ],
            [
             0.4444444444444444,
             "#bd3786"
            ],
            [
             0.5555555555555556,
             "#d8576b"
            ],
            [
             0.6666666666666666,
             "#ed7953"
            ],
            [
             0.7777777777777778,
             "#fb9f3a"
            ],
            [
             0.8888888888888888,
             "#fdca26"
            ],
            [
             1,
             "#f0f921"
            ]
           ]
          },
          "colorway": [
           "#636efa",
           "#EF553B",
           "#00cc96",
           "#ab63fa",
           "#FFA15A",
           "#19d3f3",
           "#FF6692",
           "#B6E880",
           "#FF97FF",
           "#FECB52"
          ],
          "font": {
           "color": "#2a3f5f"
          },
          "geo": {
           "bgcolor": "white",
           "lakecolor": "white",
           "landcolor": "#E5ECF6",
           "showlakes": true,
           "showland": true,
           "subunitcolor": "white"
          },
          "hoverlabel": {
           "align": "left"
          },
          "hovermode": "closest",
          "mapbox": {
           "style": "light"
          },
          "paper_bgcolor": "white",
          "plot_bgcolor": "#E5ECF6",
          "polar": {
           "angularaxis": {
            "gridcolor": "white",
            "linecolor": "white",
            "ticks": ""
           },
           "bgcolor": "#E5ECF6",
           "radialaxis": {
            "gridcolor": "white",
            "linecolor": "white",
            "ticks": ""
           }
          },
          "scene": {
           "xaxis": {
            "backgroundcolor": "#E5ECF6",
            "gridcolor": "white",
            "gridwidth": 2,
            "linecolor": "white",
            "showbackground": true,
            "ticks": "",
            "zerolinecolor": "white"
           },
           "yaxis": {
            "backgroundcolor": "#E5ECF6",
            "gridcolor": "white",
            "gridwidth": 2,
            "linecolor": "white",
            "showbackground": true,
            "ticks": "",
            "zerolinecolor": "white"
           },
           "zaxis": {
            "backgroundcolor": "#E5ECF6",
            "gridcolor": "white",
            "gridwidth": 2,
            "linecolor": "white",
            "showbackground": true,
            "ticks": "",
            "zerolinecolor": "white"
           }
          },
          "shapedefaults": {
           "line": {
            "color": "#2a3f5f"
           }
          },
          "ternary": {
           "aaxis": {
            "gridcolor": "white",
            "linecolor": "white",
            "ticks": ""
           },
           "baxis": {
            "gridcolor": "white",
            "linecolor": "white",
            "ticks": ""
           },
           "bgcolor": "#E5ECF6",
           "caxis": {
            "gridcolor": "white",
            "linecolor": "white",
            "ticks": ""
           }
          },
          "title": {
           "x": 0.05
          },
          "xaxis": {
           "automargin": true,
           "gridcolor": "white",
           "linecolor": "white",
           "ticks": "",
           "title": {
            "standoff": 15
           },
           "zerolinecolor": "white",
           "zerolinewidth": 2
          },
          "yaxis": {
           "automargin": true,
           "gridcolor": "white",
           "linecolor": "white",
           "ticks": "",
           "title": {
            "standoff": 15
           },
           "zerolinecolor": "white",
           "zerolinewidth": 2
          }
         }
        },
        "title": {
         "text": "Interactive Banking Customer Analysis Dashboard"
        },
        "xaxis": {
         "anchor": "y",
         "domain": [
          0,
          0.45
         ]
        },
        "xaxis2": {
         "anchor": "y2",
         "domain": [
          0.55,
          1
         ]
        },
        "xaxis3": {
         "anchor": "y3",
         "domain": [
          0,
          0.45
         ]
        },
        "xaxis4": {
         "anchor": "y4",
         "domain": [
          0.55,
          1
         ]
        },
        "yaxis": {
         "anchor": "x",
         "domain": [
          0.625,
          1
         ]
        },
        "yaxis2": {
         "anchor": "x2",
         "domain": [
          0.625,
          1
         ]
        },
        "yaxis3": {
         "anchor": "x3",
         "domain": [
          0,
          0.375
         ]
        },
        "yaxis4": {
         "anchor": "x4",
         "domain": [
          0,
          0.375
         ]
        }
       }
      }
     },
     "metadata": {},
     "output_type": "display_data"
    }
   ],
   "source": [
    "# Create subplots\n",
    "fig = make_subplots(\n",
    "    rows=2, cols=2,\n",
    "    subplot_titles=('Usage vs Credit Limit', 'Usage Distribution by Status', \n",
    "                   'Credit Limit vs Customer Status', 'Usage vs Age'),\n",
    "    specs=[[{\"secondary_y\": False}, {\"secondary_y\": False}],\n",
    "           [{\"secondary_y\": False}, {\"secondary_y\": False}]]\n",
    ")\n",
    "\n",
    "# Plot 1: Usage vs Credit Limit colored by Customer Status\n",
    "for status in bc['Customer_Status'].unique():\n",
    "    subset = bc[bc['Customer_Status'] == status]\n",
    "    fig.add_trace(\n",
    "        go.Scatter(x=subset['Credit_Limit'], \n",
    "                  y=subset[bc.columns[-1]],\n",
    "                  mode='markers',\n",
    "                  name=f'{status}',\n",
    "                  marker=dict(size=6, opacity=0.7)),\n",
    "        row=1, col=1\n",
    "    )\n",
    "\n",
    "# Plot 2: Usage distribution by Customer Status\n",
    "for status in bc['Customer_Status'].unique():\n",
    "    subset = bc[bc['Customer_Status'] == status]\n",
    "    fig.add_trace(\n",
    "        go.Histogram(x=subset[bc.columns[-1]], \n",
    "                    name=f'{status} Usage',\n",
    "                    opacity=0.7),\n",
    "        row=1, col=2\n",
    "    )\n",
    "\n",
    "# Plot 3: Credit Limit by Customer Status\n",
    "fig.add_trace(\n",
    "    go.Box(x=bc['Customer_Status'], \n",
    "           y=bc['Credit_Limit'],\n",
    "           name='Credit Limit Distribution'),\n",
    "    row=2, col=1\n",
    ")\n",
    "\n",
    "# Plot 4: Usage vs Age\n",
    "fig.add_trace(\n",
    "    go.Scatter(x=bc['Age'], \n",
    "              y=bc[bc.columns[-1]],\n",
    "              mode='markers',\n",
    "              marker=dict(color=bc['Credit_Limit'], \n",
    "                         colorscale='Viridis',\n",
    "                         size=8,\n",
    "                         opacity=0.7,\n",
    "                         colorbar=dict(title=\"Credit Limit\")),\n",
    "              name='Usage vs Age'),\n",
    "    row=2, col=2\n",
    ")\n",
    "\n",
    "fig.update_layout(height=800, title_text=\"Interactive Banking Customer Analysis Dashboard\")\n"
   ]
  },
  {
   "cell_type": "code",
   "execution_count": 6,
   "id": "4cead481",
   "metadata": {},
   "outputs": [
    {
     "ename": "ValueError",
     "evalue": "Value of 'y' is not the name of a column in 'data_frame'. Expected one of ['Customer_Status', 'Age', 'Gender', 'Income_Level', 'Tenure_Months', 'Inactive_Months_In_Last_12', 'Credit_Limit', 'Total_Trans_Amount', 'Total_Trans_Count', 'Avg_Utilization_Ratio'] but received: Income_Category",
     "output_type": "error",
     "traceback": [
      "\u001b[31m---------------------------------------------------------------------------\u001b[39m",
      "\u001b[31mValueError\u001b[39m                                Traceback (most recent call last)",
      "\u001b[36mCell\u001b[39m\u001b[36m \u001b[39m\u001b[32mIn[6]\u001b[39m\u001b[32m, line 2\u001b[39m\n\u001b[32m      1\u001b[39m \u001b[38;5;66;03m# Interactive scatter plot: Income Level vs Gender vs Customer Status\u001b[39;00m\n\u001b[32m----> \u001b[39m\u001b[32m2\u001b[39m fig = \u001b[43mpx\u001b[49m\u001b[43m.\u001b[49m\u001b[43mscatter\u001b[49m\u001b[43m(\u001b[49m\u001b[43mbc\u001b[49m\u001b[43m,\u001b[49m\u001b[43m \u001b[49m\n\u001b[32m      3\u001b[39m \u001b[43m                \u001b[49m\u001b[43mx\u001b[49m\u001b[43m=\u001b[49m\u001b[33;43m'\u001b[39;49m\u001b[33;43mGender\u001b[39;49m\u001b[33;43m'\u001b[39;49m\u001b[43m,\u001b[49m\u001b[43m \u001b[49m\n\u001b[32m      4\u001b[39m \u001b[43m                \u001b[49m\u001b[43my\u001b[49m\u001b[43m=\u001b[49m\u001b[33;43m'\u001b[39;49m\u001b[33;43mIncome_Category\u001b[39;49m\u001b[33;43m'\u001b[39;49m\u001b[43m,\u001b[49m\n\u001b[32m      5\u001b[39m \u001b[43m                \u001b[49m\u001b[43mcolor\u001b[49m\u001b[43m=\u001b[49m\u001b[33;43m'\u001b[39;49m\u001b[33;43mCustomer_Status\u001b[39;49m\u001b[33;43m'\u001b[39;49m\u001b[43m,\u001b[49m\n\u001b[32m      6\u001b[39m \u001b[43m                \u001b[49m\u001b[43msize\u001b[49m\u001b[43m=\u001b[49m\u001b[33;43m'\u001b[39;49m\u001b[33;43mAge\u001b[39;49m\u001b[33;43m'\u001b[39;49m\u001b[43m,\u001b[49m\n\u001b[32m      7\u001b[39m \u001b[43m                \u001b[49m\u001b[43mhover_data\u001b[49m\u001b[43m=\u001b[49m\u001b[43m[\u001b[49m\u001b[33;43m'\u001b[39;49m\u001b[33;43mAge\u001b[39;49m\u001b[33;43m'\u001b[39;49m\u001b[43m,\u001b[49m\u001b[43m \u001b[49m\u001b[33;43m'\u001b[39;49m\u001b[33;43mCredit_Limit\u001b[39;49m\u001b[33;43m'\u001b[39;49m\u001b[43m,\u001b[49m\u001b[43m \u001b[49m\u001b[33;43m'\u001b[39;49m\u001b[33;43mTenure_Months\u001b[39;49m\u001b[33;43m'\u001b[39;49m\u001b[43m]\u001b[49m\u001b[43m,\u001b[49m\n\u001b[32m      8\u001b[39m \u001b[43m                \u001b[49m\u001b[43mtitle\u001b[49m\u001b[43m=\u001b[49m\u001b[33;43m'\u001b[39;49m\u001b[33;43mIncome Level vs Gender by Customer Status\u001b[39;49m\u001b[33;43m'\u001b[39;49m\u001b[43m,\u001b[49m\n\u001b[32m      9\u001b[39m \u001b[43m                \u001b[49m\u001b[43mlabels\u001b[49m\u001b[43m=\u001b[49m\u001b[43m{\u001b[49m\n\u001b[32m     10\u001b[39m \u001b[43m                    \u001b[49m\u001b[33;43m'\u001b[39;49m\u001b[33;43mGender\u001b[39;49m\u001b[33;43m'\u001b[39;49m\u001b[43m:\u001b[49m\u001b[43m \u001b[49m\u001b[33;43m'\u001b[39;49m\u001b[33;43mGender\u001b[39;49m\u001b[33;43m'\u001b[39;49m\u001b[43m,\u001b[49m\n\u001b[32m     11\u001b[39m \u001b[43m                    \u001b[49m\u001b[33;43m'\u001b[39;49m\u001b[33;43mIncome_Category\u001b[39;49m\u001b[33;43m'\u001b[39;49m\u001b[43m:\u001b[49m\u001b[43m \u001b[49m\u001b[33;43m'\u001b[39;49m\u001b[33;43mIncome Level\u001b[39;49m\u001b[33;43m'\u001b[39;49m\n\u001b[32m     12\u001b[39m \u001b[43m                \u001b[49m\u001b[43m}\u001b[49m\u001b[43m,\u001b[49m\n\u001b[32m     13\u001b[39m \u001b[43m                \u001b[49m\u001b[43mcolor_discrete_map\u001b[49m\u001b[43m=\u001b[49m\u001b[43m{\u001b[49m\n\u001b[32m     14\u001b[39m \u001b[43m                    \u001b[49m\u001b[33;43m'\u001b[39;49m\u001b[33;43mExisting Customer\u001b[39;49m\u001b[33;43m'\u001b[39;49m\u001b[43m:\u001b[49m\u001b[43m \u001b[49m\u001b[33;43m'\u001b[39;49m\u001b[33;43mblue\u001b[39;49m\u001b[33;43m'\u001b[39;49m\u001b[43m,\u001b[49m\n\u001b[32m     15\u001b[39m \u001b[43m                    \u001b[49m\u001b[33;43m'\u001b[39;49m\u001b[33;43mAttrited Customer\u001b[39;49m\u001b[33;43m'\u001b[39;49m\u001b[43m:\u001b[49m\u001b[43m \u001b[49m\u001b[33;43m'\u001b[39;49m\u001b[33;43mred\u001b[39;49m\u001b[33;43m'\u001b[39;49m\n\u001b[32m     16\u001b[39m \u001b[43m                \u001b[49m\u001b[43m}\u001b[49m\u001b[43m)\u001b[49m\n\u001b[32m     18\u001b[39m fig.update_traces(marker=\u001b[38;5;28mdict\u001b[39m(line=\u001b[38;5;28mdict\u001b[39m(width=\u001b[32m1\u001b[39m, color=\u001b[33m'\u001b[39m\u001b[33mDarkSlateGray\u001b[39m\u001b[33m'\u001b[39m)))\n\u001b[32m     19\u001b[39m fig.update_layout(\n\u001b[32m     20\u001b[39m     width=\u001b[32m900\u001b[39m,\n\u001b[32m     21\u001b[39m     height=\u001b[32m600\u001b[39m,\n\u001b[32m     22\u001b[39m     xaxis_title=\u001b[33m'\u001b[39m\u001b[33mGender\u001b[39m\u001b[33m'\u001b[39m,\n\u001b[32m     23\u001b[39m     yaxis_title=\u001b[33m'\u001b[39m\u001b[33mIncome Level\u001b[39m\u001b[33m'\u001b[39m\n\u001b[32m     24\u001b[39m )\n",
      "\u001b[36mFile \u001b[39m\u001b[32mc:\\Users\\F_bee\\AppData\\Local\\Programs\\Python\\Python312\\Lib\\site-packages\\plotly\\express\\_chart_types.py:69\u001b[39m, in \u001b[36mscatter\u001b[39m\u001b[34m(data_frame, x, y, color, symbol, size, hover_name, hover_data, custom_data, text, facet_row, facet_col, facet_col_wrap, facet_row_spacing, facet_col_spacing, error_x, error_x_minus, error_y, error_y_minus, animation_frame, animation_group, category_orders, labels, orientation, color_discrete_sequence, color_discrete_map, color_continuous_scale, range_color, color_continuous_midpoint, symbol_sequence, symbol_map, opacity, size_max, marginal_x, marginal_y, trendline, trendline_options, trendline_color_override, trendline_scope, log_x, log_y, range_x, range_y, render_mode, title, subtitle, template, width, height)\u001b[39m\n\u001b[32m     14\u001b[39m \u001b[38;5;28;01mdef\u001b[39;00m\u001b[38;5;250m \u001b[39m\u001b[34mscatter\u001b[39m(\n\u001b[32m     15\u001b[39m     data_frame=\u001b[38;5;28;01mNone\u001b[39;00m,\n\u001b[32m     16\u001b[39m     x=\u001b[38;5;28;01mNone\u001b[39;00m,\n\u001b[32m   (...)\u001b[39m\u001b[32m     63\u001b[39m     height=\u001b[38;5;28;01mNone\u001b[39;00m,\n\u001b[32m     64\u001b[39m ) -> go.Figure:\n\u001b[32m     65\u001b[39m \u001b[38;5;250m    \u001b[39m\u001b[33;03m\"\"\"\u001b[39;00m\n\u001b[32m     66\u001b[39m \u001b[33;03m    In a scatter plot, each row of `data_frame` is represented by a symbol\u001b[39;00m\n\u001b[32m     67\u001b[39m \u001b[33;03m    mark in 2D space.\u001b[39;00m\n\u001b[32m     68\u001b[39m \u001b[33;03m    \"\"\"\u001b[39;00m\n\u001b[32m---> \u001b[39m\u001b[32m69\u001b[39m     \u001b[38;5;28;01mreturn\u001b[39;00m \u001b[43mmake_figure\u001b[49m\u001b[43m(\u001b[49m\u001b[43margs\u001b[49m\u001b[43m=\u001b[49m\u001b[38;5;28;43mlocals\u001b[39;49m\u001b[43m(\u001b[49m\u001b[43m)\u001b[49m\u001b[43m,\u001b[49m\u001b[43m \u001b[49m\u001b[43mconstructor\u001b[49m\u001b[43m=\u001b[49m\u001b[43mgo\u001b[49m\u001b[43m.\u001b[49m\u001b[43mScatter\u001b[49m\u001b[43m)\u001b[49m\n",
      "\u001b[36mFile \u001b[39m\u001b[32mc:\\Users\\F_bee\\AppData\\Local\\Programs\\Python\\Python312\\Lib\\site-packages\\plotly\\express\\_core.py:2483\u001b[39m, in \u001b[36mmake_figure\u001b[39m\u001b[34m(args, constructor, trace_patch, layout_patch)\u001b[39m\n\u001b[32m   2480\u001b[39m layout_patch = layout_patch \u001b[38;5;129;01mor\u001b[39;00m {}\n\u001b[32m   2481\u001b[39m apply_default_cascade(args)\n\u001b[32m-> \u001b[39m\u001b[32m2483\u001b[39m args = \u001b[43mbuild_dataframe\u001b[49m\u001b[43m(\u001b[49m\u001b[43margs\u001b[49m\u001b[43m,\u001b[49m\u001b[43m \u001b[49m\u001b[43mconstructor\u001b[49m\u001b[43m)\u001b[49m\n\u001b[32m   2484\u001b[39m \u001b[38;5;28;01mif\u001b[39;00m constructor \u001b[38;5;129;01min\u001b[39;00m [go.Treemap, go.Sunburst, go.Icicle] \u001b[38;5;129;01mand\u001b[39;00m args[\u001b[33m\"\u001b[39m\u001b[33mpath\u001b[39m\u001b[33m\"\u001b[39m] \u001b[38;5;129;01mis\u001b[39;00m \u001b[38;5;129;01mnot\u001b[39;00m \u001b[38;5;28;01mNone\u001b[39;00m:\n\u001b[32m   2485\u001b[39m     args = process_dataframe_hierarchy(args)\n",
      "\u001b[36mFile \u001b[39m\u001b[32mc:\\Users\\F_bee\\AppData\\Local\\Programs\\Python\\Python312\\Lib\\site-packages\\plotly\\express\\_core.py:1729\u001b[39m, in \u001b[36mbuild_dataframe\u001b[39m\u001b[34m(args, constructor)\u001b[39m\n\u001b[32m   1726\u001b[39m     args[\u001b[33m\"\u001b[39m\u001b[33mcolor\u001b[39m\u001b[33m\"\u001b[39m] = \u001b[38;5;28;01mNone\u001b[39;00m\n\u001b[32m   1727\u001b[39m \u001b[38;5;66;03m# now that things have been prepped, we do the systematic rewriting of `args`\u001b[39;00m\n\u001b[32m-> \u001b[39m\u001b[32m1729\u001b[39m df_output, wide_id_vars = \u001b[43mprocess_args_into_dataframe\u001b[49m\u001b[43m(\u001b[49m\n\u001b[32m   1730\u001b[39m \u001b[43m    \u001b[49m\u001b[43margs\u001b[49m\u001b[43m,\u001b[49m\n\u001b[32m   1731\u001b[39m \u001b[43m    \u001b[49m\u001b[43mwide_mode\u001b[49m\u001b[43m,\u001b[49m\n\u001b[32m   1732\u001b[39m \u001b[43m    \u001b[49m\u001b[43mvar_name\u001b[49m\u001b[43m,\u001b[49m\n\u001b[32m   1733\u001b[39m \u001b[43m    \u001b[49m\u001b[43mvalue_name\u001b[49m\u001b[43m,\u001b[49m\n\u001b[32m   1734\u001b[39m \u001b[43m    \u001b[49m\u001b[43mis_pd_like\u001b[49m\u001b[43m,\u001b[49m\n\u001b[32m   1735\u001b[39m \u001b[43m    \u001b[49m\u001b[43mnative_namespace\u001b[49m\u001b[43m,\u001b[49m\n\u001b[32m   1736\u001b[39m \u001b[43m\u001b[49m\u001b[43m)\u001b[49m\n\u001b[32m   1737\u001b[39m df_output: nw.DataFrame\n\u001b[32m   1738\u001b[39m \u001b[38;5;66;03m# now that `df_output` exists and `args` contains only references, we complete\u001b[39;00m\n\u001b[32m   1739\u001b[39m \u001b[38;5;66;03m# the special-case and wide-mode handling by further rewriting args and/or mutating\u001b[39;00m\n\u001b[32m   1740\u001b[39m \u001b[38;5;66;03m# df_output\u001b[39;00m\n",
      "\u001b[36mFile \u001b[39m\u001b[32mc:\\Users\\F_bee\\AppData\\Local\\Programs\\Python\\Python312\\Lib\\site-packages\\plotly\\express\\_core.py:1330\u001b[39m, in \u001b[36mprocess_args_into_dataframe\u001b[39m\u001b[34m(args, wide_mode, var_name, value_name, is_pd_like, native_namespace)\u001b[39m\n\u001b[32m   1328\u001b[39m         \u001b[38;5;28;01mif\u001b[39;00m argument == \u001b[33m\"\u001b[39m\u001b[33mindex\u001b[39m\u001b[33m\"\u001b[39m:\n\u001b[32m   1329\u001b[39m             err_msg += \u001b[33m\"\u001b[39m\u001b[38;5;130;01m\\n\u001b[39;00m\u001b[33m To use the index, pass it in directly as `df.index`.\u001b[39m\u001b[33m\"\u001b[39m\n\u001b[32m-> \u001b[39m\u001b[32m1330\u001b[39m         \u001b[38;5;28;01mraise\u001b[39;00m \u001b[38;5;167;01mValueError\u001b[39;00m(err_msg)\n\u001b[32m   1331\u001b[39m \u001b[38;5;28;01melif\u001b[39;00m length \u001b[38;5;129;01mand\u001b[39;00m (actual_len := \u001b[38;5;28mlen\u001b[39m(df_input)) != length:\n\u001b[32m   1332\u001b[39m     \u001b[38;5;28;01mraise\u001b[39;00m \u001b[38;5;167;01mValueError\u001b[39;00m(\n\u001b[32m   1333\u001b[39m         \u001b[33m\"\u001b[39m\u001b[33mAll arguments should have the same length. \u001b[39m\u001b[33m\"\u001b[39m\n\u001b[32m   1334\u001b[39m         \u001b[33m\"\u001b[39m\u001b[33mThe length of column argument `df[\u001b[39m\u001b[38;5;132;01m%s\u001b[39;00m\u001b[33m]` is \u001b[39m\u001b[38;5;132;01m%d\u001b[39;00m\u001b[33m, whereas the \u001b[39m\u001b[33m\"\u001b[39m\n\u001b[32m   (...)\u001b[39m\u001b[32m   1341\u001b[39m         )\n\u001b[32m   1342\u001b[39m     )\n",
      "\u001b[31mValueError\u001b[39m: Value of 'y' is not the name of a column in 'data_frame'. Expected one of ['Customer_Status', 'Age', 'Gender', 'Income_Level', 'Tenure_Months', 'Inactive_Months_In_Last_12', 'Credit_Limit', 'Total_Trans_Amount', 'Total_Trans_Count', 'Avg_Utilization_Ratio'] but received: Income_Category"
     ]
    }
   ],
   "source": [
    "# Interactive scatter plot: Income Level vs Gender vs Customer Status\n",
    "fig = px.scatter(bc, \n",
    "                x='Gender', \n",
    "                y='Income_Category',\n",
    "                color='Customer_Status',\n",
    "                size='Age',\n",
    "                hover_data=['Age', 'Credit_Limit', 'Tenure_Months'],\n",
    "                title='Income Level vs Gender by Customer Status',\n",
    "                labels={\n",
    "                    'Gender': 'Gender',\n",
    "                    'Income_Category': 'Income Level'\n",
    "                },\n",
    "                color_discrete_map={\n",
    "                    'Existing Customer': 'blue',\n",
    "                    'Attrited Customer': 'red'\n",
    "                })\n",
    "\n",
    "fig.update_traces(marker=dict(line=dict(width=1, color='DarkSlateGray')))\n",
    "fig.update_layout(\n",
    "    width=900,\n",
    "    height=600,\n",
    "    xaxis_title='Gender',\n",
    "    yaxis_title='Income Level'\n",
    ")\n",
    "\n",
    "fig.show()"
   ]
  },
  {
   "cell_type": "code",
   "execution_count": 11,
   "id": "31e6314c",
   "metadata": {},
   "outputs": [
    {
     "ename": "ValueError",
     "evalue": "('None entries cannot have not-None children', ('Attrited Customer', 'nan', '$120K +'))",
     "output_type": "error",
     "traceback": [
      "\u001b[31m---------------------------------------------------------------------------\u001b[39m",
      "\u001b[31mValueError\u001b[39m                                Traceback (most recent call last)",
      "\u001b[36mCell\u001b[39m\u001b[36m \u001b[39m\u001b[32mIn[11]\u001b[39m\u001b[32m, line 5\u001b[39m\n\u001b[32m      2\u001b[39m bc_display = bc.copy()\n\u001b[32m      3\u001b[39m bc_display[\u001b[33m'\u001b[39m\u001b[33mGender_Short\u001b[39m\u001b[33m'\u001b[39m] = bc_display[\u001b[33m'\u001b[39m\u001b[33mGender\u001b[39m\u001b[33m'\u001b[39m].map({\u001b[33m'\u001b[39m\u001b[33mFemale\u001b[39m\u001b[33m'\u001b[39m: \u001b[33m'\u001b[39m\u001b[33mF\u001b[39m\u001b[33m'\u001b[39m, \u001b[33m'\u001b[39m\u001b[33mMale\u001b[39m\u001b[33m'\u001b[39m: \u001b[33m'\u001b[39m\u001b[33mM\u001b[39m\u001b[33m'\u001b[39m})\n\u001b[32m----> \u001b[39m\u001b[32m5\u001b[39m fig = \u001b[43mpx\u001b[49m\u001b[43m.\u001b[49m\u001b[43msunburst\u001b[49m\u001b[43m(\u001b[49m\u001b[43mbc_display\u001b[49m\u001b[43m,\u001b[49m\u001b[43m \u001b[49m\n\u001b[32m      6\u001b[39m \u001b[43m                 \u001b[49m\u001b[43mpath\u001b[49m\u001b[43m=\u001b[49m\u001b[43m[\u001b[49m\u001b[33;43m'\u001b[39;49m\u001b[33;43mCustomer_Status\u001b[39;49m\u001b[33;43m'\u001b[39;49m\u001b[43m,\u001b[49m\u001b[43m \u001b[49m\u001b[33;43m'\u001b[39;49m\u001b[33;43mGender_Short\u001b[39;49m\u001b[33;43m'\u001b[39;49m\u001b[43m,\u001b[49m\u001b[43m \u001b[49m\u001b[33;43m'\u001b[39;49m\u001b[33;43mIncome_Level\u001b[39;49m\u001b[33;43m'\u001b[39;49m\u001b[43m]\u001b[49m\u001b[43m,\u001b[49m\n\u001b[32m      7\u001b[39m \u001b[43m                 \u001b[49m\u001b[43mtitle\u001b[49m\u001b[43m=\u001b[49m\u001b[33;43m'\u001b[39;49m\u001b[33;43mCustomer Status → Gender → Income Level Breakdown\u001b[39;49m\u001b[33;43m'\u001b[39;49m\u001b[43m,\u001b[49m\n\u001b[32m      8\u001b[39m \u001b[43m                 \u001b[49m\u001b[43mcolor_discrete_sequence\u001b[49m\u001b[43m=\u001b[49m\u001b[43mpx\u001b[49m\u001b[43m.\u001b[49m\u001b[43mcolors\u001b[49m\u001b[43m.\u001b[49m\u001b[43mqualitative\u001b[49m\u001b[43m.\u001b[49m\u001b[43mSet3\u001b[49m\u001b[43m)\u001b[49m\n\u001b[32m     10\u001b[39m fig.update_traces(\n\u001b[32m     11\u001b[39m     hovertemplate=\u001b[33m'\u001b[39m\u001b[33m<b>\u001b[39m\u001b[33m%\u001b[39m\u001b[38;5;132;01m{label}\u001b[39;00m\u001b[33m</b><br>\u001b[39m\u001b[33m'\u001b[39m +\n\u001b[32m     12\u001b[39m                   \u001b[33m'\u001b[39m\u001b[33mCount: \u001b[39m\u001b[33m%\u001b[39m\u001b[38;5;132;01m{value}\u001b[39;00m\u001b[33m<br>\u001b[39m\u001b[33m'\u001b[39m +\n\u001b[32m     13\u001b[39m                   \u001b[33m'\u001b[39m\u001b[33m<extra></extra>\u001b[39m\u001b[33m'\u001b[39m,\n\u001b[32m     14\u001b[39m     textinfo=\u001b[33m\"\u001b[39m\u001b[33mlabel\u001b[39m\u001b[33m\"\u001b[39m\n\u001b[32m     15\u001b[39m )\n\u001b[32m     17\u001b[39m fig.update_layout(\n\u001b[32m     18\u001b[39m     width=\u001b[32m700\u001b[39m,\n\u001b[32m     19\u001b[39m     height=\u001b[32m700\u001b[39m\n\u001b[32m     20\u001b[39m )\n",
      "\u001b[36mFile \u001b[39m\u001b[32mc:\\Users\\F_bee\\AppData\\Local\\Programs\\Python\\Python312\\Lib\\site-packages\\plotly\\express\\_chart_types.py:1761\u001b[39m, in \u001b[36msunburst\u001b[39m\u001b[34m(data_frame, names, values, parents, path, ids, color, color_continuous_scale, range_color, color_continuous_midpoint, color_discrete_sequence, color_discrete_map, hover_name, hover_data, custom_data, labels, title, subtitle, template, width, height, branchvalues, maxdepth)\u001b[39m\n\u001b[32m   1759\u001b[39m \u001b[38;5;28;01mif\u001b[39;00m path \u001b[38;5;129;01mis\u001b[39;00m \u001b[38;5;129;01mnot\u001b[39;00m \u001b[38;5;28;01mNone\u001b[39;00m \u001b[38;5;129;01mand\u001b[39;00m branchvalues \u001b[38;5;129;01mis\u001b[39;00m \u001b[38;5;28;01mNone\u001b[39;00m:\n\u001b[32m   1760\u001b[39m     branchvalues = \u001b[33m\"\u001b[39m\u001b[33mtotal\u001b[39m\u001b[33m\"\u001b[39m\n\u001b[32m-> \u001b[39m\u001b[32m1761\u001b[39m \u001b[38;5;28;01mreturn\u001b[39;00m \u001b[43mmake_figure\u001b[49m\u001b[43m(\u001b[49m\n\u001b[32m   1762\u001b[39m \u001b[43m    \u001b[49m\u001b[43margs\u001b[49m\u001b[43m=\u001b[49m\u001b[38;5;28;43mlocals\u001b[39;49m\u001b[43m(\u001b[49m\u001b[43m)\u001b[49m\u001b[43m,\u001b[49m\n\u001b[32m   1763\u001b[39m \u001b[43m    \u001b[49m\u001b[43mconstructor\u001b[49m\u001b[43m=\u001b[49m\u001b[43mgo\u001b[49m\u001b[43m.\u001b[49m\u001b[43mSunburst\u001b[49m\u001b[43m,\u001b[49m\n\u001b[32m   1764\u001b[39m \u001b[43m    \u001b[49m\u001b[43mtrace_patch\u001b[49m\u001b[43m=\u001b[49m\u001b[38;5;28;43mdict\u001b[39;49m\u001b[43m(\u001b[49m\u001b[43mbranchvalues\u001b[49m\u001b[43m=\u001b[49m\u001b[43mbranchvalues\u001b[49m\u001b[43m,\u001b[49m\u001b[43m \u001b[49m\u001b[43mmaxdepth\u001b[49m\u001b[43m=\u001b[49m\u001b[43mmaxdepth\u001b[49m\u001b[43m)\u001b[49m\u001b[43m,\u001b[49m\n\u001b[32m   1765\u001b[39m \u001b[43m    \u001b[49m\u001b[43mlayout_patch\u001b[49m\u001b[43m=\u001b[49m\u001b[43mlayout_patch\u001b[49m\u001b[43m,\u001b[49m\n\u001b[32m   1766\u001b[39m \u001b[43m\u001b[49m\u001b[43m)\u001b[49m\n",
      "\u001b[36mFile \u001b[39m\u001b[32mc:\\Users\\F_bee\\AppData\\Local\\Programs\\Python\\Python312\\Lib\\site-packages\\plotly\\express\\_core.py:2485\u001b[39m, in \u001b[36mmake_figure\u001b[39m\u001b[34m(args, constructor, trace_patch, layout_patch)\u001b[39m\n\u001b[32m   2483\u001b[39m args = build_dataframe(args, constructor)\n\u001b[32m   2484\u001b[39m \u001b[38;5;28;01mif\u001b[39;00m constructor \u001b[38;5;129;01min\u001b[39;00m [go.Treemap, go.Sunburst, go.Icicle] \u001b[38;5;129;01mand\u001b[39;00m args[\u001b[33m\"\u001b[39m\u001b[33mpath\u001b[39m\u001b[33m\"\u001b[39m] \u001b[38;5;129;01mis\u001b[39;00m \u001b[38;5;129;01mnot\u001b[39;00m \u001b[38;5;28;01mNone\u001b[39;00m:\n\u001b[32m-> \u001b[39m\u001b[32m2485\u001b[39m     args = \u001b[43mprocess_dataframe_hierarchy\u001b[49m\u001b[43m(\u001b[49m\u001b[43margs\u001b[49m\u001b[43m)\u001b[49m\n\u001b[32m   2486\u001b[39m \u001b[38;5;28;01mif\u001b[39;00m constructor \u001b[38;5;129;01min\u001b[39;00m [go.Pie]:\n\u001b[32m   2487\u001b[39m     args, trace_patch = process_dataframe_pie(args, trace_patch)\n",
      "\u001b[36mFile \u001b[39m\u001b[32mc:\\Users\\F_bee\\AppData\\Local\\Programs\\Python\\Python312\\Lib\\site-packages\\plotly\\express\\_core.py:1908\u001b[39m, in \u001b[36mprocess_dataframe_hierarchy\u001b[39m\u001b[34m(args)\u001b[39m\n\u001b[32m   1906\u001b[39m df: nw.DataFrame = args[\u001b[33m\"\u001b[39m\u001b[33mdata_frame\u001b[39m\u001b[33m\"\u001b[39m]\n\u001b[32m   1907\u001b[39m path = args[\u001b[33m\"\u001b[39m\u001b[33mpath\u001b[39m\u001b[33m\"\u001b[39m][::-\u001b[32m1\u001b[39m]\n\u001b[32m-> \u001b[39m\u001b[32m1908\u001b[39m \u001b[43m_check_dataframe_all_leaves\u001b[49m\u001b[43m(\u001b[49m\u001b[43mdf\u001b[49m\u001b[43m[\u001b[49m\u001b[43mpath\u001b[49m\u001b[43m[\u001b[49m\u001b[43m:\u001b[49m\u001b[43m:\u001b[49m\u001b[43m-\u001b[49m\u001b[32;43m1\u001b[39;49m\u001b[43m]\u001b[49m\u001b[43m]\u001b[49m\u001b[43m)\u001b[49m\n\u001b[32m   1909\u001b[39m discrete_color = \u001b[38;5;129;01mnot\u001b[39;00m _is_continuous(df, args[\u001b[33m\"\u001b[39m\u001b[33mcolor\u001b[39m\u001b[33m\"\u001b[39m]) \u001b[38;5;28;01mif\u001b[39;00m args[\u001b[33m\"\u001b[39m\u001b[33mcolor\u001b[39m\u001b[33m\"\u001b[39m] \u001b[38;5;28;01melse\u001b[39;00m \u001b[38;5;28;01mFalse\u001b[39;00m\n\u001b[32m   1911\u001b[39m df = df.lazy()\n",
      "\u001b[36mFile \u001b[39m\u001b[32mc:\\Users\\F_bee\\AppData\\Local\\Programs\\Python\\Python312\\Lib\\site-packages\\plotly\\express\\_core.py:1863\u001b[39m, in \u001b[36m_check_dataframe_all_leaves\u001b[39m\u001b[34m(df)\u001b[39m\n\u001b[32m   1861\u001b[39m         \u001b[38;5;28;01mif\u001b[39;00m nw.to_py_scalar(null_entries_with_non_null_children.any()):\n\u001b[32m   1862\u001b[39m             row_idx = null_entries_with_non_null_children.to_list().index(\u001b[38;5;28;01mTrue\u001b[39;00m)\n\u001b[32m-> \u001b[39m\u001b[32m1863\u001b[39m             \u001b[38;5;28;01mraise\u001b[39;00m \u001b[38;5;167;01mValueError\u001b[39;00m(\n\u001b[32m   1864\u001b[39m                 \u001b[33m\"\u001b[39m\u001b[33mNone entries cannot have not-None children\u001b[39m\u001b[33m\"\u001b[39m,\n\u001b[32m   1865\u001b[39m                 df_sorted.row(row_idx),\n\u001b[32m   1866\u001b[39m             )\n\u001b[32m   1868\u001b[39m fill_series = nw.new_series(\n\u001b[32m   1869\u001b[39m     name=\u001b[33m\"\u001b[39m\u001b[33mfill_value\u001b[39m\u001b[33m\"\u001b[39m,\n\u001b[32m   1870\u001b[39m     values=[\u001b[33m\"\u001b[39m\u001b[33m\"\u001b[39m] * \u001b[38;5;28mlen\u001b[39m(df_sorted),\n\u001b[32m   1871\u001b[39m     dtype=nw.String(),\n\u001b[32m   1872\u001b[39m     native_namespace=nw.get_native_namespace(df_sorted),\n\u001b[32m   1873\u001b[39m )\n\u001b[32m   1874\u001b[39m df_sorted = df_sorted.with_columns(\n\u001b[32m   1875\u001b[39m     **{\n\u001b[32m   1876\u001b[39m         c: df_sorted.get_column(c).zip_with(~null_mask.get_column(c), fill_series)\n\u001b[32m   1877\u001b[39m         \u001b[38;5;28;01mfor\u001b[39;00m c \u001b[38;5;129;01min\u001b[39;00m cols\n\u001b[32m   1878\u001b[39m     }\n\u001b[32m   1879\u001b[39m )\n",
      "\u001b[31mValueError\u001b[39m: ('None entries cannot have not-None children', ('Attrited Customer', 'nan', '$120K +'))"
     ]
    }
   ],
   "source": [
    "# First, create a copy with modified gender labels\n",
    "bc_display = bc.copy()\n",
    "bc_display['Gender_Short'] = bc_display['Gender'].map({'Female': 'F', 'Male': 'M'})\n",
    "\n",
    "fig = px.sunburst(bc_display, \n",
    "                 path=['Customer_Status', 'Gender_Short', 'Income_Level'],\n",
    "                 title='Customer Status → Gender → Income Level Breakdown',\n",
    "                 color_discrete_sequence=px.colors.qualitative.Set3)\n",
    "\n",
    "fig.update_traces(\n",
    "    hovertemplate='<b>%{label}</b><br>' +\n",
    "                  'Count: %{value}<br>' +\n",
    "                  '<extra></extra>',\n",
    "    textinfo=\"label\"\n",
    ")\n",
    "\n",
    "fig.update_layout(\n",
    "    width=700,\n",
    "    height=700\n",
    ")\n",
    "\n",
    "fig.show()"
   ]
  },
  {
   "cell_type": "code",
   "execution_count": 17,
   "id": "ebcfb4cf",
   "metadata": {},
   "outputs": [
    {
     "data": {
      "application/vnd.plotly.v1+json": {
       "config": {
        "plotlyServerURL": "https://plot.ly"
       },
       "data": [
        {
         "branchvalues": "total",
         "domain": {
          "x": [
           0,
           1
          ],
          "y": [
           0,
           1
          ]
         },
         "hovertemplate": "<b>%{label}</b><br>Count: %{value}<br><extra></extra>",
         "ids": [
          "Existing Customer/F/Unknown",
          "Attrited Customer/M/$40K - $60K",
          "Existing Customer/M/Less than $40K",
          "Existing Customer/M/$60K - $80K",
          "Existing Customer/F/Less than $40K",
          "Existing Customer/M/$40K - $60K",
          "Attrited Customer/F/Unknown",
          "Attrited Customer/M/$80K - $120K",
          "Attrited Customer/F/Less than $40K",
          "Existing Customer/M/$80K - $120K",
          "Existing Customer/F/$40K - $60K",
          "Existing Customer/M/$120K +",
          "Attrited Customer/F/$40K - $60K",
          "Existing Customer/M/Unknown",
          "Attrited Customer/M/$120K +",
          "Attrited Customer/M/$60K - $80K",
          "Existing Customer/F",
          "Attrited Customer/M",
          "Existing Customer/M",
          "Attrited Customer/F",
          "Existing Customer",
          "Attrited Customer"
         ],
         "labels": [
          "Unknown",
          "$40K - $60K",
          "Less than $40K",
          "$60K - $80K",
          "Less than $40K",
          "$40K - $60K",
          "Unknown",
          "$80K - $120K",
          "Less than $40K",
          "$80K - $120K",
          "$40K - $60K",
          "$120K +",
          "$40K - $60K",
          "Unknown",
          "$120K +",
          "$60K - $80K",
          "F",
          "M",
          "M",
          "F",
          "Existing Customer",
          "Attrited Customer"
         ],
         "marker": {
          "line": {
           "color": "darkred",
           "width": 2
          }
         },
         "name": "",
         "parents": [
          "Existing Customer/F",
          "Attrited Customer/M",
          "Existing Customer/M",
          "Existing Customer/M",
          "Existing Customer/F",
          "Existing Customer/M",
          "Attrited Customer/F",
          "Attrited Customer/M",
          "Attrited Customer/F",
          "Existing Customer/M",
          "Existing Customer/F",
          "Existing Customer/M",
          "Attrited Customer/F",
          "Existing Customer/M",
          "Attrited Customer/M",
          "Attrited Customer/M",
          "Existing Customer",
          "Attrited Customer",
          "Existing Customer",
          "Attrited Customer",
          "",
          ""
         ],
         "textinfo": "label+percent parent",
         "type": "sunburst",
         "values": {
          "bdata": "FAAEAAIAEgBBAAsAAwADABIADQASAAwABAABAAEAAwBnAAsAOQAZAKAAJAA=",
          "dtype": "i2"
         }
        }
       ],
       "layout": {
        "height": 700,
        "legend": {
         "tracegroupgap": 0
        },
        "sunburstcolorway": [
         "#FF6B6B",
         "#4ECDC4",
         "#45B7D1",
         "#96CEB4",
         "#FECA57",
         "#F38BA8",
         "#A8E6CF"
        ],
        "template": {
         "data": {
          "bar": [
           {
            "error_x": {
             "color": "#2a3f5f"
            },
            "error_y": {
             "color": "#2a3f5f"
            },
            "marker": {
             "line": {
              "color": "#E5ECF6",
              "width": 0.5
             },
             "pattern": {
              "fillmode": "overlay",
              "size": 10,
              "solidity": 0.2
             }
            },
            "type": "bar"
           }
          ],
          "barpolar": [
           {
            "marker": {
             "line": {
              "color": "#E5ECF6",
              "width": 0.5
             },
             "pattern": {
              "fillmode": "overlay",
              "size": 10,
              "solidity": 0.2
             }
            },
            "type": "barpolar"
           }
          ],
          "carpet": [
           {
            "aaxis": {
             "endlinecolor": "#2a3f5f",
             "gridcolor": "white",
             "linecolor": "white",
             "minorgridcolor": "white",
             "startlinecolor": "#2a3f5f"
            },
            "baxis": {
             "endlinecolor": "#2a3f5f",
             "gridcolor": "white",
             "linecolor": "white",
             "minorgridcolor": "white",
             "startlinecolor": "#2a3f5f"
            },
            "type": "carpet"
           }
          ],
          "choropleth": [
           {
            "colorbar": {
             "outlinewidth": 0,
             "ticks": ""
            },
            "type": "choropleth"
           }
          ],
          "contour": [
           {
            "colorbar": {
             "outlinewidth": 0,
             "ticks": ""
            },
            "colorscale": [
             [
              0,
              "#0d0887"
             ],
             [
              0.1111111111111111,
              "#46039f"
             ],
             [
              0.2222222222222222,
              "#7201a8"
             ],
             [
              0.3333333333333333,
              "#9c179e"
             ],
             [
              0.4444444444444444,
              "#bd3786"
             ],
             [
              0.5555555555555556,
              "#d8576b"
             ],
             [
              0.6666666666666666,
              "#ed7953"
             ],
             [
              0.7777777777777778,
              "#fb9f3a"
             ],
             [
              0.8888888888888888,
              "#fdca26"
             ],
             [
              1,
              "#f0f921"
             ]
            ],
            "type": "contour"
           }
          ],
          "contourcarpet": [
           {
            "colorbar": {
             "outlinewidth": 0,
             "ticks": ""
            },
            "type": "contourcarpet"
           }
          ],
          "heatmap": [
           {
            "colorbar": {
             "outlinewidth": 0,
             "ticks": ""
            },
            "colorscale": [
             [
              0,
              "#0d0887"
             ],
             [
              0.1111111111111111,
              "#46039f"
             ],
             [
              0.2222222222222222,
              "#7201a8"
             ],
             [
              0.3333333333333333,
              "#9c179e"
             ],
             [
              0.4444444444444444,
              "#bd3786"
             ],
             [
              0.5555555555555556,
              "#d8576b"
             ],
             [
              0.6666666666666666,
              "#ed7953"
             ],
             [
              0.7777777777777778,
              "#fb9f3a"
             ],
             [
              0.8888888888888888,
              "#fdca26"
             ],
             [
              1,
              "#f0f921"
             ]
            ],
            "type": "heatmap"
           }
          ],
          "histogram": [
           {
            "marker": {
             "pattern": {
              "fillmode": "overlay",
              "size": 10,
              "solidity": 0.2
             }
            },
            "type": "histogram"
           }
          ],
          "histogram2d": [
           {
            "colorbar": {
             "outlinewidth": 0,
             "ticks": ""
            },
            "colorscale": [
             [
              0,
              "#0d0887"
             ],
             [
              0.1111111111111111,
              "#46039f"
             ],
             [
              0.2222222222222222,
              "#7201a8"
             ],
             [
              0.3333333333333333,
              "#9c179e"
             ],
             [
              0.4444444444444444,
              "#bd3786"
             ],
             [
              0.5555555555555556,
              "#d8576b"
             ],
             [
              0.6666666666666666,
              "#ed7953"
             ],
             [
              0.7777777777777778,
              "#fb9f3a"
             ],
             [
              0.8888888888888888,
              "#fdca26"
             ],
             [
              1,
              "#f0f921"
             ]
            ],
            "type": "histogram2d"
           }
          ],
          "histogram2dcontour": [
           {
            "colorbar": {
             "outlinewidth": 0,
             "ticks": ""
            },
            "colorscale": [
             [
              0,
              "#0d0887"
             ],
             [
              0.1111111111111111,
              "#46039f"
             ],
             [
              0.2222222222222222,
              "#7201a8"
             ],
             [
              0.3333333333333333,
              "#9c179e"
             ],
             [
              0.4444444444444444,
              "#bd3786"
             ],
             [
              0.5555555555555556,
              "#d8576b"
             ],
             [
              0.6666666666666666,
              "#ed7953"
             ],
             [
              0.7777777777777778,
              "#fb9f3a"
             ],
             [
              0.8888888888888888,
              "#fdca26"
             ],
             [
              1,
              "#f0f921"
             ]
            ],
            "type": "histogram2dcontour"
           }
          ],
          "mesh3d": [
           {
            "colorbar": {
             "outlinewidth": 0,
             "ticks": ""
            },
            "type": "mesh3d"
           }
          ],
          "parcoords": [
           {
            "line": {
             "colorbar": {
              "outlinewidth": 0,
              "ticks": ""
             }
            },
            "type": "parcoords"
           }
          ],
          "pie": [
           {
            "automargin": true,
            "type": "pie"
           }
          ],
          "scatter": [
           {
            "fillpattern": {
             "fillmode": "overlay",
             "size": 10,
             "solidity": 0.2
            },
            "type": "scatter"
           }
          ],
          "scatter3d": [
           {
            "line": {
             "colorbar": {
              "outlinewidth": 0,
              "ticks": ""
             }
            },
            "marker": {
             "colorbar": {
              "outlinewidth": 0,
              "ticks": ""
             }
            },
            "type": "scatter3d"
           }
          ],
          "scattercarpet": [
           {
            "marker": {
             "colorbar": {
              "outlinewidth": 0,
              "ticks": ""
             }
            },
            "type": "scattercarpet"
           }
          ],
          "scattergeo": [
           {
            "marker": {
             "colorbar": {
              "outlinewidth": 0,
              "ticks": ""
             }
            },
            "type": "scattergeo"
           }
          ],
          "scattergl": [
           {
            "marker": {
             "colorbar": {
              "outlinewidth": 0,
              "ticks": ""
             }
            },
            "type": "scattergl"
           }
          ],
          "scattermap": [
           {
            "marker": {
             "colorbar": {
              "outlinewidth": 0,
              "ticks": ""
             }
            },
            "type": "scattermap"
           }
          ],
          "scattermapbox": [
           {
            "marker": {
             "colorbar": {
              "outlinewidth": 0,
              "ticks": ""
             }
            },
            "type": "scattermapbox"
           }
          ],
          "scatterpolar": [
           {
            "marker": {
             "colorbar": {
              "outlinewidth": 0,
              "ticks": ""
             }
            },
            "type": "scatterpolar"
           }
          ],
          "scatterpolargl": [
           {
            "marker": {
             "colorbar": {
              "outlinewidth": 0,
              "ticks": ""
             }
            },
            "type": "scatterpolargl"
           }
          ],
          "scatterternary": [
           {
            "marker": {
             "colorbar": {
              "outlinewidth": 0,
              "ticks": ""
             }
            },
            "type": "scatterternary"
           }
          ],
          "surface": [
           {
            "colorbar": {
             "outlinewidth": 0,
             "ticks": ""
            },
            "colorscale": [
             [
              0,
              "#0d0887"
             ],
             [
              0.1111111111111111,
              "#46039f"
             ],
             [
              0.2222222222222222,
              "#7201a8"
             ],
             [
              0.3333333333333333,
              "#9c179e"
             ],
             [
              0.4444444444444444,
              "#bd3786"
             ],
             [
              0.5555555555555556,
              "#d8576b"
             ],
             [
              0.6666666666666666,
              "#ed7953"
             ],
             [
              0.7777777777777778,
              "#fb9f3a"
             ],
             [
              0.8888888888888888,
              "#fdca26"
             ],
             [
              1,
              "#f0f921"
             ]
            ],
            "type": "surface"
           }
          ],
          "table": [
           {
            "cells": {
             "fill": {
              "color": "#EBF0F8"
             },
             "line": {
              "color": "white"
             }
            },
            "header": {
             "fill": {
              "color": "#C8D4E3"
             },
             "line": {
              "color": "white"
             }
            },
            "type": "table"
           }
          ]
         },
         "layout": {
          "annotationdefaults": {
           "arrowcolor": "#2a3f5f",
           "arrowhead": 0,
           "arrowwidth": 1
          },
          "autotypenumbers": "strict",
          "coloraxis": {
           "colorbar": {
            "outlinewidth": 0,
            "ticks": ""
           }
          },
          "colorscale": {
           "diverging": [
            [
             0,
             "#8e0152"
            ],
            [
             0.1,
             "#c51b7d"
            ],
            [
             0.2,
             "#de77ae"
            ],
            [
             0.3,
             "#f1b6da"
            ],
            [
             0.4,
             "#fde0ef"
            ],
            [
             0.5,
             "#f7f7f7"
            ],
            [
             0.6,
             "#e6f5d0"
            ],
            [
             0.7,
             "#b8e186"
            ],
            [
             0.8,
             "#7fbc41"
            ],
            [
             0.9,
             "#4d9221"
            ],
            [
             1,
             "#276419"
            ]
           ],
           "sequential": [
            [
             0,
             "#0d0887"
            ],
            [
             0.1111111111111111,
             "#46039f"
            ],
            [
             0.2222222222222222,
             "#7201a8"
            ],
            [
             0.3333333333333333,
             "#9c179e"
            ],
            [
             0.4444444444444444,
             "#bd3786"
            ],
            [
             0.5555555555555556,
             "#d8576b"
            ],
            [
             0.6666666666666666,
             "#ed7953"
            ],
            [
             0.7777777777777778,
             "#fb9f3a"
            ],
            [
             0.8888888888888888,
             "#fdca26"
            ],
            [
             1,
             "#f0f921"
            ]
           ],
           "sequentialminus": [
            [
             0,
             "#0d0887"
            ],
            [
             0.1111111111111111,
             "#46039f"
            ],
            [
             0.2222222222222222,
             "#7201a8"
            ],
            [
             0.3333333333333333,
             "#9c179e"
            ],
            [
             0.4444444444444444,
             "#bd3786"
            ],
            [
             0.5555555555555556,
             "#d8576b"
            ],
            [
             0.6666666666666666,
             "#ed7953"
            ],
            [
             0.7777777777777778,
             "#fb9f3a"
            ],
            [
             0.8888888888888888,
             "#fdca26"
            ],
            [
             1,
             "#f0f921"
            ]
           ]
          },
          "colorway": [
           "#636efa",
           "#EF553B",
           "#00cc96",
           "#ab63fa",
           "#FFA15A",
           "#19d3f3",
           "#FF6692",
           "#B6E880",
           "#FF97FF",
           "#FECB52"
          ],
          "font": {
           "color": "#2a3f5f"
          },
          "geo": {
           "bgcolor": "white",
           "lakecolor": "white",
           "landcolor": "#E5ECF6",
           "showlakes": true,
           "showland": true,
           "subunitcolor": "white"
          },
          "hoverlabel": {
           "align": "left"
          },
          "hovermode": "closest",
          "mapbox": {
           "style": "light"
          },
          "paper_bgcolor": "white",
          "plot_bgcolor": "#E5ECF6",
          "polar": {
           "angularaxis": {
            "gridcolor": "white",
            "linecolor": "white",
            "ticks": ""
           },
           "bgcolor": "#E5ECF6",
           "radialaxis": {
            "gridcolor": "white",
            "linecolor": "white",
            "ticks": ""
           }
          },
          "scene": {
           "xaxis": {
            "backgroundcolor": "#E5ECF6",
            "gridcolor": "white",
            "gridwidth": 2,
            "linecolor": "white",
            "showbackground": true,
            "ticks": "",
            "zerolinecolor": "white"
           },
           "yaxis": {
            "backgroundcolor": "#E5ECF6",
            "gridcolor": "white",
            "gridwidth": 2,
            "linecolor": "white",
            "showbackground": true,
            "ticks": "",
            "zerolinecolor": "white"
           },
           "zaxis": {
            "backgroundcolor": "#E5ECF6",
            "gridcolor": "white",
            "gridwidth": 2,
            "linecolor": "white",
            "showbackground": true,
            "ticks": "",
            "zerolinecolor": "white"
           }
          },
          "shapedefaults": {
           "line": {
            "color": "#2a3f5f"
           }
          },
          "ternary": {
           "aaxis": {
            "gridcolor": "white",
            "linecolor": "white",
            "ticks": ""
           },
           "baxis": {
            "gridcolor": "white",
            "linecolor": "white",
            "ticks": ""
           },
           "bgcolor": "#E5ECF6",
           "caxis": {
            "gridcolor": "white",
            "linecolor": "white",
            "ticks": ""
           }
          },
          "title": {
           "x": 0.05
          },
          "xaxis": {
           "automargin": true,
           "gridcolor": "white",
           "linecolor": "white",
           "ticks": "",
           "title": {
            "standoff": 15
           },
           "zerolinecolor": "white",
           "zerolinewidth": 2
          },
          "yaxis": {
           "automargin": true,
           "gridcolor": "white",
           "linecolor": "white",
           "ticks": "",
           "title": {
            "standoff": 15
           },
           "zerolinecolor": "white",
           "zerolinewidth": 2
          }
         }
        },
        "title": {
         "text": "Comparison Between Customer Status, Gender and Income Level"
        },
        "width": 700
       }
      }
     },
     "metadata": {},
     "output_type": "display_data"
    }
   ],
   "source": [
    "# Create custom colors with red for attrited customers\n",
    "custom_colors = ['#FF6B6B', '#4ECDC4', '#45B7D1', '#96CEB4', '#FECA57', '#F38BA8', '#A8E6CF']\n",
    "\n",
    "fig = px.sunburst(bc, \n",
    "                 path=['Customer_Status', 'Gender', 'Income_Level'],\n",
    "                 title='Comparison Between Customer Status, Gender and Income Level',\n",
    "                 color_discrete_sequence=custom_colors)\n",
    "\n",
    "fig.update_traces(\n",
    "    hovertemplate='<b>%{label}</b><br>' +\n",
    "                  'Count: %{value}<br>' +\n",
    "                  '<extra></extra>',\n",
    "    textinfo=\"label+percent parent\",\n",
    "    marker=dict(\n",
    "        line=dict(\n",
    "            color=\"darkred\",\n",
    "            width=2\n",
    "        )\n",
    "    )\n",
    ")\n",
    "\n",
    "fig.update_layout(\n",
    "    title='Comparison Between Customer Status, Gender and Income Level',\n",
    "    width=700,\n",
    "    height=700\n",
    ")\n",
    "\n",
    "fig.show()"
   ]
  },
  {
   "cell_type": "code",
   "execution_count": 16,
   "id": "5a5d1b4a",
   "metadata": {},
   "outputs": [
    {
     "data": {
      "application/vnd.plotly.v1+json": {
       "config": {
        "plotlyServerURL": "https://plot.ly"
       },
       "data": [
        {
         "branchvalues": "total",
         "domain": {
          "x": [
           0,
           1
          ],
          "y": [
           0,
           1
          ]
         },
         "hovertemplate": "<b>%{label}</b><br>Count: %{value}<br><extra></extra>",
         "ids": [
          "Existing Customer/F/Unknown",
          "Attrited Customer/M/$40K - $60K",
          "Existing Customer/M/Less than $40K",
          "Existing Customer/M/$60K - $80K",
          "Existing Customer/F/Less than $40K",
          "Existing Customer/M/$40K - $60K",
          "Attrited Customer/F/Unknown",
          "Attrited Customer/M/$80K - $120K",
          "Attrited Customer/F/Less than $40K",
          "Existing Customer/M/$80K - $120K",
          "Existing Customer/F/$40K - $60K",
          "Existing Customer/M/$120K +",
          "Attrited Customer/F/$40K - $60K",
          "Existing Customer/M/Unknown",
          "Attrited Customer/M/$120K +",
          "Attrited Customer/M/$60K - $80K",
          "Existing Customer/F",
          "Attrited Customer/M",
          "Existing Customer/M",
          "Attrited Customer/F",
          "Existing Customer",
          "Attrited Customer"
         ],
         "labels": [
          "Unknown",
          "$40K - $60K",
          "Less than $40K",
          "$60K - $80K",
          "Less than $40K",
          "$40K - $60K",
          "Unknown",
          "$80K - $120K",
          "Less than $40K",
          "$80K - $120K",
          "$40K - $60K",
          "$120K +",
          "$40K - $60K",
          "Unknown",
          "$120K +",
          "$60K - $80K",
          "F",
          "M",
          "M",
          "F",
          "Existing Customer",
          "Attrited Customer"
         ],
         "marker": {
          "line": {
           "color": "darkred",
           "width": 2
          }
         },
         "name": "",
         "parents": [
          "Existing Customer/F",
          "Attrited Customer/M",
          "Existing Customer/M",
          "Existing Customer/M",
          "Existing Customer/F",
          "Existing Customer/M",
          "Attrited Customer/F",
          "Attrited Customer/M",
          "Attrited Customer/F",
          "Existing Customer/M",
          "Existing Customer/F",
          "Existing Customer/M",
          "Attrited Customer/F",
          "Existing Customer/M",
          "Attrited Customer/M",
          "Attrited Customer/M",
          "Existing Customer",
          "Attrited Customer",
          "Existing Customer",
          "Attrited Customer",
          "",
          ""
         ],
         "textinfo": "label+percent parent",
         "type": "sunburst",
         "values": {
          "bdata": "FAAEAAIAEgBBAAsAAwADABIADQASAAwABAABAAEAAwBnAAsAOQAZAKAAJAA=",
          "dtype": "i2"
         }
        }
       ],
       "layout": {
        "height": 700,
        "legend": {
         "tracegroupgap": 0
        },
        "sunburstcolorway": [
         "#FF6B6B",
         "#4ECDC4",
         "#45B7D1",
         "#96CEB4",
         "#FECA57",
         "#F38BA8",
         "#A8E6CF"
        ],
        "template": {
         "data": {
          "bar": [
           {
            "error_x": {
             "color": "#2a3f5f"
            },
            "error_y": {
             "color": "#2a3f5f"
            },
            "marker": {
             "line": {
              "color": "#E5ECF6",
              "width": 0.5
             },
             "pattern": {
              "fillmode": "overlay",
              "size": 10,
              "solidity": 0.2
             }
            },
            "type": "bar"
           }
          ],
          "barpolar": [
           {
            "marker": {
             "line": {
              "color": "#E5ECF6",
              "width": 0.5
             },
             "pattern": {
              "fillmode": "overlay",
              "size": 10,
              "solidity": 0.2
             }
            },
            "type": "barpolar"
           }
          ],
          "carpet": [
           {
            "aaxis": {
             "endlinecolor": "#2a3f5f",
             "gridcolor": "white",
             "linecolor": "white",
             "minorgridcolor": "white",
             "startlinecolor": "#2a3f5f"
            },
            "baxis": {
             "endlinecolor": "#2a3f5f",
             "gridcolor": "white",
             "linecolor": "white",
             "minorgridcolor": "white",
             "startlinecolor": "#2a3f5f"
            },
            "type": "carpet"
           }
          ],
          "choropleth": [
           {
            "colorbar": {
             "outlinewidth": 0,
             "ticks": ""
            },
            "type": "choropleth"
           }
          ],
          "contour": [
           {
            "colorbar": {
             "outlinewidth": 0,
             "ticks": ""
            },
            "colorscale": [
             [
              0,
              "#0d0887"
             ],
             [
              0.1111111111111111,
              "#46039f"
             ],
             [
              0.2222222222222222,
              "#7201a8"
             ],
             [
              0.3333333333333333,
              "#9c179e"
             ],
             [
              0.4444444444444444,
              "#bd3786"
             ],
             [
              0.5555555555555556,
              "#d8576b"
             ],
             [
              0.6666666666666666,
              "#ed7953"
             ],
             [
              0.7777777777777778,
              "#fb9f3a"
             ],
             [
              0.8888888888888888,
              "#fdca26"
             ],
             [
              1,
              "#f0f921"
             ]
            ],
            "type": "contour"
           }
          ],
          "contourcarpet": [
           {
            "colorbar": {
             "outlinewidth": 0,
             "ticks": ""
            },
            "type": "contourcarpet"
           }
          ],
          "heatmap": [
           {
            "colorbar": {
             "outlinewidth": 0,
             "ticks": ""
            },
            "colorscale": [
             [
              0,
              "#0d0887"
             ],
             [
              0.1111111111111111,
              "#46039f"
             ],
             [
              0.2222222222222222,
              "#7201a8"
             ],
             [
              0.3333333333333333,
              "#9c179e"
             ],
             [
              0.4444444444444444,
              "#bd3786"
             ],
             [
              0.5555555555555556,
              "#d8576b"
             ],
             [
              0.6666666666666666,
              "#ed7953"
             ],
             [
              0.7777777777777778,
              "#fb9f3a"
             ],
             [
              0.8888888888888888,
              "#fdca26"
             ],
             [
              1,
              "#f0f921"
             ]
            ],
            "type": "heatmap"
           }
          ],
          "histogram": [
           {
            "marker": {
             "pattern": {
              "fillmode": "overlay",
              "size": 10,
              "solidity": 0.2
             }
            },
            "type": "histogram"
           }
          ],
          "histogram2d": [
           {
            "colorbar": {
             "outlinewidth": 0,
             "ticks": ""
            },
            "colorscale": [
             [
              0,
              "#0d0887"
             ],
             [
              0.1111111111111111,
              "#46039f"
             ],
             [
              0.2222222222222222,
              "#7201a8"
             ],
             [
              0.3333333333333333,
              "#9c179e"
             ],
             [
              0.4444444444444444,
              "#bd3786"
             ],
             [
              0.5555555555555556,
              "#d8576b"
             ],
             [
              0.6666666666666666,
              "#ed7953"
             ],
             [
              0.7777777777777778,
              "#fb9f3a"
             ],
             [
              0.8888888888888888,
              "#fdca26"
             ],
             [
              1,
              "#f0f921"
             ]
            ],
            "type": "histogram2d"
           }
          ],
          "histogram2dcontour": [
           {
            "colorbar": {
             "outlinewidth": 0,
             "ticks": ""
            },
            "colorscale": [
             [
              0,
              "#0d0887"
             ],
             [
              0.1111111111111111,
              "#46039f"
             ],
             [
              0.2222222222222222,
              "#7201a8"
             ],
             [
              0.3333333333333333,
              "#9c179e"
             ],
             [
              0.4444444444444444,
              "#bd3786"
             ],
             [
              0.5555555555555556,
              "#d8576b"
             ],
             [
              0.6666666666666666,
              "#ed7953"
             ],
             [
              0.7777777777777778,
              "#fb9f3a"
             ],
             [
              0.8888888888888888,
              "#fdca26"
             ],
             [
              1,
              "#f0f921"
             ]
            ],
            "type": "histogram2dcontour"
           }
          ],
          "mesh3d": [
           {
            "colorbar": {
             "outlinewidth": 0,
             "ticks": ""
            },
            "type": "mesh3d"
           }
          ],
          "parcoords": [
           {
            "line": {
             "colorbar": {
              "outlinewidth": 0,
              "ticks": ""
             }
            },
            "type": "parcoords"
           }
          ],
          "pie": [
           {
            "automargin": true,
            "type": "pie"
           }
          ],
          "scatter": [
           {
            "fillpattern": {
             "fillmode": "overlay",
             "size": 10,
             "solidity": 0.2
            },
            "type": "scatter"
           }
          ],
          "scatter3d": [
           {
            "line": {
             "colorbar": {
              "outlinewidth": 0,
              "ticks": ""
             }
            },
            "marker": {
             "colorbar": {
              "outlinewidth": 0,
              "ticks": ""
             }
            },
            "type": "scatter3d"
           }
          ],
          "scattercarpet": [
           {
            "marker": {
             "colorbar": {
              "outlinewidth": 0,
              "ticks": ""
             }
            },
            "type": "scattercarpet"
           }
          ],
          "scattergeo": [
           {
            "marker": {
             "colorbar": {
              "outlinewidth": 0,
              "ticks": ""
             }
            },
            "type": "scattergeo"
           }
          ],
          "scattergl": [
           {
            "marker": {
             "colorbar": {
              "outlinewidth": 0,
              "ticks": ""
             }
            },
            "type": "scattergl"
           }
          ],
          "scattermap": [
           {
            "marker": {
             "colorbar": {
              "outlinewidth": 0,
              "ticks": ""
             }
            },
            "type": "scattermap"
           }
          ],
          "scattermapbox": [
           {
            "marker": {
             "colorbar": {
              "outlinewidth": 0,
              "ticks": ""
             }
            },
            "type": "scattermapbox"
           }
          ],
          "scatterpolar": [
           {
            "marker": {
             "colorbar": {
              "outlinewidth": 0,
              "ticks": ""
             }
            },
            "type": "scatterpolar"
           }
          ],
          "scatterpolargl": [
           {
            "marker": {
             "colorbar": {
              "outlinewidth": 0,
              "ticks": ""
             }
            },
            "type": "scatterpolargl"
           }
          ],
          "scatterternary": [
           {
            "marker": {
             "colorbar": {
              "outlinewidth": 0,
              "ticks": ""
             }
            },
            "type": "scatterternary"
           }
          ],
          "surface": [
           {
            "colorbar": {
             "outlinewidth": 0,
             "ticks": ""
            },
            "colorscale": [
             [
              0,
              "#0d0887"
             ],
             [
              0.1111111111111111,
              "#46039f"
             ],
             [
              0.2222222222222222,
              "#7201a8"
             ],
             [
              0.3333333333333333,
              "#9c179e"
             ],
             [
              0.4444444444444444,
              "#bd3786"
             ],
             [
              0.5555555555555556,
              "#d8576b"
             ],
             [
              0.6666666666666666,
              "#ed7953"
             ],
             [
              0.7777777777777778,
              "#fb9f3a"
             ],
             [
              0.8888888888888888,
              "#fdca26"
             ],
             [
              1,
              "#f0f921"
             ]
            ],
            "type": "surface"
           }
          ],
          "table": [
           {
            "cells": {
             "fill": {
              "color": "#EBF0F8"
             },
             "line": {
              "color": "white"
             }
            },
            "header": {
             "fill": {
              "color": "#C8D4E3"
             },
             "line": {
              "color": "white"
             }
            },
            "type": "table"
           }
          ]
         },
         "layout": {
          "annotationdefaults": {
           "arrowcolor": "#2a3f5f",
           "arrowhead": 0,
           "arrowwidth": 1
          },
          "autotypenumbers": "strict",
          "coloraxis": {
           "colorbar": {
            "outlinewidth": 0,
            "ticks": ""
           }
          },
          "colorscale": {
           "diverging": [
            [
             0,
             "#8e0152"
            ],
            [
             0.1,
             "#c51b7d"
            ],
            [
             0.2,
             "#de77ae"
            ],
            [
             0.3,
             "#f1b6da"
            ],
            [
             0.4,
             "#fde0ef"
            ],
            [
             0.5,
             "#f7f7f7"
            ],
            [
             0.6,
             "#e6f5d0"
            ],
            [
             0.7,
             "#b8e186"
            ],
            [
             0.8,
             "#7fbc41"
            ],
            [
             0.9,
             "#4d9221"
            ],
            [
             1,
             "#276419"
            ]
           ],
           "sequential": [
            [
             0,
             "#0d0887"
            ],
            [
             0.1111111111111111,
             "#46039f"
            ],
            [
             0.2222222222222222,
             "#7201a8"
            ],
            [
             0.3333333333333333,
             "#9c179e"
            ],
            [
             0.4444444444444444,
             "#bd3786"
            ],
            [
             0.5555555555555556,
             "#d8576b"
            ],
            [
             0.6666666666666666,
             "#ed7953"
            ],
            [
             0.7777777777777778,
             "#fb9f3a"
            ],
            [
             0.8888888888888888,
             "#fdca26"
            ],
            [
             1,
             "#f0f921"
            ]
           ],
           "sequentialminus": [
            [
             0,
             "#0d0887"
            ],
            [
             0.1111111111111111,
             "#46039f"
            ],
            [
             0.2222222222222222,
             "#7201a8"
            ],
            [
             0.3333333333333333,
             "#9c179e"
            ],
            [
             0.4444444444444444,
             "#bd3786"
            ],
            [
             0.5555555555555556,
             "#d8576b"
            ],
            [
             0.6666666666666666,
             "#ed7953"
            ],
            [
             0.7777777777777778,
             "#fb9f3a"
            ],
            [
             0.8888888888888888,
             "#fdca26"
            ],
            [
             1,
             "#f0f921"
            ]
           ]
          },
          "colorway": [
           "#636efa",
           "#EF553B",
           "#00cc96",
           "#ab63fa",
           "#FFA15A",
           "#19d3f3",
           "#FF6692",
           "#B6E880",
           "#FF97FF",
           "#FECB52"
          ],
          "font": {
           "color": "#2a3f5f"
          },
          "geo": {
           "bgcolor": "white",
           "lakecolor": "white",
           "landcolor": "#E5ECF6",
           "showlakes": true,
           "showland": true,
           "subunitcolor": "white"
          },
          "hoverlabel": {
           "align": "left"
          },
          "hovermode": "closest",
          "mapbox": {
           "style": "light"
          },
          "paper_bgcolor": "white",
          "plot_bgcolor": "#E5ECF6",
          "polar": {
           "angularaxis": {
            "gridcolor": "white",
            "linecolor": "white",
            "ticks": ""
           },
           "bgcolor": "#E5ECF6",
           "radialaxis": {
            "gridcolor": "white",
            "linecolor": "white",
            "ticks": ""
           }
          },
          "scene": {
           "xaxis": {
            "backgroundcolor": "#E5ECF6",
            "gridcolor": "white",
            "gridwidth": 2,
            "linecolor": "white",
            "showbackground": true,
            "ticks": "",
            "zerolinecolor": "white"
           },
           "yaxis": {
            "backgroundcolor": "#E5ECF6",
            "gridcolor": "white",
            "gridwidth": 2,
            "linecolor": "white",
            "showbackground": true,
            "ticks": "",
            "zerolinecolor": "white"
           },
           "zaxis": {
            "backgroundcolor": "#E5ECF6",
            "gridcolor": "white",
            "gridwidth": 2,
            "linecolor": "white",
            "showbackground": true,
            "ticks": "",
            "zerolinecolor": "white"
           }
          },
          "shapedefaults": {
           "line": {
            "color": "#2a3f5f"
           }
          },
          "ternary": {
           "aaxis": {
            "gridcolor": "white",
            "linecolor": "white",
            "ticks": ""
           },
           "baxis": {
            "gridcolor": "white",
            "linecolor": "white",
            "ticks": ""
           },
           "bgcolor": "#E5ECF6",
           "caxis": {
            "gridcolor": "white",
            "linecolor": "white",
            "ticks": ""
           }
          },
          "title": {
           "x": 0.05
          },
          "xaxis": {
           "automargin": true,
           "gridcolor": "white",
           "linecolor": "white",
           "ticks": "",
           "title": {
            "standoff": 15
           },
           "zerolinecolor": "white",
           "zerolinewidth": 2
          },
          "yaxis": {
           "automargin": true,
           "gridcolor": "white",
           "linecolor": "white",
           "ticks": "",
           "title": {
            "standoff": 15
           },
           "zerolinecolor": "white",
           "zerolinewidth": 2
          }
         }
        },
        "title": {
         "text": "Comparison Between Customer Status, Gender and Income Level"
        },
        "width": 700
       }
      }
     },
     "metadata": {},
     "output_type": "display_data"
    }
   ],
   "source": [
    "# Create custom colors with red for attrited customers\n",
    "custom_colors = ['#FF6B6B', '#4ECDC4', '#45B7D1', '#96CEB4', '#FECA57', '#F38BA8', '#A8E6CF']\n",
    "\n",
    "fig = px.sunburst(bc, \n",
    "                 path=['Customer_Status', 'Gender', 'Income_Level'],\n",
    "                 title='Comparison Between Customer Status, Gender and Income Level',\n",
    "                 color_discrete_sequence=custom_colors)\n",
    "\n",
    "fig.update_traces(\n",
    "    hovertemplate='<b>%{label}</b><br>' +\n",
    "                  'Count: %{value}<br>' +\n",
    "                  '<extra></extra>',\n",
    "    textinfo=\"label+percent parent\",\n",
    "    marker=dict(\n",
    "        line=dict(\n",
    "            color=\"darkred\",\n",
    "            width=2\n",
    "        )\n",
    "    )\n",
    ")\n",
    "\n",
    "fig.update_layout(\n",
    "    width=700,\n",
    "    height=700\n",
    ")\n",
    "\n",
    "fig.show()"
   ]
  },
  {
   "cell_type": "code",
   "execution_count": null,
   "id": "63244c53",
   "metadata": {},
   "outputs": [
    {
     "ename": "ValueError",
     "evalue": "Value of 'hover_data_1' is not the name of a column in 'data_frame'. Expected one of ['Customer_Status', 'Age', 'Gender', 'Income_Level', 'Tenure_Months', 'Inactive_Months_In_Last_12', 'Credit_Limit', 'Total_Trans_Amount', 'Total_Trans_Count', 'Avg_Utilization_Ratio'] but received: Income_Category",
     "output_type": "error",
     "traceback": [
      "\u001b[31m---------------------------------------------------------------------------\u001b[39m",
      "\u001b[31mValueError\u001b[39m                                Traceback (most recent call last)",
      "\u001b[36mCell\u001b[39m\u001b[36m \u001b[39m\u001b[32mIn[17]\u001b[39m\u001b[32m, line 2\u001b[39m\n\u001b[32m      1\u001b[39m \u001b[38;5;66;03m# Bubble chart with transaction metrics\u001b[39;00m\n\u001b[32m----> \u001b[39m\u001b[32m2\u001b[39m fig = \u001b[43mpx\u001b[49m\u001b[43m.\u001b[49m\u001b[43mscatter\u001b[49m\u001b[43m(\u001b[49m\u001b[43mbc\u001b[49m\u001b[43m,\u001b[49m\u001b[43m \u001b[49m\n\u001b[32m      3\u001b[39m \u001b[43m                \u001b[49m\u001b[43mx\u001b[49m\u001b[43m=\u001b[49m\u001b[33;43m'\u001b[39;49m\u001b[33;43mTotal_Trans_Count\u001b[39;49m\u001b[33;43m'\u001b[39;49m\u001b[43m,\u001b[49m\u001b[43m \u001b[49m\n\u001b[32m      4\u001b[39m \u001b[43m                \u001b[49m\u001b[43my\u001b[49m\u001b[43m=\u001b[49m\u001b[33;43m'\u001b[39;49m\u001b[33;43mTotal_Trans_Amount\u001b[39;49m\u001b[33;43m'\u001b[39;49m\u001b[43m,\u001b[49m\n\u001b[32m      5\u001b[39m \u001b[43m                \u001b[49m\u001b[43msize\u001b[49m\u001b[43m=\u001b[49m\u001b[33;43m'\u001b[39;49m\u001b[33;43mCredit_Limit\u001b[39;49m\u001b[33;43m'\u001b[39;49m\u001b[43m,\u001b[49m\n\u001b[32m      6\u001b[39m \u001b[43m                \u001b[49m\u001b[43mcolor\u001b[49m\u001b[43m=\u001b[49m\u001b[33;43m'\u001b[39;49m\u001b[33;43mCustomer_Status\u001b[39;49m\u001b[33;43m'\u001b[39;49m\u001b[43m,\u001b[49m\n\u001b[32m      7\u001b[39m \u001b[43m                \u001b[49m\u001b[43mhover_name\u001b[49m\u001b[43m=\u001b[49m\u001b[33;43m'\u001b[39;49m\u001b[33;43mCustomer_Status\u001b[39;49m\u001b[33;43m'\u001b[39;49m\u001b[43m,\u001b[49m\n\u001b[32m      8\u001b[39m \u001b[43m                \u001b[49m\u001b[43mhover_data\u001b[49m\u001b[43m=\u001b[49m\u001b[43m[\u001b[49m\u001b[33;43m'\u001b[39;49m\u001b[33;43mAge\u001b[39;49m\u001b[33;43m'\u001b[39;49m\u001b[43m,\u001b[49m\u001b[43m \u001b[49m\u001b[33;43m'\u001b[39;49m\u001b[33;43mIncome_Category\u001b[39;49m\u001b[33;43m'\u001b[39;49m\u001b[43m,\u001b[49m\u001b[43m \u001b[49m\u001b[33;43m'\u001b[39;49m\u001b[33;43mTenure_Months\u001b[39;49m\u001b[33;43m'\u001b[39;49m\u001b[43m]\u001b[49m\u001b[43m,\u001b[49m\n\u001b[32m      9\u001b[39m \u001b[43m                \u001b[49m\u001b[43mtitle\u001b[49m\u001b[43m=\u001b[49m\u001b[33;43m'\u001b[39;49m\u001b[33;43mTransaction Bubble Chart: Count vs Amount (sized by Credit Limit)\u001b[39;49m\u001b[33;43m'\u001b[39;49m\u001b[43m,\u001b[49m\n\u001b[32m     10\u001b[39m \u001b[43m                \u001b[49m\u001b[43mlabels\u001b[49m\u001b[43m=\u001b[49m\u001b[43m{\u001b[49m\n\u001b[32m     11\u001b[39m \u001b[43m                    \u001b[49m\u001b[33;43m'\u001b[39;49m\u001b[33;43mTotal_Trans_Count\u001b[39;49m\u001b[33;43m'\u001b[39;49m\u001b[43m:\u001b[49m\u001b[43m \u001b[49m\u001b[33;43m'\u001b[39;49m\u001b[33;43mTotal Transaction Count\u001b[39;49m\u001b[33;43m'\u001b[39;49m\u001b[43m,\u001b[49m\n\u001b[32m     12\u001b[39m \u001b[43m                    \u001b[49m\u001b[33;43m'\u001b[39;49m\u001b[33;43mTotal_Trans_Amount\u001b[39;49m\u001b[33;43m'\u001b[39;49m\u001b[43m:\u001b[49m\u001b[43m \u001b[49m\u001b[33;43m'\u001b[39;49m\u001b[33;43mTotal Transaction Amount ($)\u001b[39;49m\u001b[33;43m'\u001b[39;49m\n\u001b[32m     13\u001b[39m \u001b[43m                \u001b[49m\u001b[43m}\u001b[49m\u001b[43m,\u001b[49m\n\u001b[32m     14\u001b[39m \u001b[43m                \u001b[49m\u001b[43msize_max\u001b[49m\u001b[43m=\u001b[49m\u001b[32;43m50\u001b[39;49m\u001b[43m,\u001b[49m\n\u001b[32m     15\u001b[39m \u001b[43m                \u001b[49m\u001b[43mcolor_discrete_map\u001b[49m\u001b[43m=\u001b[49m\u001b[43m{\u001b[49m\n\u001b[32m     16\u001b[39m \u001b[43m                    \u001b[49m\u001b[33;43m'\u001b[39;49m\u001b[33;43mExisting Customer\u001b[39;49m\u001b[33;43m'\u001b[39;49m\u001b[43m:\u001b[49m\u001b[43m \u001b[49m\u001b[33;43m'\u001b[39;49m\u001b[33;43mblue\u001b[39;49m\u001b[33;43m'\u001b[39;49m\u001b[43m,\u001b[49m\n\u001b[32m     17\u001b[39m \u001b[43m                    \u001b[49m\u001b[33;43m'\u001b[39;49m\u001b[33;43mAttrited Customer\u001b[39;49m\u001b[33;43m'\u001b[39;49m\u001b[43m:\u001b[49m\u001b[43m \u001b[49m\u001b[33;43m'\u001b[39;49m\u001b[33;43mred\u001b[39;49m\u001b[33;43m'\u001b[39;49m\n\u001b[32m     18\u001b[39m \u001b[43m                \u001b[49m\u001b[43m}\u001b[49m\u001b[43m)\u001b[49m\n\u001b[32m     20\u001b[39m fig.update_layout(\n\u001b[32m     21\u001b[39m     width=\u001b[32m900\u001b[39m,\n\u001b[32m     22\u001b[39m     height=\u001b[32m600\u001b[39m\n\u001b[32m     23\u001b[39m )\n\u001b[32m     25\u001b[39m fig.show()\n",
      "\u001b[36mFile \u001b[39m\u001b[32mc:\\Users\\F_bee\\AppData\\Local\\Programs\\Python\\Python312\\Lib\\site-packages\\plotly\\express\\_chart_types.py:69\u001b[39m, in \u001b[36mscatter\u001b[39m\u001b[34m(data_frame, x, y, color, symbol, size, hover_name, hover_data, custom_data, text, facet_row, facet_col, facet_col_wrap, facet_row_spacing, facet_col_spacing, error_x, error_x_minus, error_y, error_y_minus, animation_frame, animation_group, category_orders, labels, orientation, color_discrete_sequence, color_discrete_map, color_continuous_scale, range_color, color_continuous_midpoint, symbol_sequence, symbol_map, opacity, size_max, marginal_x, marginal_y, trendline, trendline_options, trendline_color_override, trendline_scope, log_x, log_y, range_x, range_y, render_mode, title, subtitle, template, width, height)\u001b[39m\n\u001b[32m     14\u001b[39m \u001b[38;5;28;01mdef\u001b[39;00m\u001b[38;5;250m \u001b[39m\u001b[34mscatter\u001b[39m(\n\u001b[32m     15\u001b[39m     data_frame=\u001b[38;5;28;01mNone\u001b[39;00m,\n\u001b[32m     16\u001b[39m     x=\u001b[38;5;28;01mNone\u001b[39;00m,\n\u001b[32m   (...)\u001b[39m\u001b[32m     63\u001b[39m     height=\u001b[38;5;28;01mNone\u001b[39;00m,\n\u001b[32m     64\u001b[39m ) -> go.Figure:\n\u001b[32m     65\u001b[39m \u001b[38;5;250m    \u001b[39m\u001b[33;03m\"\"\"\u001b[39;00m\n\u001b[32m     66\u001b[39m \u001b[33;03m    In a scatter plot, each row of `data_frame` is represented by a symbol\u001b[39;00m\n\u001b[32m     67\u001b[39m \u001b[33;03m    mark in 2D space.\u001b[39;00m\n\u001b[32m     68\u001b[39m \u001b[33;03m    \"\"\"\u001b[39;00m\n\u001b[32m---> \u001b[39m\u001b[32m69\u001b[39m     \u001b[38;5;28;01mreturn\u001b[39;00m \u001b[43mmake_figure\u001b[49m\u001b[43m(\u001b[49m\u001b[43margs\u001b[49m\u001b[43m=\u001b[49m\u001b[38;5;28;43mlocals\u001b[39;49m\u001b[43m(\u001b[49m\u001b[43m)\u001b[49m\u001b[43m,\u001b[49m\u001b[43m \u001b[49m\u001b[43mconstructor\u001b[49m\u001b[43m=\u001b[49m\u001b[43mgo\u001b[49m\u001b[43m.\u001b[49m\u001b[43mScatter\u001b[49m\u001b[43m)\u001b[49m\n",
      "\u001b[36mFile \u001b[39m\u001b[32mc:\\Users\\F_bee\\AppData\\Local\\Programs\\Python\\Python312\\Lib\\site-packages\\plotly\\express\\_core.py:2483\u001b[39m, in \u001b[36mmake_figure\u001b[39m\u001b[34m(args, constructor, trace_patch, layout_patch)\u001b[39m\n\u001b[32m   2480\u001b[39m layout_patch = layout_patch \u001b[38;5;129;01mor\u001b[39;00m {}\n\u001b[32m   2481\u001b[39m apply_default_cascade(args)\n\u001b[32m-> \u001b[39m\u001b[32m2483\u001b[39m args = \u001b[43mbuild_dataframe\u001b[49m\u001b[43m(\u001b[49m\u001b[43margs\u001b[49m\u001b[43m,\u001b[49m\u001b[43m \u001b[49m\u001b[43mconstructor\u001b[49m\u001b[43m)\u001b[49m\n\u001b[32m   2484\u001b[39m \u001b[38;5;28;01mif\u001b[39;00m constructor \u001b[38;5;129;01min\u001b[39;00m [go.Treemap, go.Sunburst, go.Icicle] \u001b[38;5;129;01mand\u001b[39;00m args[\u001b[33m\"\u001b[39m\u001b[33mpath\u001b[39m\u001b[33m\"\u001b[39m] \u001b[38;5;129;01mis\u001b[39;00m \u001b[38;5;129;01mnot\u001b[39;00m \u001b[38;5;28;01mNone\u001b[39;00m:\n\u001b[32m   2485\u001b[39m     args = process_dataframe_hierarchy(args)\n",
      "\u001b[36mFile \u001b[39m\u001b[32mc:\\Users\\F_bee\\AppData\\Local\\Programs\\Python\\Python312\\Lib\\site-packages\\plotly\\express\\_core.py:1729\u001b[39m, in \u001b[36mbuild_dataframe\u001b[39m\u001b[34m(args, constructor)\u001b[39m\n\u001b[32m   1726\u001b[39m     args[\u001b[33m\"\u001b[39m\u001b[33mcolor\u001b[39m\u001b[33m\"\u001b[39m] = \u001b[38;5;28;01mNone\u001b[39;00m\n\u001b[32m   1727\u001b[39m \u001b[38;5;66;03m# now that things have been prepped, we do the systematic rewriting of `args`\u001b[39;00m\n\u001b[32m-> \u001b[39m\u001b[32m1729\u001b[39m df_output, wide_id_vars = \u001b[43mprocess_args_into_dataframe\u001b[49m\u001b[43m(\u001b[49m\n\u001b[32m   1730\u001b[39m \u001b[43m    \u001b[49m\u001b[43margs\u001b[49m\u001b[43m,\u001b[49m\n\u001b[32m   1731\u001b[39m \u001b[43m    \u001b[49m\u001b[43mwide_mode\u001b[49m\u001b[43m,\u001b[49m\n\u001b[32m   1732\u001b[39m \u001b[43m    \u001b[49m\u001b[43mvar_name\u001b[49m\u001b[43m,\u001b[49m\n\u001b[32m   1733\u001b[39m \u001b[43m    \u001b[49m\u001b[43mvalue_name\u001b[49m\u001b[43m,\u001b[49m\n\u001b[32m   1734\u001b[39m \u001b[43m    \u001b[49m\u001b[43mis_pd_like\u001b[49m\u001b[43m,\u001b[49m\n\u001b[32m   1735\u001b[39m \u001b[43m    \u001b[49m\u001b[43mnative_namespace\u001b[49m\u001b[43m,\u001b[49m\n\u001b[32m   1736\u001b[39m \u001b[43m\u001b[49m\u001b[43m)\u001b[49m\n\u001b[32m   1737\u001b[39m df_output: nw.DataFrame\n\u001b[32m   1738\u001b[39m \u001b[38;5;66;03m# now that `df_output` exists and `args` contains only references, we complete\u001b[39;00m\n\u001b[32m   1739\u001b[39m \u001b[38;5;66;03m# the special-case and wide-mode handling by further rewriting args and/or mutating\u001b[39;00m\n\u001b[32m   1740\u001b[39m \u001b[38;5;66;03m# df_output\u001b[39;00m\n",
      "\u001b[36mFile \u001b[39m\u001b[32mc:\\Users\\F_bee\\AppData\\Local\\Programs\\Python\\Python312\\Lib\\site-packages\\plotly\\express\\_core.py:1330\u001b[39m, in \u001b[36mprocess_args_into_dataframe\u001b[39m\u001b[34m(args, wide_mode, var_name, value_name, is_pd_like, native_namespace)\u001b[39m\n\u001b[32m   1328\u001b[39m         \u001b[38;5;28;01mif\u001b[39;00m argument == \u001b[33m\"\u001b[39m\u001b[33mindex\u001b[39m\u001b[33m\"\u001b[39m:\n\u001b[32m   1329\u001b[39m             err_msg += \u001b[33m\"\u001b[39m\u001b[38;5;130;01m\\n\u001b[39;00m\u001b[33m To use the index, pass it in directly as `df.index`.\u001b[39m\u001b[33m\"\u001b[39m\n\u001b[32m-> \u001b[39m\u001b[32m1330\u001b[39m         \u001b[38;5;28;01mraise\u001b[39;00m \u001b[38;5;167;01mValueError\u001b[39;00m(err_msg)\n\u001b[32m   1331\u001b[39m \u001b[38;5;28;01melif\u001b[39;00m length \u001b[38;5;129;01mand\u001b[39;00m (actual_len := \u001b[38;5;28mlen\u001b[39m(df_input)) != length:\n\u001b[32m   1332\u001b[39m     \u001b[38;5;28;01mraise\u001b[39;00m \u001b[38;5;167;01mValueError\u001b[39;00m(\n\u001b[32m   1333\u001b[39m         \u001b[33m\"\u001b[39m\u001b[33mAll arguments should have the same length. \u001b[39m\u001b[33m\"\u001b[39m\n\u001b[32m   1334\u001b[39m         \u001b[33m\"\u001b[39m\u001b[33mThe length of column argument `df[\u001b[39m\u001b[38;5;132;01m%s\u001b[39;00m\u001b[33m]` is \u001b[39m\u001b[38;5;132;01m%d\u001b[39;00m\u001b[33m, whereas the \u001b[39m\u001b[33m\"\u001b[39m\n\u001b[32m   (...)\u001b[39m\u001b[32m   1341\u001b[39m         )\n\u001b[32m   1342\u001b[39m     )\n",
      "\u001b[31mValueError\u001b[39m: Value of 'hover_data_1' is not the name of a column in 'data_frame'. Expected one of ['Customer_Status', 'Age', 'Gender', 'Income_Level', 'Tenure_Months', 'Inactive_Months_In_Last_12', 'Credit_Limit', 'Total_Trans_Amount', 'Total_Trans_Count', 'Avg_Utilization_Ratio'] but received: Income_Category"
     ]
    }
   ],
   "source": [
    "# Bubble chart with transaction metrics\n",
    "fig = px.scatter(bc, \n",
    "                x='Total_Trans_Count', \n",
    "                y='Total_Trans_Amount',\n",
    "                size='Credit_Limit',\n",
    "                color='Customer_Status',\n",
    "                hover_name='Customer_Status',\n",
    "                hover_data=['Age', 'Income_Level', 'Tenure_Months'],\n",
    "                title='Transaction Bubble Chart: Count vs Amount (sized by Credit Limit)',\n",
    "                labels={\n",
    "                    'Total_Trans_Count': 'Total Transaction Count',\n",
    "                    'Total_Trans_Amount': 'Total Transaction Amount ($)'\n",
    "                },\n",
    "                size_max=50,\n",
    "                color_discrete_map={\n",
    "                    'Existing Customer': 'blue',\n",
    "                    'Attrited Customer': 'red'\n",
    "                })\n",
    "\n",
    "fig.update_layout(\n",
    "    width=900,\n",
    "    height=600\n",
    ")\n",
    "\n",
    "fig.show()"
   ]
  },
  {
   "cell_type": "code",
   "execution_count": null,
   "id": "f6397e07",
   "metadata": {},
   "outputs": [],
   "source": [
    "# Parallel coordinates plot for multi-dimensional transaction analysis\n",
    "fig = px.parallel_coordinates(bc, \n",
    "                            dimensions=['Total_Trans_Ct', 'Total_Trans_Amt', 'Credit_Limit', 'Age'],\n",
    "                            color='Customer_Status',\n",
    "                            color_discrete_map={\n",
    "                                'Existing Customer': 'blue',\n",
    "                                'Attrited Customer': 'red'\n",
    "                            },\n",
    "                            title='Parallel Coordinates: Transaction Patterns by Customer Status')\n",
    "\n",
    "fig.update_layout(\n",
    "    width=900,\n",
    "    height=600\n",
    ")\n",
    "\n",
    "fig.show()"
   ]
  },
  {
   "cell_type": "code",
   "execution_count": null,
   "id": "8c9796ae",
   "metadata": {},
   "outputs": [],
   "source": []
  }
 ],
 "metadata": {
  "kernelspec": {
   "display_name": "Python 3",
   "language": "python",
   "name": "python3"
  },
  "language_info": {
   "codemirror_mode": {
    "name": "ipython",
    "version": 3
   },
   "file_extension": ".py",
   "mimetype": "text/x-python",
   "name": "python",
   "nbconvert_exporter": "python",
   "pygments_lexer": "ipython3",
   "version": "3.12.8"
  }
 },
 "nbformat": 4,
 "nbformat_minor": 5
}
