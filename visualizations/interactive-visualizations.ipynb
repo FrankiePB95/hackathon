{
 "cells": [
  {
   "cell_type": "markdown",
   "id": "2412f291",
   "metadata": {},
   "source": [
    "Import all necessary libraries and modules."
   ]
  },
  {
   "cell_type": "code",
   "execution_count": 7,
   "id": "7435991c",
   "metadata": {},
   "outputs": [
    {
     "name": "stderr",
     "output_type": "stream",
     "text": [
      "WARNING: Retrying (Retry(total=4, connect=None, read=None, redirect=None, status=None)) after connection broken by 'NewConnectionError('<pip._vendor.urllib3.connection.HTTPSConnection object at 0x000002AC9D255850>: Failed to establish a new connection: [Errno 11001] getaddrinfo failed')': /simple/nbformat/\n",
      "WARNING: Retrying (Retry(total=3, connect=None, read=None, redirect=None, status=None)) after connection broken by 'NewConnectionError('<pip._vendor.urllib3.connection.HTTPSConnection object at 0x000002AC9D4F23C0>: Failed to establish a new connection: [Errno 11001] getaddrinfo failed')': /simple/nbformat/\n",
      "WARNING: Retrying (Retry(total=2, connect=None, read=None, redirect=None, status=None)) after connection broken by 'NewConnectionError('<pip._vendor.urllib3.connection.HTTPSConnection object at 0x000002AC9D4F2840>: Failed to establish a new connection: [Errno 11001] getaddrinfo failed')': /simple/nbformat/\n",
      "WARNING: Retrying (Retry(total=1, connect=None, read=None, redirect=None, status=None)) after connection broken by 'NewConnectionError('<pip._vendor.urllib3.connection.HTTPSConnection object at 0x000002AC9D4F2A50>: Failed to establish a new connection: [Errno 11001] getaddrinfo failed')': /simple/nbformat/\n",
      "WARNING: Retrying (Retry(total=0, connect=None, read=None, redirect=None, status=None)) after connection broken by 'NewConnectionError('<pip._vendor.urllib3.connection.HTTPSConnection object at 0x000002AC9D4F2C60>: Failed to establish a new connection: [Errno 11001] getaddrinfo failed')': /simple/nbformat/\n"
     ]
    }
   ],
   "source": [
    "import sys\n",
    "!{sys.executable} -m pip install --upgrade nbformat>=5.0.0\n",
    "sys.path.append('../')\n",
    "\n",
    "import numpy as np\n",
    "import seaborn as sb\n",
    "import matplotlib as mb\n",
    "import matplotlib.pyplot as plt\n",
    "import plotly as pl\n",
    "import plotly.express as px\n",
    "import plotly.graph_objects as go\n",
    "from plotly.subplots import make_subplots\n",
    "import pandas as pd\n",
    "import sklearn as sk\n",
    "from sklearn.preprocessing import FunctionTransformer\n",
    "from sklearn.pipeline import Pipeline\n",
    "from sklearn.compose import ColumnTransformer\n",
    "from sklearn.preprocessing import StandardScaler, OneHotEncoder\n",
    "import feature_engine as fe\n",
    "import sys\n",
    "from assets.transformers import pipeline, scaling_transformer"
   ]
  },
  {
   "cell_type": "markdown",
   "id": "0248895c",
   "metadata": {},
   "source": [
    "Call the recently created dataset to work from."
   ]
  },
  {
   "cell_type": "code",
   "execution_count": 8,
   "id": "61061f9f",
   "metadata": {},
   "outputs": [
    {
     "data": {
      "text/html": [
       "<div>\n",
       "<style scoped>\n",
       "    .dataframe tbody tr th:only-of-type {\n",
       "        vertical-align: middle;\n",
       "    }\n",
       "\n",
       "    .dataframe tbody tr th {\n",
       "        vertical-align: top;\n",
       "    }\n",
       "\n",
       "    .dataframe thead th {\n",
       "        text-align: right;\n",
       "    }\n",
       "</style>\n",
       "<table border=\"1\" class=\"dataframe\">\n",
       "  <thead>\n",
       "    <tr style=\"text-align: right;\">\n",
       "      <th></th>\n",
       "      <th>Customer_Status</th>\n",
       "      <th>Age</th>\n",
       "      <th>Gender</th>\n",
       "      <th>Income_Level</th>\n",
       "      <th>Tenure_Months</th>\n",
       "      <th>Inactive_Months_In_Last_12</th>\n",
       "      <th>Credit_Limit</th>\n",
       "      <th>Total_Trans_Amount</th>\n",
       "      <th>Total_Trans_Count</th>\n",
       "      <th>Avg_Utilization_Ratio</th>\n",
       "    </tr>\n",
       "  </thead>\n",
       "  <tbody>\n",
       "    <tr>\n",
       "      <th>0</th>\n",
       "      <td>Existing Customer</td>\n",
       "      <td>41</td>\n",
       "      <td>F</td>\n",
       "      <td>Unknown</td>\n",
       "      <td>30</td>\n",
       "      <td>1</td>\n",
       "      <td>5417.0</td>\n",
       "      <td>1768</td>\n",
       "      <td>56</td>\n",
       "      <td>0.35</td>\n",
       "    </tr>\n",
       "    <tr>\n",
       "      <th>1</th>\n",
       "      <td>Attrited Customer</td>\n",
       "      <td>60</td>\n",
       "      <td>M</td>\n",
       "      <td>$40K - $60K</td>\n",
       "      <td>47</td>\n",
       "      <td>1</td>\n",
       "      <td>3735.0</td>\n",
       "      <td>8193</td>\n",
       "      <td>66</td>\n",
       "      <td>0.32</td>\n",
       "    </tr>\n",
       "    <tr>\n",
       "      <th>2</th>\n",
       "      <td>Existing Customer</td>\n",
       "      <td>47</td>\n",
       "      <td>M</td>\n",
       "      <td>Less than $40K</td>\n",
       "      <td>34</td>\n",
       "      <td>1</td>\n",
       "      <td>8390.0</td>\n",
       "      <td>8316</td>\n",
       "      <td>92</td>\n",
       "      <td>0.00</td>\n",
       "    </tr>\n",
       "    <tr>\n",
       "      <th>3</th>\n",
       "      <td>Existing Customer</td>\n",
       "      <td>44</td>\n",
       "      <td>M</td>\n",
       "      <td>$60K - $80K</td>\n",
       "      <td>37</td>\n",
       "      <td>2</td>\n",
       "      <td>1682.0</td>\n",
       "      <td>3309</td>\n",
       "      <td>67</td>\n",
       "      <td>0.55</td>\n",
       "    </tr>\n",
       "    <tr>\n",
       "      <th>4</th>\n",
       "      <td>Existing Customer</td>\n",
       "      <td>47</td>\n",
       "      <td>F</td>\n",
       "      <td>Less than $40K</td>\n",
       "      <td>36</td>\n",
       "      <td>2</td>\n",
       "      <td>2500.0</td>\n",
       "      <td>4265</td>\n",
       "      <td>87</td>\n",
       "      <td>0.47</td>\n",
       "    </tr>\n",
       "    <tr>\n",
       "      <th>...</th>\n",
       "      <td>...</td>\n",
       "      <td>...</td>\n",
       "      <td>...</td>\n",
       "      <td>...</td>\n",
       "      <td>...</td>\n",
       "      <td>...</td>\n",
       "      <td>...</td>\n",
       "      <td>...</td>\n",
       "      <td>...</td>\n",
       "      <td>...</td>\n",
       "    </tr>\n",
       "    <tr>\n",
       "      <th>191</th>\n",
       "      <td>Existing Customer</td>\n",
       "      <td>31</td>\n",
       "      <td>M</td>\n",
       "      <td>$40K - $60K</td>\n",
       "      <td>22</td>\n",
       "      <td>1</td>\n",
       "      <td>9096.0</td>\n",
       "      <td>2318</td>\n",
       "      <td>54</td>\n",
       "      <td>0.00</td>\n",
       "    </tr>\n",
       "    <tr>\n",
       "      <th>192</th>\n",
       "      <td>Existing Customer</td>\n",
       "      <td>50</td>\n",
       "      <td>F</td>\n",
       "      <td>Less than $40K</td>\n",
       "      <td>38</td>\n",
       "      <td>3</td>\n",
       "      <td>2775.0</td>\n",
       "      <td>4608</td>\n",
       "      <td>84</td>\n",
       "      <td>0.53</td>\n",
       "    </tr>\n",
       "    <tr>\n",
       "      <th>193</th>\n",
       "      <td>Existing Customer</td>\n",
       "      <td>38</td>\n",
       "      <td>F</td>\n",
       "      <td>Less than $40K</td>\n",
       "      <td>29</td>\n",
       "      <td>3</td>\n",
       "      <td>3590.0</td>\n",
       "      <td>1472</td>\n",
       "      <td>37</td>\n",
       "      <td>0.54</td>\n",
       "    </tr>\n",
       "    <tr>\n",
       "      <th>194</th>\n",
       "      <td>Attrited Customer</td>\n",
       "      <td>39</td>\n",
       "      <td>F</td>\n",
       "      <td>$40K - $60K</td>\n",
       "      <td>31</td>\n",
       "      <td>3</td>\n",
       "      <td>3333.0</td>\n",
       "      <td>3348</td>\n",
       "      <td>50</td>\n",
       "      <td>0.56</td>\n",
       "    </tr>\n",
       "    <tr>\n",
       "      <th>195</th>\n",
       "      <td>Attrited Customer</td>\n",
       "      <td>33</td>\n",
       "      <td>F</td>\n",
       "      <td>Less than $40K</td>\n",
       "      <td>24</td>\n",
       "      <td>2</td>\n",
       "      <td>1806.0</td>\n",
       "      <td>2833</td>\n",
       "      <td>43</td>\n",
       "      <td>0.00</td>\n",
       "    </tr>\n",
       "  </tbody>\n",
       "</table>\n",
       "<p>196 rows × 10 columns</p>\n",
       "</div>"
      ],
      "text/plain": [
       "       Customer_Status  Age Gender    Income_Level  Tenure_Months  \\\n",
       "0    Existing Customer   41      F         Unknown             30   \n",
       "1    Attrited Customer   60      M     $40K - $60K             47   \n",
       "2    Existing Customer   47      M  Less than $40K             34   \n",
       "3    Existing Customer   44      M     $60K - $80K             37   \n",
       "4    Existing Customer   47      F  Less than $40K             36   \n",
       "..                 ...  ...    ...             ...            ...   \n",
       "191  Existing Customer   31      M     $40K - $60K             22   \n",
       "192  Existing Customer   50      F  Less than $40K             38   \n",
       "193  Existing Customer   38      F  Less than $40K             29   \n",
       "194  Attrited Customer   39      F     $40K - $60K             31   \n",
       "195  Attrited Customer   33      F  Less than $40K             24   \n",
       "\n",
       "     Inactive_Months_In_Last_12  Credit_Limit  Total_Trans_Amount  \\\n",
       "0                             1        5417.0                1768   \n",
       "1                             1        3735.0                8193   \n",
       "2                             1        8390.0                8316   \n",
       "3                             2        1682.0                3309   \n",
       "4                             2        2500.0                4265   \n",
       "..                          ...           ...                 ...   \n",
       "191                           1        9096.0                2318   \n",
       "192                           3        2775.0                4608   \n",
       "193                           3        3590.0                1472   \n",
       "194                           3        3333.0                3348   \n",
       "195                           2        1806.0                2833   \n",
       "\n",
       "     Total_Trans_Count  Avg_Utilization_Ratio  \n",
       "0                   56                   0.35  \n",
       "1                   66                   0.32  \n",
       "2                   92                   0.00  \n",
       "3                   67                   0.55  \n",
       "4                   87                   0.47  \n",
       "..                 ...                    ...  \n",
       "191                 54                   0.00  \n",
       "192                 84                   0.53  \n",
       "193                 37                   0.54  \n",
       "194                 50                   0.56  \n",
       "195                 43                   0.00  \n",
       "\n",
       "[196 rows x 10 columns]"
      ]
     },
     "execution_count": 8,
     "metadata": {},
     "output_type": "execute_result"
    }
   ],
   "source": [
    "bc = pd.read_csv(\"../assets/processed-bank-churners.csv\")\n",
    "bc"
   ]
  },
  {
   "cell_type": "markdown",
   "id": "b9eeafc4",
   "metadata": {},
   "source": [
    "Create interactive visualizations using Plotly."
   ]
  },
  {
   "cell_type": "code",
   "execution_count": 58,
   "id": "8bbe4f37",
   "metadata": {},
   "outputs": [
    {
     "data": {
      "application/vnd.plotly.v1+json": {
       "config": {
        "plotlyServerURL": "https://plot.ly"
       },
       "data": [
        {
         "dimensions": [
          {
           "label": "Avg_Utilization_Ratio",
           "values": {
            "bdata": "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",
            "dtype": "f8"
           }
          },
          {
           "label": "Credit_Limit",
           "values": {
            "bdata": "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",
            "dtype": "f8"
           }
          }
         ],
         "domain": {
          "x": [
           0,
           1
          ],
          "y": [
           0,
           1
          ]
         },
         "line": {
          "color": {
           "bdata": "AAEAAAAAAAABAAABAQAAAQAAAAAAAAAAAAAAAAEAAAAAAAAAAAAAAAEAAAAAAAEBAQABAAAAAAAAAAAAAAAAAAAAAAEAAAAAAQAAAAAAAAAAAQAAAAAAAAAAAAAAAAEAAAAAAAAAAAEAAAABAQAAAQAAAQAAAAAAAAAAAQAAAAAAAQEAAAABAQAAAAABAAEAAAAAAAEBAAAAAAABAAAAAAAAAAABAAAAAAABAAEAAAABAAAAAAAAAAAAAAAAAAAAAAABAQ==",
           "dtype": "i1"
          },
          "coloraxis": "coloraxis"
         },
         "name": "",
         "type": "parcoords"
        }
       ],
       "layout": {
        "coloraxis": {
         "colorbar": {
          "title": {
           "text": "Customer_Status_Numeric"
          }
         },
         "colorscale": [
          [
           0,
           "blue"
          ],
          [
           1,
           "red"
          ]
         ]
        },
        "height": 600,
        "legend": {
         "tracegroupgap": 0
        },
        "template": {
         "data": {
          "bar": [
           {
            "error_x": {
             "color": "#2a3f5f"
            },
            "error_y": {
             "color": "#2a3f5f"
            },
            "marker": {
             "line": {
              "color": "#E5ECF6",
              "width": 0.5
             },
             "pattern": {
              "fillmode": "overlay",
              "size": 10,
              "solidity": 0.2
             }
            },
            "type": "bar"
           }
          ],
          "barpolar": [
           {
            "marker": {
             "line": {
              "color": "#E5ECF6",
              "width": 0.5
             },
             "pattern": {
              "fillmode": "overlay",
              "size": 10,
              "solidity": 0.2
             }
            },
            "type": "barpolar"
           }
          ],
          "carpet": [
           {
            "aaxis": {
             "endlinecolor": "#2a3f5f",
             "gridcolor": "white",
             "linecolor": "white",
             "minorgridcolor": "white",
             "startlinecolor": "#2a3f5f"
            },
            "baxis": {
             "endlinecolor": "#2a3f5f",
             "gridcolor": "white",
             "linecolor": "white",
             "minorgridcolor": "white",
             "startlinecolor": "#2a3f5f"
            },
            "type": "carpet"
           }
          ],
          "choropleth": [
           {
            "colorbar": {
             "outlinewidth": 0,
             "ticks": ""
            },
            "type": "choropleth"
           }
          ],
          "contour": [
           {
            "colorbar": {
             "outlinewidth": 0,
             "ticks": ""
            },
            "colorscale": [
             [
              0,
              "#0d0887"
             ],
             [
              0.1111111111111111,
              "#46039f"
             ],
             [
              0.2222222222222222,
              "#7201a8"
             ],
             [
              0.3333333333333333,
              "#9c179e"
             ],
             [
              0.4444444444444444,
              "#bd3786"
             ],
             [
              0.5555555555555556,
              "#d8576b"
             ],
             [
              0.6666666666666666,
              "#ed7953"
             ],
             [
              0.7777777777777778,
              "#fb9f3a"
             ],
             [
              0.8888888888888888,
              "#fdca26"
             ],
             [
              1,
              "#f0f921"
             ]
            ],
            "type": "contour"
           }
          ],
          "contourcarpet": [
           {
            "colorbar": {
             "outlinewidth": 0,
             "ticks": ""
            },
            "type": "contourcarpet"
           }
          ],
          "heatmap": [
           {
            "colorbar": {
             "outlinewidth": 0,
             "ticks": ""
            },
            "colorscale": [
             [
              0,
              "#0d0887"
             ],
             [
              0.1111111111111111,
              "#46039f"
             ],
             [
              0.2222222222222222,
              "#7201a8"
             ],
             [
              0.3333333333333333,
              "#9c179e"
             ],
             [
              0.4444444444444444,
              "#bd3786"
             ],
             [
              0.5555555555555556,
              "#d8576b"
             ],
             [
              0.6666666666666666,
              "#ed7953"
             ],
             [
              0.7777777777777778,
              "#fb9f3a"
             ],
             [
              0.8888888888888888,
              "#fdca26"
             ],
             [
              1,
              "#f0f921"
             ]
            ],
            "type": "heatmap"
           }
          ],
          "histogram": [
           {
            "marker": {
             "pattern": {
              "fillmode": "overlay",
              "size": 10,
              "solidity": 0.2
             }
            },
            "type": "histogram"
           }
          ],
          "histogram2d": [
           {
            "colorbar": {
             "outlinewidth": 0,
             "ticks": ""
            },
            "colorscale": [
             [
              0,
              "#0d0887"
             ],
             [
              0.1111111111111111,
              "#46039f"
             ],
             [
              0.2222222222222222,
              "#7201a8"
             ],
             [
              0.3333333333333333,
              "#9c179e"
             ],
             [
              0.4444444444444444,
              "#bd3786"
             ],
             [
              0.5555555555555556,
              "#d8576b"
             ],
             [
              0.6666666666666666,
              "#ed7953"
             ],
             [
              0.7777777777777778,
              "#fb9f3a"
             ],
             [
              0.8888888888888888,
              "#fdca26"
             ],
             [
              1,
              "#f0f921"
             ]
            ],
            "type": "histogram2d"
           }
          ],
          "histogram2dcontour": [
           {
            "colorbar": {
             "outlinewidth": 0,
             "ticks": ""
            },
            "colorscale": [
             [
              0,
              "#0d0887"
             ],
             [
              0.1111111111111111,
              "#46039f"
             ],
             [
              0.2222222222222222,
              "#7201a8"
             ],
             [
              0.3333333333333333,
              "#9c179e"
             ],
             [
              0.4444444444444444,
              "#bd3786"
             ],
             [
              0.5555555555555556,
              "#d8576b"
             ],
             [
              0.6666666666666666,
              "#ed7953"
             ],
             [
              0.7777777777777778,
              "#fb9f3a"
             ],
             [
              0.8888888888888888,
              "#fdca26"
             ],
             [
              1,
              "#f0f921"
             ]
            ],
            "type": "histogram2dcontour"
           }
          ],
          "mesh3d": [
           {
            "colorbar": {
             "outlinewidth": 0,
             "ticks": ""
            },
            "type": "mesh3d"
           }
          ],
          "parcoords": [
           {
            "line": {
             "colorbar": {
              "outlinewidth": 0,
              "ticks": ""
             }
            },
            "type": "parcoords"
           }
          ],
          "pie": [
           {
            "automargin": true,
            "type": "pie"
           }
          ],
          "scatter": [
           {
            "fillpattern": {
             "fillmode": "overlay",
             "size": 10,
             "solidity": 0.2
            },
            "type": "scatter"
           }
          ],
          "scatter3d": [
           {
            "line": {
             "colorbar": {
              "outlinewidth": 0,
              "ticks": ""
             }
            },
            "marker": {
             "colorbar": {
              "outlinewidth": 0,
              "ticks": ""
             }
            },
            "type": "scatter3d"
           }
          ],
          "scattercarpet": [
           {
            "marker": {
             "colorbar": {
              "outlinewidth": 0,
              "ticks": ""
             }
            },
            "type": "scattercarpet"
           }
          ],
          "scattergeo": [
           {
            "marker": {
             "colorbar": {
              "outlinewidth": 0,
              "ticks": ""
             }
            },
            "type": "scattergeo"
           }
          ],
          "scattergl": [
           {
            "marker": {
             "colorbar": {
              "outlinewidth": 0,
              "ticks": ""
             }
            },
            "type": "scattergl"
           }
          ],
          "scattermap": [
           {
            "marker": {
             "colorbar": {
              "outlinewidth": 0,
              "ticks": ""
             }
            },
            "type": "scattermap"
           }
          ],
          "scattermapbox": [
           {
            "marker": {
             "colorbar": {
              "outlinewidth": 0,
              "ticks": ""
             }
            },
            "type": "scattermapbox"
           }
          ],
          "scatterpolar": [
           {
            "marker": {
             "colorbar": {
              "outlinewidth": 0,
              "ticks": ""
             }
            },
            "type": "scatterpolar"
           }
          ],
          "scatterpolargl": [
           {
            "marker": {
             "colorbar": {
              "outlinewidth": 0,
              "ticks": ""
             }
            },
            "type": "scatterpolargl"
           }
          ],
          "scatterternary": [
           {
            "marker": {
             "colorbar": {
              "outlinewidth": 0,
              "ticks": ""
             }
            },
            "type": "scatterternary"
           }
          ],
          "surface": [
           {
            "colorbar": {
             "outlinewidth": 0,
             "ticks": ""
            },
            "colorscale": [
             [
              0,
              "#0d0887"
             ],
             [
              0.1111111111111111,
              "#46039f"
             ],
             [
              0.2222222222222222,
              "#7201a8"
             ],
             [
              0.3333333333333333,
              "#9c179e"
             ],
             [
              0.4444444444444444,
              "#bd3786"
             ],
             [
              0.5555555555555556,
              "#d8576b"
             ],
             [
              0.6666666666666666,
              "#ed7953"
             ],
             [
              0.7777777777777778,
              "#fb9f3a"
             ],
             [
              0.8888888888888888,
              "#fdca26"
             ],
             [
              1,
              "#f0f921"
             ]
            ],
            "type": "surface"
           }
          ],
          "table": [
           {
            "cells": {
             "fill": {
              "color": "#EBF0F8"
             },
             "line": {
              "color": "white"
             }
            },
            "header": {
             "fill": {
              "color": "#C8D4E3"
             },
             "line": {
              "color": "white"
             }
            },
            "type": "table"
           }
          ]
         },
         "layout": {
          "annotationdefaults": {
           "arrowcolor": "#2a3f5f",
           "arrowhead": 0,
           "arrowwidth": 1
          },
          "autotypenumbers": "strict",
          "coloraxis": {
           "colorbar": {
            "outlinewidth": 0,
            "ticks": ""
           }
          },
          "colorscale": {
           "diverging": [
            [
             0,
             "#8e0152"
            ],
            [
             0.1,
             "#c51b7d"
            ],
            [
             0.2,
             "#de77ae"
            ],
            [
             0.3,
             "#f1b6da"
            ],
            [
             0.4,
             "#fde0ef"
            ],
            [
             0.5,
             "#f7f7f7"
            ],
            [
             0.6,
             "#e6f5d0"
            ],
            [
             0.7,
             "#b8e186"
            ],
            [
             0.8,
             "#7fbc41"
            ],
            [
             0.9,
             "#4d9221"
            ],
            [
             1,
             "#276419"
            ]
           ],
           "sequential": [
            [
             0,
             "#0d0887"
            ],
            [
             0.1111111111111111,
             "#46039f"
            ],
            [
             0.2222222222222222,
             "#7201a8"
            ],
            [
             0.3333333333333333,
             "#9c179e"
            ],
            [
             0.4444444444444444,
             "#bd3786"
            ],
            [
             0.5555555555555556,
             "#d8576b"
            ],
            [
             0.6666666666666666,
             "#ed7953"
            ],
            [
             0.7777777777777778,
             "#fb9f3a"
            ],
            [
             0.8888888888888888,
             "#fdca26"
            ],
            [
             1,
             "#f0f921"
            ]
           ],
           "sequentialminus": [
            [
             0,
             "#0d0887"
            ],
            [
             0.1111111111111111,
             "#46039f"
            ],
            [
             0.2222222222222222,
             "#7201a8"
            ],
            [
             0.3333333333333333,
             "#9c179e"
            ],
            [
             0.4444444444444444,
             "#bd3786"
            ],
            [
             0.5555555555555556,
             "#d8576b"
            ],
            [
             0.6666666666666666,
             "#ed7953"
            ],
            [
             0.7777777777777778,
             "#fb9f3a"
            ],
            [
             0.8888888888888888,
             "#fdca26"
            ],
            [
             1,
             "#f0f921"
            ]
           ]
          },
          "colorway": [
           "#636efa",
           "#EF553B",
           "#00cc96",
           "#ab63fa",
           "#FFA15A",
           "#19d3f3",
           "#FF6692",
           "#B6E880",
           "#FF97FF",
           "#FECB52"
          ],
          "font": {
           "color": "#2a3f5f"
          },
          "geo": {
           "bgcolor": "white",
           "lakecolor": "white",
           "landcolor": "#E5ECF6",
           "showlakes": true,
           "showland": true,
           "subunitcolor": "white"
          },
          "hoverlabel": {
           "align": "left"
          },
          "hovermode": "closest",
          "mapbox": {
           "style": "light"
          },
          "paper_bgcolor": "white",
          "plot_bgcolor": "#E5ECF6",
          "polar": {
           "angularaxis": {
            "gridcolor": "white",
            "linecolor": "white",
            "ticks": ""
           },
           "bgcolor": "#E5ECF6",
           "radialaxis": {
            "gridcolor": "white",
            "linecolor": "white",
            "ticks": ""
           }
          },
          "scene": {
           "xaxis": {
            "backgroundcolor": "#E5ECF6",
            "gridcolor": "white",
            "gridwidth": 2,
            "linecolor": "white",
            "showbackground": true,
            "ticks": "",
            "zerolinecolor": "white"
           },
           "yaxis": {
            "backgroundcolor": "#E5ECF6",
            "gridcolor": "white",
            "gridwidth": 2,
            "linecolor": "white",
            "showbackground": true,
            "ticks": "",
            "zerolinecolor": "white"
           },
           "zaxis": {
            "backgroundcolor": "#E5ECF6",
            "gridcolor": "white",
            "gridwidth": 2,
            "linecolor": "white",
            "showbackground": true,
            "ticks": "",
            "zerolinecolor": "white"
           }
          },
          "shapedefaults": {
           "line": {
            "color": "#2a3f5f"
           }
          },
          "ternary": {
           "aaxis": {
            "gridcolor": "white",
            "linecolor": "white",
            "ticks": ""
           },
           "baxis": {
            "gridcolor": "white",
            "linecolor": "white",
            "ticks": ""
           },
           "bgcolor": "#E5ECF6",
           "caxis": {
            "gridcolor": "white",
            "linecolor": "white",
            "ticks": ""
           }
          },
          "title": {
           "x": 0.05
          },
          "xaxis": {
           "automargin": true,
           "gridcolor": "white",
           "linecolor": "white",
           "ticks": "",
           "title": {
            "standoff": 15
           },
           "zerolinecolor": "white",
           "zerolinewidth": 2
          },
          "yaxis": {
           "automargin": true,
           "gridcolor": "white",
           "linecolor": "white",
           "ticks": "",
           "title": {
            "standoff": 15
           },
           "zerolinecolor": "white",
           "zerolinewidth": 2
          }
         }
        },
        "title": {
         "text": "Parallel Coordinates: Usage, Utilization & Credit Limit by Customer Status"
        },
        "width": 800
       }
      }
     },
     "metadata": {},
     "output_type": "display_data"
    }
   ],
   "source": [
    "bc_numeric = bc.copy()\n",
    "bc_numeric['Customer_Status_Numeric'] = bc['Customer_Status'].map({\n",
    "    'Existing Customer': 0, \n",
    "    'Attrited Customer': 1\n",
    "})\n",
    "fig = px.parallel_coordinates(bc_numeric, \n",
    "                            dimensions=['Avg_Utilization_Ratio', bc.columns[-1], 'Credit_Limit'],\n",
    "                            color='Customer_Status_Numeric',\n",
    "                            title='Parallel Coordinates: Usage, Utilization & Credit Limit by Customer Status',\n",
    "                            color_continuous_scale=[[0, 'blue'], [1, 'red']])\n",
    "fig.update_layout(\n",
    "    width=800,\n",
    "    height=600\n",
    ")\n",
    "fig.show()"
   ]
  },
  {
   "cell_type": "markdown",
   "id": "733cb4e8",
   "metadata": {},
   "source": [
    "As we can see from the parallel coordinates graph above, "
   ]
  },
  {
   "cell_type": "code",
   "execution_count": 16,
   "id": "5a5d1b4a",
   "metadata": {},
   "outputs": [
    {
     "data": {
      "application/vnd.plotly.v1+json": {
       "config": {
        "plotlyServerURL": "https://plot.ly"
       },
       "data": [
        {
         "branchvalues": "total",
         "domain": {
          "x": [
           0,
           1
          ],
          "y": [
           0,
           1
          ]
         },
         "hovertemplate": "<b>%{label}</b><br>Count: %{value}<br><extra></extra>",
         "ids": [
          "Existing Customer/F/Unknown",
          "Attrited Customer/M/$40K - $60K",
          "Existing Customer/M/Less than $40K",
          "Existing Customer/M/$60K - $80K",
          "Existing Customer/F/Less than $40K",
          "Existing Customer/M/$40K - $60K",
          "Attrited Customer/F/Unknown",
          "Attrited Customer/M/$80K - $120K",
          "Attrited Customer/F/Less than $40K",
          "Existing Customer/M/$80K - $120K",
          "Existing Customer/F/$40K - $60K",
          "Existing Customer/M/$120K +",
          "Attrited Customer/F/$40K - $60K",
          "Existing Customer/M/Unknown",
          "Attrited Customer/M/$120K +",
          "Attrited Customer/M/$60K - $80K",
          "Existing Customer/F",
          "Attrited Customer/M",
          "Existing Customer/M",
          "Attrited Customer/F",
          "Existing Customer",
          "Attrited Customer"
         ],
         "labels": [
          "Unknown",
          "$40K - $60K",
          "Less than $40K",
          "$60K - $80K",
          "Less than $40K",
          "$40K - $60K",
          "Unknown",
          "$80K - $120K",
          "Less than $40K",
          "$80K - $120K",
          "$40K - $60K",
          "$120K +",
          "$40K - $60K",
          "Unknown",
          "$120K +",
          "$60K - $80K",
          "F",
          "M",
          "M",
          "F",
          "Existing Customer",
          "Attrited Customer"
         ],
         "marker": {
          "line": {
           "color": "darkred",
           "width": 2
          }
         },
         "name": "",
         "parents": [
          "Existing Customer/F",
          "Attrited Customer/M",
          "Existing Customer/M",
          "Existing Customer/M",
          "Existing Customer/F",
          "Existing Customer/M",
          "Attrited Customer/F",
          "Attrited Customer/M",
          "Attrited Customer/F",
          "Existing Customer/M",
          "Existing Customer/F",
          "Existing Customer/M",
          "Attrited Customer/F",
          "Existing Customer/M",
          "Attrited Customer/M",
          "Attrited Customer/M",
          "Existing Customer",
          "Attrited Customer",
          "Existing Customer",
          "Attrited Customer",
          "",
          ""
         ],
         "textinfo": "label+percent parent",
         "type": "sunburst",
         "values": {
          "bdata": "FAAEAAIAEgBBAAsAAwADABIADQASAAwABAABAAEAAwBnAAsAOQAZAKAAJAA=",
          "dtype": "i2"
         }
        }
       ],
       "layout": {
        "height": 700,
        "legend": {
         "tracegroupgap": 0
        },
        "sunburstcolorway": [
         "#FF6B6B",
         "#4ECDC4",
         "#45B7D1",
         "#96CEB4",
         "#FECA57",
         "#F38BA8",
         "#A8E6CF"
        ],
        "template": {
         "data": {
          "bar": [
           {
            "error_x": {
             "color": "#2a3f5f"
            },
            "error_y": {
             "color": "#2a3f5f"
            },
            "marker": {
             "line": {
              "color": "#E5ECF6",
              "width": 0.5
             },
             "pattern": {
              "fillmode": "overlay",
              "size": 10,
              "solidity": 0.2
             }
            },
            "type": "bar"
           }
          ],
          "barpolar": [
           {
            "marker": {
             "line": {
              "color": "#E5ECF6",
              "width": 0.5
             },
             "pattern": {
              "fillmode": "overlay",
              "size": 10,
              "solidity": 0.2
             }
            },
            "type": "barpolar"
           }
          ],
          "carpet": [
           {
            "aaxis": {
             "endlinecolor": "#2a3f5f",
             "gridcolor": "white",
             "linecolor": "white",
             "minorgridcolor": "white",
             "startlinecolor": "#2a3f5f"
            },
            "baxis": {
             "endlinecolor": "#2a3f5f",
             "gridcolor": "white",
             "linecolor": "white",
             "minorgridcolor": "white",
             "startlinecolor": "#2a3f5f"
            },
            "type": "carpet"
           }
          ],
          "choropleth": [
           {
            "colorbar": {
             "outlinewidth": 0,
             "ticks": ""
            },
            "type": "choropleth"
           }
          ],
          "contour": [
           {
            "colorbar": {
             "outlinewidth": 0,
             "ticks": ""
            },
            "colorscale": [
             [
              0,
              "#0d0887"
             ],
             [
              0.1111111111111111,
              "#46039f"
             ],
             [
              0.2222222222222222,
              "#7201a8"
             ],
             [
              0.3333333333333333,
              "#9c179e"
             ],
             [
              0.4444444444444444,
              "#bd3786"
             ],
             [
              0.5555555555555556,
              "#d8576b"
             ],
             [
              0.6666666666666666,
              "#ed7953"
             ],
             [
              0.7777777777777778,
              "#fb9f3a"
             ],
             [
              0.8888888888888888,
              "#fdca26"
             ],
             [
              1,
              "#f0f921"
             ]
            ],
            "type": "contour"
           }
          ],
          "contourcarpet": [
           {
            "colorbar": {
             "outlinewidth": 0,
             "ticks": ""
            },
            "type": "contourcarpet"
           }
          ],
          "heatmap": [
           {
            "colorbar": {
             "outlinewidth": 0,
             "ticks": ""
            },
            "colorscale": [
             [
              0,
              "#0d0887"
             ],
             [
              0.1111111111111111,
              "#46039f"
             ],
             [
              0.2222222222222222,
              "#7201a8"
             ],
             [
              0.3333333333333333,
              "#9c179e"
             ],
             [
              0.4444444444444444,
              "#bd3786"
             ],
             [
              0.5555555555555556,
              "#d8576b"
             ],
             [
              0.6666666666666666,
              "#ed7953"
             ],
             [
              0.7777777777777778,
              "#fb9f3a"
             ],
             [
              0.8888888888888888,
              "#fdca26"
             ],
             [
              1,
              "#f0f921"
             ]
            ],
            "type": "heatmap"
           }
          ],
          "histogram": [
           {
            "marker": {
             "pattern": {
              "fillmode": "overlay",
              "size": 10,
              "solidity": 0.2
             }
            },
            "type": "histogram"
           }
          ],
          "histogram2d": [
           {
            "colorbar": {
             "outlinewidth": 0,
             "ticks": ""
            },
            "colorscale": [
             [
              0,
              "#0d0887"
             ],
             [
              0.1111111111111111,
              "#46039f"
             ],
             [
              0.2222222222222222,
              "#7201a8"
             ],
             [
              0.3333333333333333,
              "#9c179e"
             ],
             [
              0.4444444444444444,
              "#bd3786"
             ],
             [
              0.5555555555555556,
              "#d8576b"
             ],
             [
              0.6666666666666666,
              "#ed7953"
             ],
             [
              0.7777777777777778,
              "#fb9f3a"
             ],
             [
              0.8888888888888888,
              "#fdca26"
             ],
             [
              1,
              "#f0f921"
             ]
            ],
            "type": "histogram2d"
           }
          ],
          "histogram2dcontour": [
           {
            "colorbar": {
             "outlinewidth": 0,
             "ticks": ""
            },
            "colorscale": [
             [
              0,
              "#0d0887"
             ],
             [
              0.1111111111111111,
              "#46039f"
             ],
             [
              0.2222222222222222,
              "#7201a8"
             ],
             [
              0.3333333333333333,
              "#9c179e"
             ],
             [
              0.4444444444444444,
              "#bd3786"
             ],
             [
              0.5555555555555556,
              "#d8576b"
             ],
             [
              0.6666666666666666,
              "#ed7953"
             ],
             [
              0.7777777777777778,
              "#fb9f3a"
             ],
             [
              0.8888888888888888,
              "#fdca26"
             ],
             [
              1,
              "#f0f921"
             ]
            ],
            "type": "histogram2dcontour"
           }
          ],
          "mesh3d": [
           {
            "colorbar": {
             "outlinewidth": 0,
             "ticks": ""
            },
            "type": "mesh3d"
           }
          ],
          "parcoords": [
           {
            "line": {
             "colorbar": {
              "outlinewidth": 0,
              "ticks": ""
             }
            },
            "type": "parcoords"
           }
          ],
          "pie": [
           {
            "automargin": true,
            "type": "pie"
           }
          ],
          "scatter": [
           {
            "fillpattern": {
             "fillmode": "overlay",
             "size": 10,
             "solidity": 0.2
            },
            "type": "scatter"
           }
          ],
          "scatter3d": [
           {
            "line": {
             "colorbar": {
              "outlinewidth": 0,
              "ticks": ""
             }
            },
            "marker": {
             "colorbar": {
              "outlinewidth": 0,
              "ticks": ""
             }
            },
            "type": "scatter3d"
           }
          ],
          "scattercarpet": [
           {
            "marker": {
             "colorbar": {
              "outlinewidth": 0,
              "ticks": ""
             }
            },
            "type": "scattercarpet"
           }
          ],
          "scattergeo": [
           {
            "marker": {
             "colorbar": {
              "outlinewidth": 0,
              "ticks": ""
             }
            },
            "type": "scattergeo"
           }
          ],
          "scattergl": [
           {
            "marker": {
             "colorbar": {
              "outlinewidth": 0,
              "ticks": ""
             }
            },
            "type": "scattergl"
           }
          ],
          "scattermap": [
           {
            "marker": {
             "colorbar": {
              "outlinewidth": 0,
              "ticks": ""
             }
            },
            "type": "scattermap"
           }
          ],
          "scattermapbox": [
           {
            "marker": {
             "colorbar": {
              "outlinewidth": 0,
              "ticks": ""
             }
            },
            "type": "scattermapbox"
           }
          ],
          "scatterpolar": [
           {
            "marker": {
             "colorbar": {
              "outlinewidth": 0,
              "ticks": ""
             }
            },
            "type": "scatterpolar"
           }
          ],
          "scatterpolargl": [
           {
            "marker": {
             "colorbar": {
              "outlinewidth": 0,
              "ticks": ""
             }
            },
            "type": "scatterpolargl"
           }
          ],
          "scatterternary": [
           {
            "marker": {
             "colorbar": {
              "outlinewidth": 0,
              "ticks": ""
             }
            },
            "type": "scatterternary"
           }
          ],
          "surface": [
           {
            "colorbar": {
             "outlinewidth": 0,
             "ticks": ""
            },
            "colorscale": [
             [
              0,
              "#0d0887"
             ],
             [
              0.1111111111111111,
              "#46039f"
             ],
             [
              0.2222222222222222,
              "#7201a8"
             ],
             [
              0.3333333333333333,
              "#9c179e"
             ],
             [
              0.4444444444444444,
              "#bd3786"
             ],
             [
              0.5555555555555556,
              "#d8576b"
             ],
             [
              0.6666666666666666,
              "#ed7953"
             ],
             [
              0.7777777777777778,
              "#fb9f3a"
             ],
             [
              0.8888888888888888,
              "#fdca26"
             ],
             [
              1,
              "#f0f921"
             ]
            ],
            "type": "surface"
           }
          ],
          "table": [
           {
            "cells": {
             "fill": {
              "color": "#EBF0F8"
             },
             "line": {
              "color": "white"
             }
            },
            "header": {
             "fill": {
              "color": "#C8D4E3"
             },
             "line": {
              "color": "white"
             }
            },
            "type": "table"
           }
          ]
         },
         "layout": {
          "annotationdefaults": {
           "arrowcolor": "#2a3f5f",
           "arrowhead": 0,
           "arrowwidth": 1
          },
          "autotypenumbers": "strict",
          "coloraxis": {
           "colorbar": {
            "outlinewidth": 0,
            "ticks": ""
           }
          },
          "colorscale": {
           "diverging": [
            [
             0,
             "#8e0152"
            ],
            [
             0.1,
             "#c51b7d"
            ],
            [
             0.2,
             "#de77ae"
            ],
            [
             0.3,
             "#f1b6da"
            ],
            [
             0.4,
             "#fde0ef"
            ],
            [
             0.5,
             "#f7f7f7"
            ],
            [
             0.6,
             "#e6f5d0"
            ],
            [
             0.7,
             "#b8e186"
            ],
            [
             0.8,
             "#7fbc41"
            ],
            [
             0.9,
             "#4d9221"
            ],
            [
             1,
             "#276419"
            ]
           ],
           "sequential": [
            [
             0,
             "#0d0887"
            ],
            [
             0.1111111111111111,
             "#46039f"
            ],
            [
             0.2222222222222222,
             "#7201a8"
            ],
            [
             0.3333333333333333,
             "#9c179e"
            ],
            [
             0.4444444444444444,
             "#bd3786"
            ],
            [
             0.5555555555555556,
             "#d8576b"
            ],
            [
             0.6666666666666666,
             "#ed7953"
            ],
            [
             0.7777777777777778,
             "#fb9f3a"
            ],
            [
             0.8888888888888888,
             "#fdca26"
            ],
            [
             1,
             "#f0f921"
            ]
           ],
           "sequentialminus": [
            [
             0,
             "#0d0887"
            ],
            [
             0.1111111111111111,
             "#46039f"
            ],
            [
             0.2222222222222222,
             "#7201a8"
            ],
            [
             0.3333333333333333,
             "#9c179e"
            ],
            [
             0.4444444444444444,
             "#bd3786"
            ],
            [
             0.5555555555555556,
             "#d8576b"
            ],
            [
             0.6666666666666666,
             "#ed7953"
            ],
            [
             0.7777777777777778,
             "#fb9f3a"
            ],
            [
             0.8888888888888888,
             "#fdca26"
            ],
            [
             1,
             "#f0f921"
            ]
           ]
          },
          "colorway": [
           "#636efa",
           "#EF553B",
           "#00cc96",
           "#ab63fa",
           "#FFA15A",
           "#19d3f3",
           "#FF6692",
           "#B6E880",
           "#FF97FF",
           "#FECB52"
          ],
          "font": {
           "color": "#2a3f5f"
          },
          "geo": {
           "bgcolor": "white",
           "lakecolor": "white",
           "landcolor": "#E5ECF6",
           "showlakes": true,
           "showland": true,
           "subunitcolor": "white"
          },
          "hoverlabel": {
           "align": "left"
          },
          "hovermode": "closest",
          "mapbox": {
           "style": "light"
          },
          "paper_bgcolor": "white",
          "plot_bgcolor": "#E5ECF6",
          "polar": {
           "angularaxis": {
            "gridcolor": "white",
            "linecolor": "white",
            "ticks": ""
           },
           "bgcolor": "#E5ECF6",
           "radialaxis": {
            "gridcolor": "white",
            "linecolor": "white",
            "ticks": ""
           }
          },
          "scene": {
           "xaxis": {
            "backgroundcolor": "#E5ECF6",
            "gridcolor": "white",
            "gridwidth": 2,
            "linecolor": "white",
            "showbackground": true,
            "ticks": "",
            "zerolinecolor": "white"
           },
           "yaxis": {
            "backgroundcolor": "#E5ECF6",
            "gridcolor": "white",
            "gridwidth": 2,
            "linecolor": "white",
            "showbackground": true,
            "ticks": "",
            "zerolinecolor": "white"
           },
           "zaxis": {
            "backgroundcolor": "#E5ECF6",
            "gridcolor": "white",
            "gridwidth": 2,
            "linecolor": "white",
            "showbackground": true,
            "ticks": "",
            "zerolinecolor": "white"
           }
          },
          "shapedefaults": {
           "line": {
            "color": "#2a3f5f"
           }
          },
          "ternary": {
           "aaxis": {
            "gridcolor": "white",
            "linecolor": "white",
            "ticks": ""
           },
           "baxis": {
            "gridcolor": "white",
            "linecolor": "white",
            "ticks": ""
           },
           "bgcolor": "#E5ECF6",
           "caxis": {
            "gridcolor": "white",
            "linecolor": "white",
            "ticks": ""
           }
          },
          "title": {
           "x": 0.05
          },
          "xaxis": {
           "automargin": true,
           "gridcolor": "white",
           "linecolor": "white",
           "ticks": "",
           "title": {
            "standoff": 15
           },
           "zerolinecolor": "white",
           "zerolinewidth": 2
          },
          "yaxis": {
           "automargin": true,
           "gridcolor": "white",
           "linecolor": "white",
           "ticks": "",
           "title": {
            "standoff": 15
           },
           "zerolinecolor": "white",
           "zerolinewidth": 2
          }
         }
        },
        "title": {
         "text": "Comparison Between Customer Status, Gender and Income Level"
        },
        "width": 700
       }
      }
     },
     "metadata": {},
     "output_type": "display_data"
    }
   ],
   "source": [
    "# Create custom colors with red for attrited customers\n",
    "custom_colors = ['#FF6B6B', '#4ECDC4', '#45B7D1', '#96CEB4', '#FECA57', '#F38BA8', '#A8E6CF']\n",
    "\n",
    "fig = px.sunburst(bc, \n",
    "                 path=['Customer_Status', 'Gender', 'Income_Level'],\n",
    "                 title='Comparison Between Customer Status, Gender and Income Level',\n",
    "                 color_discrete_sequence=custom_colors)\n",
    "\n",
    "fig.update_traces(\n",
    "    hovertemplate='<b>%{label}</b><br>' +\n",
    "                  'Count: %{value}<br>' +\n",
    "                  '<extra></extra>',\n",
    "    textinfo=\"label+percent parent\",\n",
    "    marker=dict(\n",
    "        line=dict(\n",
    "            color=\"darkred\",\n",
    "            width=2\n",
    "        )\n",
    "    )\n",
    ")\n",
    "\n",
    "fig.update_layout(\n",
    "    width=700,\n",
    "    height=700\n",
    ")\n",
    "\n",
    "fig.show()"
   ]
  },
  {
   "cell_type": "markdown",
   "id": "689d9490",
   "metadata": {},
   "source": [
    "This graph ghjkjhgfghjkjhg"
   ]
  },
  {
   "cell_type": "code",
   "execution_count": 11,
   "id": "63244c53",
   "metadata": {},
   "outputs": [
    {
     "data": {
      "application/vnd.plotly.v1+json": {
       "config": {
        "plotlyServerURL": "https://plot.ly"
       },
       "data": [
        {
         "hovertemplate": "Customer_Status=Existing Customer<br>Transaction Count=%{x}<br>Total Transaction Amount ($)=%{y}<extra></extra>",
         "legendgroup": "Existing Customer",
         "marker": {
          "color": "blue",
          "line": {
           "color": "DarkSlateGray",
           "width": 1
          },
          "symbol": "circle"
         },
         "mode": "markers",
         "name": "Existing Customer",
         "orientation": "v",
         "showlegend": true,
         "type": "scatter",
         "x": {
          "bdata": "OFxDV0hPJlhSQjpYUzgmJEA3OEI3S1I2PTFHPUNHU0ktTT1UHSY3LkpXKFNSRR09PGBCFyciU11IIitaV0dXRU4iSU01RUU+UEVMRjAoOURDQSpcSCs+PUJCS0dPL1dUHkpaSBpUSlkwPE9QSkceWU9RSU1XREVOIzEpVBspSlJUZkpaFU1SJ0hOQUYlVF5MTE9JSipDSkUoM0o4KDZUJQ==",
          "dtype": "i1"
         },
         "xaxis": "x",
         "y": {
          "bdata": "6AZ8IO0MqRAFCmwSOAWYE+cgLxJVDkgRwRHQCO0GXQZGCO8GHQnnDLQJ7BHaEIMMFAsYBpkR+gtDDskSlhI8EdEFKBCMDn8UmwXUBioHlwaiEpcQ3QWoHz4TmAkTBcoNvRGVEQMQkgRLBOwEXRCxHMEQ/gVKBgIS5RK6Ef0dWgr0E1AHZxB+D9cJeQ+dESYQIhTYDkMO9w+fBfIG2giGENYJxxHmBQMVzQ+iB84R6g4IDisOFxB8ELkP1Qd/EgUerAQOEJcTYhDfA9AR/Q5kEbUIkBAwECIT2BFtEUcFiA5sDl8QWRKSEnwQNA4XExgThgV5B8UE+xOGBWYGRRF/EfEbkxBXEB0U/ASvD6cPnwUtETQUuA0hEw0H2BC3E+cRABASEU8UghCPCJAQag+cEW8HUAcCEKkJjgYOCQASwAU=",
          "dtype": "i2"
         },
         "yaxis": "y"
        },
        {
         "hovertemplate": "Customer_Status=Attrited Customer<br>Transaction Count=%{x}<br>Total Transaction Amount ($)=%{y}<extra></extra>",
         "legendgroup": "Attrited Customer",
         "marker": {
          "color": "red",
          "line": {
           "color": "DarkSlateGray",
           "width": 1
          },
          "symbol": "circle"
         },
         "mode": "markers",
         "name": "Attrited Customer",
         "orientation": "v",
         "showlegend": true,
         "type": "scatter",
         "x": {
          "bdata": "Qi0gJhIsN0EVPx8uESk5FSgzIRswEy0qNSs5Ky1DJyomNDIr",
          "dtype": "i1"
         },
         "xaxis": "x",
         "y": {
          "bdata": "ASAwCjEGLAiUA+cJPAiWEi8D1AmhA+0IHwNlB8QSdgNcCB4J3wfeBDMSdANOCMwIywkrBxUKpAmJCl8IgAhLBnoF+woUDREL",
          "dtype": "i2"
         },
         "yaxis": "y"
        }
       ],
       "layout": {
        "height": 600,
        "legend": {
         "title": {
          "text": "Customer_Status"
         },
         "tracegroupgap": 0
        },
        "template": {
         "data": {
          "bar": [
           {
            "error_x": {
             "color": "#2a3f5f"
            },
            "error_y": {
             "color": "#2a3f5f"
            },
            "marker": {
             "line": {
              "color": "#E5ECF6",
              "width": 0.5
             },
             "pattern": {
              "fillmode": "overlay",
              "size": 10,
              "solidity": 0.2
             }
            },
            "type": "bar"
           }
          ],
          "barpolar": [
           {
            "marker": {
             "line": {
              "color": "#E5ECF6",
              "width": 0.5
             },
             "pattern": {
              "fillmode": "overlay",
              "size": 10,
              "solidity": 0.2
             }
            },
            "type": "barpolar"
           }
          ],
          "carpet": [
           {
            "aaxis": {
             "endlinecolor": "#2a3f5f",
             "gridcolor": "white",
             "linecolor": "white",
             "minorgridcolor": "white",
             "startlinecolor": "#2a3f5f"
            },
            "baxis": {
             "endlinecolor": "#2a3f5f",
             "gridcolor": "white",
             "linecolor": "white",
             "minorgridcolor": "white",
             "startlinecolor": "#2a3f5f"
            },
            "type": "carpet"
           }
          ],
          "choropleth": [
           {
            "colorbar": {
             "outlinewidth": 0,
             "ticks": ""
            },
            "type": "choropleth"
           }
          ],
          "contour": [
           {
            "colorbar": {
             "outlinewidth": 0,
             "ticks": ""
            },
            "colorscale": [
             [
              0,
              "#0d0887"
             ],
             [
              0.1111111111111111,
              "#46039f"
             ],
             [
              0.2222222222222222,
              "#7201a8"
             ],
             [
              0.3333333333333333,
              "#9c179e"
             ],
             [
              0.4444444444444444,
              "#bd3786"
             ],
             [
              0.5555555555555556,
              "#d8576b"
             ],
             [
              0.6666666666666666,
              "#ed7953"
             ],
             [
              0.7777777777777778,
              "#fb9f3a"
             ],
             [
              0.8888888888888888,
              "#fdca26"
             ],
             [
              1,
              "#f0f921"
             ]
            ],
            "type": "contour"
           }
          ],
          "contourcarpet": [
           {
            "colorbar": {
             "outlinewidth": 0,
             "ticks": ""
            },
            "type": "contourcarpet"
           }
          ],
          "heatmap": [
           {
            "colorbar": {
             "outlinewidth": 0,
             "ticks": ""
            },
            "colorscale": [
             [
              0,
              "#0d0887"
             ],
             [
              0.1111111111111111,
              "#46039f"
             ],
             [
              0.2222222222222222,
              "#7201a8"
             ],
             [
              0.3333333333333333,
              "#9c179e"
             ],
             [
              0.4444444444444444,
              "#bd3786"
             ],
             [
              0.5555555555555556,
              "#d8576b"
             ],
             [
              0.6666666666666666,
              "#ed7953"
             ],
             [
              0.7777777777777778,
              "#fb9f3a"
             ],
             [
              0.8888888888888888,
              "#fdca26"
             ],
             [
              1,
              "#f0f921"
             ]
            ],
            "type": "heatmap"
           }
          ],
          "histogram": [
           {
            "marker": {
             "pattern": {
              "fillmode": "overlay",
              "size": 10,
              "solidity": 0.2
             }
            },
            "type": "histogram"
           }
          ],
          "histogram2d": [
           {
            "colorbar": {
             "outlinewidth": 0,
             "ticks": ""
            },
            "colorscale": [
             [
              0,
              "#0d0887"
             ],
             [
              0.1111111111111111,
              "#46039f"
             ],
             [
              0.2222222222222222,
              "#7201a8"
             ],
             [
              0.3333333333333333,
              "#9c179e"
             ],
             [
              0.4444444444444444,
              "#bd3786"
             ],
             [
              0.5555555555555556,
              "#d8576b"
             ],
             [
              0.6666666666666666,
              "#ed7953"
             ],
             [
              0.7777777777777778,
              "#fb9f3a"
             ],
             [
              0.8888888888888888,
              "#fdca26"
             ],
             [
              1,
              "#f0f921"
             ]
            ],
            "type": "histogram2d"
           }
          ],
          "histogram2dcontour": [
           {
            "colorbar": {
             "outlinewidth": 0,
             "ticks": ""
            },
            "colorscale": [
             [
              0,
              "#0d0887"
             ],
             [
              0.1111111111111111,
              "#46039f"
             ],
             [
              0.2222222222222222,
              "#7201a8"
             ],
             [
              0.3333333333333333,
              "#9c179e"
             ],
             [
              0.4444444444444444,
              "#bd3786"
             ],
             [
              0.5555555555555556,
              "#d8576b"
             ],
             [
              0.6666666666666666,
              "#ed7953"
             ],
             [
              0.7777777777777778,
              "#fb9f3a"
             ],
             [
              0.8888888888888888,
              "#fdca26"
             ],
             [
              1,
              "#f0f921"
             ]
            ],
            "type": "histogram2dcontour"
           }
          ],
          "mesh3d": [
           {
            "colorbar": {
             "outlinewidth": 0,
             "ticks": ""
            },
            "type": "mesh3d"
           }
          ],
          "parcoords": [
           {
            "line": {
             "colorbar": {
              "outlinewidth": 0,
              "ticks": ""
             }
            },
            "type": "parcoords"
           }
          ],
          "pie": [
           {
            "automargin": true,
            "type": "pie"
           }
          ],
          "scatter": [
           {
            "fillpattern": {
             "fillmode": "overlay",
             "size": 10,
             "solidity": 0.2
            },
            "type": "scatter"
           }
          ],
          "scatter3d": [
           {
            "line": {
             "colorbar": {
              "outlinewidth": 0,
              "ticks": ""
             }
            },
            "marker": {
             "colorbar": {
              "outlinewidth": 0,
              "ticks": ""
             }
            },
            "type": "scatter3d"
           }
          ],
          "scattercarpet": [
           {
            "marker": {
             "colorbar": {
              "outlinewidth": 0,
              "ticks": ""
             }
            },
            "type": "scattercarpet"
           }
          ],
          "scattergeo": [
           {
            "marker": {
             "colorbar": {
              "outlinewidth": 0,
              "ticks": ""
             }
            },
            "type": "scattergeo"
           }
          ],
          "scattergl": [
           {
            "marker": {
             "colorbar": {
              "outlinewidth": 0,
              "ticks": ""
             }
            },
            "type": "scattergl"
           }
          ],
          "scattermap": [
           {
            "marker": {
             "colorbar": {
              "outlinewidth": 0,
              "ticks": ""
             }
            },
            "type": "scattermap"
           }
          ],
          "scattermapbox": [
           {
            "marker": {
             "colorbar": {
              "outlinewidth": 0,
              "ticks": ""
             }
            },
            "type": "scattermapbox"
           }
          ],
          "scatterpolar": [
           {
            "marker": {
             "colorbar": {
              "outlinewidth": 0,
              "ticks": ""
             }
            },
            "type": "scatterpolar"
           }
          ],
          "scatterpolargl": [
           {
            "marker": {
             "colorbar": {
              "outlinewidth": 0,
              "ticks": ""
             }
            },
            "type": "scatterpolargl"
           }
          ],
          "scatterternary": [
           {
            "marker": {
             "colorbar": {
              "outlinewidth": 0,
              "ticks": ""
             }
            },
            "type": "scatterternary"
           }
          ],
          "surface": [
           {
            "colorbar": {
             "outlinewidth": 0,
             "ticks": ""
            },
            "colorscale": [
             [
              0,
              "#0d0887"
             ],
             [
              0.1111111111111111,
              "#46039f"
             ],
             [
              0.2222222222222222,
              "#7201a8"
             ],
             [
              0.3333333333333333,
              "#9c179e"
             ],
             [
              0.4444444444444444,
              "#bd3786"
             ],
             [
              0.5555555555555556,
              "#d8576b"
             ],
             [
              0.6666666666666666,
              "#ed7953"
             ],
             [
              0.7777777777777778,
              "#fb9f3a"
             ],
             [
              0.8888888888888888,
              "#fdca26"
             ],
             [
              1,
              "#f0f921"
             ]
            ],
            "type": "surface"
           }
          ],
          "table": [
           {
            "cells": {
             "fill": {
              "color": "#EBF0F8"
             },
             "line": {
              "color": "white"
             }
            },
            "header": {
             "fill": {
              "color": "#C8D4E3"
             },
             "line": {
              "color": "white"
             }
            },
            "type": "table"
           }
          ]
         },
         "layout": {
          "annotationdefaults": {
           "arrowcolor": "#2a3f5f",
           "arrowhead": 0,
           "arrowwidth": 1
          },
          "autotypenumbers": "strict",
          "coloraxis": {
           "colorbar": {
            "outlinewidth": 0,
            "ticks": ""
           }
          },
          "colorscale": {
           "diverging": [
            [
             0,
             "#8e0152"
            ],
            [
             0.1,
             "#c51b7d"
            ],
            [
             0.2,
             "#de77ae"
            ],
            [
             0.3,
             "#f1b6da"
            ],
            [
             0.4,
             "#fde0ef"
            ],
            [
             0.5,
             "#f7f7f7"
            ],
            [
             0.6,
             "#e6f5d0"
            ],
            [
             0.7,
             "#b8e186"
            ],
            [
             0.8,
             "#7fbc41"
            ],
            [
             0.9,
             "#4d9221"
            ],
            [
             1,
             "#276419"
            ]
           ],
           "sequential": [
            [
             0,
             "#0d0887"
            ],
            [
             0.1111111111111111,
             "#46039f"
            ],
            [
             0.2222222222222222,
             "#7201a8"
            ],
            [
             0.3333333333333333,
             "#9c179e"
            ],
            [
             0.4444444444444444,
             "#bd3786"
            ],
            [
             0.5555555555555556,
             "#d8576b"
            ],
            [
             0.6666666666666666,
             "#ed7953"
            ],
            [
             0.7777777777777778,
             "#fb9f3a"
            ],
            [
             0.8888888888888888,
             "#fdca26"
            ],
            [
             1,
             "#f0f921"
            ]
           ],
           "sequentialminus": [
            [
             0,
             "#0d0887"
            ],
            [
             0.1111111111111111,
             "#46039f"
            ],
            [
             0.2222222222222222,
             "#7201a8"
            ],
            [
             0.3333333333333333,
             "#9c179e"
            ],
            [
             0.4444444444444444,
             "#bd3786"
            ],
            [
             0.5555555555555556,
             "#d8576b"
            ],
            [
             0.6666666666666666,
             "#ed7953"
            ],
            [
             0.7777777777777778,
             "#fb9f3a"
            ],
            [
             0.8888888888888888,
             "#fdca26"
            ],
            [
             1,
             "#f0f921"
            ]
           ]
          },
          "colorway": [
           "#636efa",
           "#EF553B",
           "#00cc96",
           "#ab63fa",
           "#FFA15A",
           "#19d3f3",
           "#FF6692",
           "#B6E880",
           "#FF97FF",
           "#FECB52"
          ],
          "font": {
           "color": "#2a3f5f"
          },
          "geo": {
           "bgcolor": "white",
           "lakecolor": "white",
           "landcolor": "#E5ECF6",
           "showlakes": true,
           "showland": true,
           "subunitcolor": "white"
          },
          "hoverlabel": {
           "align": "left"
          },
          "hovermode": "closest",
          "mapbox": {
           "style": "light"
          },
          "paper_bgcolor": "white",
          "plot_bgcolor": "#E5ECF6",
          "polar": {
           "angularaxis": {
            "gridcolor": "white",
            "linecolor": "white",
            "ticks": ""
           },
           "bgcolor": "#E5ECF6",
           "radialaxis": {
            "gridcolor": "white",
            "linecolor": "white",
            "ticks": ""
           }
          },
          "scene": {
           "xaxis": {
            "backgroundcolor": "#E5ECF6",
            "gridcolor": "white",
            "gridwidth": 2,
            "linecolor": "white",
            "showbackground": true,
            "ticks": "",
            "zerolinecolor": "white"
           },
           "yaxis": {
            "backgroundcolor": "#E5ECF6",
            "gridcolor": "white",
            "gridwidth": 2,
            "linecolor": "white",
            "showbackground": true,
            "ticks": "",
            "zerolinecolor": "white"
           },
           "zaxis": {
            "backgroundcolor": "#E5ECF6",
            "gridcolor": "white",
            "gridwidth": 2,
            "linecolor": "white",
            "showbackground": true,
            "ticks": "",
            "zerolinecolor": "white"
           }
          },
          "shapedefaults": {
           "line": {
            "color": "#2a3f5f"
           }
          },
          "ternary": {
           "aaxis": {
            "gridcolor": "white",
            "linecolor": "white",
            "ticks": ""
           },
           "baxis": {
            "gridcolor": "white",
            "linecolor": "white",
            "ticks": ""
           },
           "bgcolor": "#E5ECF6",
           "caxis": {
            "gridcolor": "white",
            "linecolor": "white",
            "ticks": ""
           }
          },
          "title": {
           "x": 0.05
          },
          "xaxis": {
           "automargin": true,
           "gridcolor": "white",
           "linecolor": "white",
           "ticks": "",
           "title": {
            "standoff": 15
           },
           "zerolinecolor": "white",
           "zerolinewidth": 2
          },
          "yaxis": {
           "automargin": true,
           "gridcolor": "white",
           "linecolor": "white",
           "ticks": "",
           "title": {
            "standoff": 15
           },
           "zerolinecolor": "white",
           "zerolinewidth": 2
          }
         }
        },
        "title": {
         "text": "Transaction Count vs Transaction Amount by Customer Status"
        },
        "width": 900,
        "xaxis": {
         "anchor": "y",
         "domain": [
          0,
          1
         ],
         "title": {
          "text": "Transaction Count"
         }
        },
        "yaxis": {
         "anchor": "x",
         "domain": [
          0,
          1
         ],
         "title": {
          "text": "Total Transaction Amount ($)"
         }
        }
       }
      }
     },
     "metadata": {},
     "output_type": "display_data"
    }
   ],
   "source": [
    "# Interactive scatter plot: Customer Status Analysis\n",
    "fig = px.scatter(bc, \n",
    "                x='Total_Trans_Count', \n",
    "                y='Total_Trans_Amount',\n",
    "                color='Customer_Status',\n",
    "                title='Transaction Count vs Transaction Amount by Customer Status',\n",
    "                labels={\n",
    "                    'Total_Trans_Count': 'Transaction Count',\n",
    "                    'Total_Trans_Amount': 'Total Transaction Amount ($)'\n",
    "                },\n",
    "                color_discrete_map={\n",
    "                    'Existing Customer': 'blue',\n",
    "                    'Attrited Customer': 'red'\n",
    "                })\n",
    "\n",
    "fig.update_traces(marker=dict(line=dict(width=1, color='DarkSlateGray')))\n",
    "fig.update_layout(\n",
    "    width=900,\n",
    "    height=600,\n",
    "    xaxis_title='Transaction Count',\n",
    "    yaxis_title='Total Transaction Amount ($)'\n",
    ")\n",
    "\n",
    "fig.show()"
   ]
  },
  {
   "cell_type": "markdown",
   "id": "a765054c",
   "metadata": {},
   "source": [
    "The scatter plot allows for the visualisation of "
   ]
  },
  {
   "cell_type": "code",
   "execution_count": 63,
   "id": "94298825",
   "metadata": {},
   "outputs": [
    {
     "data": {
      "application/vnd.plotly.v1+json": {
       "config": {
        "plotlyServerURL": "https://plot.ly"
       },
       "data": [
        {
         "dimensions": [
          {
           "label": "Avg_Utilization_Ratio",
           "values": {
            "bdata": "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",
            "dtype": "f8"
           }
          },
          {
           "label": "Credit_Limit",
           "values": {
            "bdata": "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",
            "dtype": "f8"
           }
          }
         ],
         "domain": {
          "x": [
           0,
           1
          ],
          "y": [
           0,
           1
          ]
         },
         "line": {
          "color": {
           "bdata": "AAEAAAAAAAABAAABAQAAAQAAAAAAAAAAAAAAAAEAAAAAAAAAAAAAAAEAAAAAAAEBAQABAAAAAAAAAAAAAAAAAAAAAAEAAAAAAQAAAAAAAAAAAQAAAAAAAAAAAAAAAAEAAAAAAAAAAAEAAAABAQAAAQAAAQAAAAAAAAAAAQAAAAAAAQEAAAABAQAAAAABAAEAAAAAAAEBAAAAAAABAAAAAAAAAAABAAAAAAABAAEAAAABAAAAAAAAAAAAAAAAAAAAAAABAQ==",
           "dtype": "i1"
          },
          "coloraxis": "coloraxis"
         },
         "name": "",
         "type": "parcoords"
        },
        {
         "line": {
          "color": "blue",
          "width": 3
         },
         "mode": "lines",
         "name": "Existing Customer",
         "showlegend": true,
         "type": "scatter",
         "x": [
          null
         ],
         "y": [
          null
         ]
        },
        {
         "line": {
          "color": "red",
          "width": 3
         },
         "mode": "lines",
         "name": "Attrited Customer",
         "showlegend": true,
         "type": "scatter",
         "x": [
          null
         ],
         "y": [
          null
         ]
        }
       ],
       "layout": {
        "coloraxis": {
         "colorbar": {
          "title": {
           "text": "Customer_Status_Numeric"
          }
         },
         "colorscale": [
          [
           0,
           "blue"
          ],
          [
           1,
           "red"
          ]
         ],
         "showscale": false
        },
        "height": 600,
        "legend": {
         "bgcolor": "rgba(255,255,255,0.8)",
         "bordercolor": "black",
         "borderwidth": 1,
         "tracegroupgap": 0,
         "x": 1.02,
         "y": 1
        },
        "margin": {
         "r": 150
        },
        "template": {
         "data": {
          "bar": [
           {
            "error_x": {
             "color": "#2a3f5f"
            },
            "error_y": {
             "color": "#2a3f5f"
            },
            "marker": {
             "line": {
              "color": "#E5ECF6",
              "width": 0.5
             },
             "pattern": {
              "fillmode": "overlay",
              "size": 10,
              "solidity": 0.2
             }
            },
            "type": "bar"
           }
          ],
          "barpolar": [
           {
            "marker": {
             "line": {
              "color": "#E5ECF6",
              "width": 0.5
             },
             "pattern": {
              "fillmode": "overlay",
              "size": 10,
              "solidity": 0.2
             }
            },
            "type": "barpolar"
           }
          ],
          "carpet": [
           {
            "aaxis": {
             "endlinecolor": "#2a3f5f",
             "gridcolor": "white",
             "linecolor": "white",
             "minorgridcolor": "white",
             "startlinecolor": "#2a3f5f"
            },
            "baxis": {
             "endlinecolor": "#2a3f5f",
             "gridcolor": "white",
             "linecolor": "white",
             "minorgridcolor": "white",
             "startlinecolor": "#2a3f5f"
            },
            "type": "carpet"
           }
          ],
          "choropleth": [
           {
            "colorbar": {
             "outlinewidth": 0,
             "ticks": ""
            },
            "type": "choropleth"
           }
          ],
          "contour": [
           {
            "colorbar": {
             "outlinewidth": 0,
             "ticks": ""
            },
            "colorscale": [
             [
              0,
              "#0d0887"
             ],
             [
              0.1111111111111111,
              "#46039f"
             ],
             [
              0.2222222222222222,
              "#7201a8"
             ],
             [
              0.3333333333333333,
              "#9c179e"
             ],
             [
              0.4444444444444444,
              "#bd3786"
             ],
             [
              0.5555555555555556,
              "#d8576b"
             ],
             [
              0.6666666666666666,
              "#ed7953"
             ],
             [
              0.7777777777777778,
              "#fb9f3a"
             ],
             [
              0.8888888888888888,
              "#fdca26"
             ],
             [
              1,
              "#f0f921"
             ]
            ],
            "type": "contour"
           }
          ],
          "contourcarpet": [
           {
            "colorbar": {
             "outlinewidth": 0,
             "ticks": ""
            },
            "type": "contourcarpet"
           }
          ],
          "heatmap": [
           {
            "colorbar": {
             "outlinewidth": 0,
             "ticks": ""
            },
            "colorscale": [
             [
              0,
              "#0d0887"
             ],
             [
              0.1111111111111111,
              "#46039f"
             ],
             [
              0.2222222222222222,
              "#7201a8"
             ],
             [
              0.3333333333333333,
              "#9c179e"
             ],
             [
              0.4444444444444444,
              "#bd3786"
             ],
             [
              0.5555555555555556,
              "#d8576b"
             ],
             [
              0.6666666666666666,
              "#ed7953"
             ],
             [
              0.7777777777777778,
              "#fb9f3a"
             ],
             [
              0.8888888888888888,
              "#fdca26"
             ],
             [
              1,
              "#f0f921"
             ]
            ],
            "type": "heatmap"
           }
          ],
          "histogram": [
           {
            "marker": {
             "pattern": {
              "fillmode": "overlay",
              "size": 10,
              "solidity": 0.2
             }
            },
            "type": "histogram"
           }
          ],
          "histogram2d": [
           {
            "colorbar": {
             "outlinewidth": 0,
             "ticks": ""
            },
            "colorscale": [
             [
              0,
              "#0d0887"
             ],
             [
              0.1111111111111111,
              "#46039f"
             ],
             [
              0.2222222222222222,
              "#7201a8"
             ],
             [
              0.3333333333333333,
              "#9c179e"
             ],
             [
              0.4444444444444444,
              "#bd3786"
             ],
             [
              0.5555555555555556,
              "#d8576b"
             ],
             [
              0.6666666666666666,
              "#ed7953"
             ],
             [
              0.7777777777777778,
              "#fb9f3a"
             ],
             [
              0.8888888888888888,
              "#fdca26"
             ],
             [
              1,
              "#f0f921"
             ]
            ],
            "type": "histogram2d"
           }
          ],
          "histogram2dcontour": [
           {
            "colorbar": {
             "outlinewidth": 0,
             "ticks": ""
            },
            "colorscale": [
             [
              0,
              "#0d0887"
             ],
             [
              0.1111111111111111,
              "#46039f"
             ],
             [
              0.2222222222222222,
              "#7201a8"
             ],
             [
              0.3333333333333333,
              "#9c179e"
             ],
             [
              0.4444444444444444,
              "#bd3786"
             ],
             [
              0.5555555555555556,
              "#d8576b"
             ],
             [
              0.6666666666666666,
              "#ed7953"
             ],
             [
              0.7777777777777778,
              "#fb9f3a"
             ],
             [
              0.8888888888888888,
              "#fdca26"
             ],
             [
              1,
              "#f0f921"
             ]
            ],
            "type": "histogram2dcontour"
           }
          ],
          "mesh3d": [
           {
            "colorbar": {
             "outlinewidth": 0,
             "ticks": ""
            },
            "type": "mesh3d"
           }
          ],
          "parcoords": [
           {
            "line": {
             "colorbar": {
              "outlinewidth": 0,
              "ticks": ""
             }
            },
            "type": "parcoords"
           }
          ],
          "pie": [
           {
            "automargin": true,
            "type": "pie"
           }
          ],
          "scatter": [
           {
            "fillpattern": {
             "fillmode": "overlay",
             "size": 10,
             "solidity": 0.2
            },
            "type": "scatter"
           }
          ],
          "scatter3d": [
           {
            "line": {
             "colorbar": {
              "outlinewidth": 0,
              "ticks": ""
             }
            },
            "marker": {
             "colorbar": {
              "outlinewidth": 0,
              "ticks": ""
             }
            },
            "type": "scatter3d"
           }
          ],
          "scattercarpet": [
           {
            "marker": {
             "colorbar": {
              "outlinewidth": 0,
              "ticks": ""
             }
            },
            "type": "scattercarpet"
           }
          ],
          "scattergeo": [
           {
            "marker": {
             "colorbar": {
              "outlinewidth": 0,
              "ticks": ""
             }
            },
            "type": "scattergeo"
           }
          ],
          "scattergl": [
           {
            "marker": {
             "colorbar": {
              "outlinewidth": 0,
              "ticks": ""
             }
            },
            "type": "scattergl"
           }
          ],
          "scattermap": [
           {
            "marker": {
             "colorbar": {
              "outlinewidth": 0,
              "ticks": ""
             }
            },
            "type": "scattermap"
           }
          ],
          "scattermapbox": [
           {
            "marker": {
             "colorbar": {
              "outlinewidth": 0,
              "ticks": ""
             }
            },
            "type": "scattermapbox"
           }
          ],
          "scatterpolar": [
           {
            "marker": {
             "colorbar": {
              "outlinewidth": 0,
              "ticks": ""
             }
            },
            "type": "scatterpolar"
           }
          ],
          "scatterpolargl": [
           {
            "marker": {
             "colorbar": {
              "outlinewidth": 0,
              "ticks": ""
             }
            },
            "type": "scatterpolargl"
           }
          ],
          "scatterternary": [
           {
            "marker": {
             "colorbar": {
              "outlinewidth": 0,
              "ticks": ""
             }
            },
            "type": "scatterternary"
           }
          ],
          "surface": [
           {
            "colorbar": {
             "outlinewidth": 0,
             "ticks": ""
            },
            "colorscale": [
             [
              0,
              "#0d0887"
             ],
             [
              0.1111111111111111,
              "#46039f"
             ],
             [
              0.2222222222222222,
              "#7201a8"
             ],
             [
              0.3333333333333333,
              "#9c179e"
             ],
             [
              0.4444444444444444,
              "#bd3786"
             ],
             [
              0.5555555555555556,
              "#d8576b"
             ],
             [
              0.6666666666666666,
              "#ed7953"
             ],
             [
              0.7777777777777778,
              "#fb9f3a"
             ],
             [
              0.8888888888888888,
              "#fdca26"
             ],
             [
              1,
              "#f0f921"
             ]
            ],
            "type": "surface"
           }
          ],
          "table": [
           {
            "cells": {
             "fill": {
              "color": "#EBF0F8"
             },
             "line": {
              "color": "white"
             }
            },
            "header": {
             "fill": {
              "color": "#C8D4E3"
             },
             "line": {
              "color": "white"
             }
            },
            "type": "table"
           }
          ]
         },
         "layout": {
          "annotationdefaults": {
           "arrowcolor": "#2a3f5f",
           "arrowhead": 0,
           "arrowwidth": 1
          },
          "autotypenumbers": "strict",
          "coloraxis": {
           "colorbar": {
            "outlinewidth": 0,
            "ticks": ""
           }
          },
          "colorscale": {
           "diverging": [
            [
             0,
             "#8e0152"
            ],
            [
             0.1,
             "#c51b7d"
            ],
            [
             0.2,
             "#de77ae"
            ],
            [
             0.3,
             "#f1b6da"
            ],
            [
             0.4,
             "#fde0ef"
            ],
            [
             0.5,
             "#f7f7f7"
            ],
            [
             0.6,
             "#e6f5d0"
            ],
            [
             0.7,
             "#b8e186"
            ],
            [
             0.8,
             "#7fbc41"
            ],
            [
             0.9,
             "#4d9221"
            ],
            [
             1,
             "#276419"
            ]
           ],
           "sequential": [
            [
             0,
             "#0d0887"
            ],
            [
             0.1111111111111111,
             "#46039f"
            ],
            [
             0.2222222222222222,
             "#7201a8"
            ],
            [
             0.3333333333333333,
             "#9c179e"
            ],
            [
             0.4444444444444444,
             "#bd3786"
            ],
            [
             0.5555555555555556,
             "#d8576b"
            ],
            [
             0.6666666666666666,
             "#ed7953"
            ],
            [
             0.7777777777777778,
             "#fb9f3a"
            ],
            [
             0.8888888888888888,
             "#fdca26"
            ],
            [
             1,
             "#f0f921"
            ]
           ],
           "sequentialminus": [
            [
             0,
             "#0d0887"
            ],
            [
             0.1111111111111111,
             "#46039f"
            ],
            [
             0.2222222222222222,
             "#7201a8"
            ],
            [
             0.3333333333333333,
             "#9c179e"
            ],
            [
             0.4444444444444444,
             "#bd3786"
            ],
            [
             0.5555555555555556,
             "#d8576b"
            ],
            [
             0.6666666666666666,
             "#ed7953"
            ],
            [
             0.7777777777777778,
             "#fb9f3a"
            ],
            [
             0.8888888888888888,
             "#fdca26"
            ],
            [
             1,
             "#f0f921"
            ]
           ]
          },
          "colorway": [
           "#636efa",
           "#EF553B",
           "#00cc96",
           "#ab63fa",
           "#FFA15A",
           "#19d3f3",
           "#FF6692",
           "#B6E880",
           "#FF97FF",
           "#FECB52"
          ],
          "font": {
           "color": "#2a3f5f"
          },
          "geo": {
           "bgcolor": "white",
           "lakecolor": "white",
           "landcolor": "#E5ECF6",
           "showlakes": true,
           "showland": true,
           "subunitcolor": "white"
          },
          "hoverlabel": {
           "align": "left"
          },
          "hovermode": "closest",
          "mapbox": {
           "style": "light"
          },
          "paper_bgcolor": "white",
          "plot_bgcolor": "#E5ECF6",
          "polar": {
           "angularaxis": {
            "gridcolor": "white",
            "linecolor": "white",
            "ticks": ""
           },
           "bgcolor": "#E5ECF6",
           "radialaxis": {
            "gridcolor": "white",
            "linecolor": "white",
            "ticks": ""
           }
          },
          "scene": {
           "xaxis": {
            "backgroundcolor": "#E5ECF6",
            "gridcolor": "white",
            "gridwidth": 2,
            "linecolor": "white",
            "showbackground": true,
            "ticks": "",
            "zerolinecolor": "white"
           },
           "yaxis": {
            "backgroundcolor": "#E5ECF6",
            "gridcolor": "white",
            "gridwidth": 2,
            "linecolor": "white",
            "showbackground": true,
            "ticks": "",
            "zerolinecolor": "white"
           },
           "zaxis": {
            "backgroundcolor": "#E5ECF6",
            "gridcolor": "white",
            "gridwidth": 2,
            "linecolor": "white",
            "showbackground": true,
            "ticks": "",
            "zerolinecolor": "white"
           }
          },
          "shapedefaults": {
           "line": {
            "color": "#2a3f5f"
           }
          },
          "ternary": {
           "aaxis": {
            "gridcolor": "white",
            "linecolor": "white",
            "ticks": ""
           },
           "baxis": {
            "gridcolor": "white",
            "linecolor": "white",
            "ticks": ""
           },
           "bgcolor": "#E5ECF6",
           "caxis": {
            "gridcolor": "white",
            "linecolor": "white",
            "ticks": ""
           }
          },
          "title": {
           "x": 0.05
          },
          "xaxis": {
           "automargin": true,
           "gridcolor": "white",
           "linecolor": "white",
           "ticks": "",
           "title": {
            "standoff": 15
           },
           "zerolinecolor": "white",
           "zerolinewidth": 2
          },
          "yaxis": {
           "automargin": true,
           "gridcolor": "white",
           "linecolor": "white",
           "ticks": "",
           "title": {
            "standoff": 15
           },
           "zerolinecolor": "white",
           "zerolinewidth": 2
          }
         }
        },
        "title": {
         "text": "Parallel Coordinates: Usage, Utilization & Credit Limit by Customer Status"
        },
        "width": 900
       }
      }
     },
     "metadata": {},
     "output_type": "display_data"
    }
   ],
   "source": [
    "bc_numeric = bc.copy()\n",
    "bc_numeric['Customer_Status_Numeric'] = bc['Customer_Status'].map({\n",
    "    'Existing Customer': 0, \n",
    "    'Attrited Customer': 1\n",
    "})\n",
    "\n",
    "fig = px.parallel_coordinates(bc_numeric, \n",
    "                            dimensions=['Avg_Utilization_Ratio', bc.columns[-1], 'Credit_Limit'],\n",
    "                            color='Customer_Status_Numeric',\n",
    "                            title='Parallel Coordinates: Usage, Utilization & Credit Limit by Customer Status',\n",
    "                            color_continuous_scale=[[0, 'blue'], [1, 'red']])\n",
    "\n",
    "# Remove the default colorbar\n",
    "fig.update_coloraxes(showscale=False)\n",
    "\n",
    "# Add custom legend using dummy traces\n",
    "fig.add_trace(go.Scatter(x=[None], y=[None], mode='lines',\n",
    "                        line=dict(color='blue', width=3),\n",
    "                        name='Existing Customer',\n",
    "                        showlegend=True))\n",
    "\n",
    "fig.add_trace(go.Scatter(x=[None], y=[None], mode='lines',\n",
    "                        line=dict(color='red', width=3),\n",
    "                        name='Attrited Customer',\n",
    "                        showlegend=True))\n",
    "\n",
    "fig.update_layout(\n",
    "    width=900,\n",
    "    height=600,\n",
    "    legend=dict(\n",
    "        x=1.02,\n",
    "        y=1,\n",
    "        bgcolor='rgba(255,255,255,0.8)',\n",
    "        bordercolor='black',\n",
    "        borderwidth=1\n",
    "    ),\n",
    "    margin=dict(r=150)\n",
    ")\n",
    "\n",
    "fig.show()"
   ]
  },
  {
   "cell_type": "markdown",
   "id": "6a5b23df",
   "metadata": {},
   "source": [
    "cfghjkjhgf"
   ]
  }
 ],
 "metadata": {
  "kernelspec": {
   "display_name": "Python 3",
   "language": "python",
   "name": "python3"
  },
  "language_info": {
   "codemirror_mode": {
    "name": "ipython",
    "version": 3
   },
   "file_extension": ".py",
   "mimetype": "text/x-python",
   "name": "python",
   "nbconvert_exporter": "python",
   "pygments_lexer": "ipython3",
   "version": "3.12.8"
  }
 },
 "nbformat": 4,
 "nbformat_minor": 5
}
